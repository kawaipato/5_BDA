{
  "nbformat": 4,
  "nbformat_minor": 0,
  "metadata": {
    "colab": {
      "provenance": []
    },
    "kernelspec": {
      "name": "python3",
      "display_name": "Python 3"
    },
    "language_info": {
      "name": "python"
    }
  },
  "cells": [
    {
      "cell_type": "code",
      "execution_count": 1,
      "metadata": {
        "id": "Wrz1oSqLXukO"
      },
      "outputs": [],
      "source": [
        "import pandas as pd\n",
        "import numpy as np"
      ]
    },
    {
      "cell_type": "code",
      "source": [
        "df22=pd.read_excel(r\"1-1. 2022 외래관광객조사_Data.xlsx\")"
      ],
      "metadata": {
        "id": "lOC-4vrjZMwt"
      },
      "execution_count": 18,
      "outputs": []
    },
    {
      "cell_type": "code",
      "source": [
        "df22.head()"
      ],
      "metadata": {
        "colab": {
          "base_uri": "https://localhost:8080/",
          "height": 235
        },
        "id": "BoJJcrW1lfxU",
        "outputId": "b1006327-3656-4694-e5b8-b1709244ca76"
      },
      "execution_count": 20,
      "outputs": [
        {
          "output_type": "execute_result",
          "data": {
            "text/plain": [
              "    id  Q1  RQ1  Q3  Q3B1  Q3B2  Q3B3  Q4  Q4A01  Q4A02  ...  Q9  D_MON  \\\n",
              "0  276   1    1   4   NaN   NaN   NaN   1    1.0    2.0  ...   5      1   \n",
              "1  283   1    1   4   NaN   NaN   NaN   1    1.0    2.0  ...   5      1   \n",
              "2  286   1    1   4   NaN   NaN   NaN   1    1.0    2.0  ...   5      1   \n",
              "3  289   4    4   2  13.0   NaN   NaN   1    1.0    2.0  ...   5      1   \n",
              "4  300   1    1   4   NaN   NaN   NaN   1    1.0    2.0  ...   5      1   \n",
              "\n",
              "   D_BUN  D_NAT  D_SEX  D_AGE  D_MOK  D_PLA  D_Q1  D_TYP  \n",
              "0      1     13      2      2      4      2     1    1.0  \n",
              "1      1     13      2      2      4      2     1    1.0  \n",
              "2      1     13      1      2      4      2     1    NaN  \n",
              "3      1     13      1      2      2      2     4    1.0  \n",
              "4      1      2      2      2      4      3     1    1.0  \n",
              "\n",
              "[5 rows x 188 columns]"
            ],
            "text/html": [
              "\n",
              "  <div id=\"df-20bbeec3-8f96-42f5-aa1c-7722e596a4dc\" class=\"colab-df-container\">\n",
              "    <div>\n",
              "<style scoped>\n",
              "    .dataframe tbody tr th:only-of-type {\n",
              "        vertical-align: middle;\n",
              "    }\n",
              "\n",
              "    .dataframe tbody tr th {\n",
              "        vertical-align: top;\n",
              "    }\n",
              "\n",
              "    .dataframe thead th {\n",
              "        text-align: right;\n",
              "    }\n",
              "</style>\n",
              "<table border=\"1\" class=\"dataframe\">\n",
              "  <thead>\n",
              "    <tr style=\"text-align: right;\">\n",
              "      <th></th>\n",
              "      <th>id</th>\n",
              "      <th>Q1</th>\n",
              "      <th>RQ1</th>\n",
              "      <th>Q3</th>\n",
              "      <th>Q3B1</th>\n",
              "      <th>Q3B2</th>\n",
              "      <th>Q3B3</th>\n",
              "      <th>Q4</th>\n",
              "      <th>Q4A01</th>\n",
              "      <th>Q4A02</th>\n",
              "      <th>...</th>\n",
              "      <th>Q9</th>\n",
              "      <th>D_MON</th>\n",
              "      <th>D_BUN</th>\n",
              "      <th>D_NAT</th>\n",
              "      <th>D_SEX</th>\n",
              "      <th>D_AGE</th>\n",
              "      <th>D_MOK</th>\n",
              "      <th>D_PLA</th>\n",
              "      <th>D_Q1</th>\n",
              "      <th>D_TYP</th>\n",
              "    </tr>\n",
              "  </thead>\n",
              "  <tbody>\n",
              "    <tr>\n",
              "      <th>0</th>\n",
              "      <td>276</td>\n",
              "      <td>1</td>\n",
              "      <td>1</td>\n",
              "      <td>4</td>\n",
              "      <td>NaN</td>\n",
              "      <td>NaN</td>\n",
              "      <td>NaN</td>\n",
              "      <td>1</td>\n",
              "      <td>1.0</td>\n",
              "      <td>2.0</td>\n",
              "      <td>...</td>\n",
              "      <td>5</td>\n",
              "      <td>1</td>\n",
              "      <td>1</td>\n",
              "      <td>13</td>\n",
              "      <td>2</td>\n",
              "      <td>2</td>\n",
              "      <td>4</td>\n",
              "      <td>2</td>\n",
              "      <td>1</td>\n",
              "      <td>1.0</td>\n",
              "    </tr>\n",
              "    <tr>\n",
              "      <th>1</th>\n",
              "      <td>283</td>\n",
              "      <td>1</td>\n",
              "      <td>1</td>\n",
              "      <td>4</td>\n",
              "      <td>NaN</td>\n",
              "      <td>NaN</td>\n",
              "      <td>NaN</td>\n",
              "      <td>1</td>\n",
              "      <td>1.0</td>\n",
              "      <td>2.0</td>\n",
              "      <td>...</td>\n",
              "      <td>5</td>\n",
              "      <td>1</td>\n",
              "      <td>1</td>\n",
              "      <td>13</td>\n",
              "      <td>2</td>\n",
              "      <td>2</td>\n",
              "      <td>4</td>\n",
              "      <td>2</td>\n",
              "      <td>1</td>\n",
              "      <td>1.0</td>\n",
              "    </tr>\n",
              "    <tr>\n",
              "      <th>2</th>\n",
              "      <td>286</td>\n",
              "      <td>1</td>\n",
              "      <td>1</td>\n",
              "      <td>4</td>\n",
              "      <td>NaN</td>\n",
              "      <td>NaN</td>\n",
              "      <td>NaN</td>\n",
              "      <td>1</td>\n",
              "      <td>1.0</td>\n",
              "      <td>2.0</td>\n",
              "      <td>...</td>\n",
              "      <td>5</td>\n",
              "      <td>1</td>\n",
              "      <td>1</td>\n",
              "      <td>13</td>\n",
              "      <td>1</td>\n",
              "      <td>2</td>\n",
              "      <td>4</td>\n",
              "      <td>2</td>\n",
              "      <td>1</td>\n",
              "      <td>NaN</td>\n",
              "    </tr>\n",
              "    <tr>\n",
              "      <th>3</th>\n",
              "      <td>289</td>\n",
              "      <td>4</td>\n",
              "      <td>4</td>\n",
              "      <td>2</td>\n",
              "      <td>13.0</td>\n",
              "      <td>NaN</td>\n",
              "      <td>NaN</td>\n",
              "      <td>1</td>\n",
              "      <td>1.0</td>\n",
              "      <td>2.0</td>\n",
              "      <td>...</td>\n",
              "      <td>5</td>\n",
              "      <td>1</td>\n",
              "      <td>1</td>\n",
              "      <td>13</td>\n",
              "      <td>1</td>\n",
              "      <td>2</td>\n",
              "      <td>2</td>\n",
              "      <td>2</td>\n",
              "      <td>4</td>\n",
              "      <td>1.0</td>\n",
              "    </tr>\n",
              "    <tr>\n",
              "      <th>4</th>\n",
              "      <td>300</td>\n",
              "      <td>1</td>\n",
              "      <td>1</td>\n",
              "      <td>4</td>\n",
              "      <td>NaN</td>\n",
              "      <td>NaN</td>\n",
              "      <td>NaN</td>\n",
              "      <td>1</td>\n",
              "      <td>1.0</td>\n",
              "      <td>2.0</td>\n",
              "      <td>...</td>\n",
              "      <td>5</td>\n",
              "      <td>1</td>\n",
              "      <td>1</td>\n",
              "      <td>2</td>\n",
              "      <td>2</td>\n",
              "      <td>2</td>\n",
              "      <td>4</td>\n",
              "      <td>3</td>\n",
              "      <td>1</td>\n",
              "      <td>1.0</td>\n",
              "    </tr>\n",
              "  </tbody>\n",
              "</table>\n",
              "<p>5 rows × 188 columns</p>\n",
              "</div>\n",
              "    <div class=\"colab-df-buttons\">\n",
              "\n",
              "  <div class=\"colab-df-container\">\n",
              "    <button class=\"colab-df-convert\" onclick=\"convertToInteractive('df-20bbeec3-8f96-42f5-aa1c-7722e596a4dc')\"\n",
              "            title=\"Convert this dataframe to an interactive table.\"\n",
              "            style=\"display:none;\">\n",
              "\n",
              "  <svg xmlns=\"http://www.w3.org/2000/svg\" height=\"24px\" viewBox=\"0 -960 960 960\">\n",
              "    <path d=\"M120-120v-720h720v720H120Zm60-500h600v-160H180v160Zm220 220h160v-160H400v160Zm0 220h160v-160H400v160ZM180-400h160v-160H180v160Zm440 0h160v-160H620v160ZM180-180h160v-160H180v160Zm440 0h160v-160H620v160Z\"/>\n",
              "  </svg>\n",
              "    </button>\n",
              "\n",
              "  <style>\n",
              "    .colab-df-container {\n",
              "      display:flex;\n",
              "      gap: 12px;\n",
              "    }\n",
              "\n",
              "    .colab-df-convert {\n",
              "      background-color: #E8F0FE;\n",
              "      border: none;\n",
              "      border-radius: 50%;\n",
              "      cursor: pointer;\n",
              "      display: none;\n",
              "      fill: #1967D2;\n",
              "      height: 32px;\n",
              "      padding: 0 0 0 0;\n",
              "      width: 32px;\n",
              "    }\n",
              "\n",
              "    .colab-df-convert:hover {\n",
              "      background-color: #E2EBFA;\n",
              "      box-shadow: 0px 1px 2px rgba(60, 64, 67, 0.3), 0px 1px 3px 1px rgba(60, 64, 67, 0.15);\n",
              "      fill: #174EA6;\n",
              "    }\n",
              "\n",
              "    .colab-df-buttons div {\n",
              "      margin-bottom: 4px;\n",
              "    }\n",
              "\n",
              "    [theme=dark] .colab-df-convert {\n",
              "      background-color: #3B4455;\n",
              "      fill: #D2E3FC;\n",
              "    }\n",
              "\n",
              "    [theme=dark] .colab-df-convert:hover {\n",
              "      background-color: #434B5C;\n",
              "      box-shadow: 0px 1px 3px 1px rgba(0, 0, 0, 0.15);\n",
              "      filter: drop-shadow(0px 1px 2px rgba(0, 0, 0, 0.3));\n",
              "      fill: #FFFFFF;\n",
              "    }\n",
              "  </style>\n",
              "\n",
              "    <script>\n",
              "      const buttonEl =\n",
              "        document.querySelector('#df-20bbeec3-8f96-42f5-aa1c-7722e596a4dc button.colab-df-convert');\n",
              "      buttonEl.style.display =\n",
              "        google.colab.kernel.accessAllowed ? 'block' : 'none';\n",
              "\n",
              "      async function convertToInteractive(key) {\n",
              "        const element = document.querySelector('#df-20bbeec3-8f96-42f5-aa1c-7722e596a4dc');\n",
              "        const dataTable =\n",
              "          await google.colab.kernel.invokeFunction('convertToInteractive',\n",
              "                                                    [key], {});\n",
              "        if (!dataTable) return;\n",
              "\n",
              "        const docLinkHtml = 'Like what you see? Visit the ' +\n",
              "          '<a target=\"_blank\" href=https://colab.research.google.com/notebooks/data_table.ipynb>data table notebook</a>'\n",
              "          + ' to learn more about interactive tables.';\n",
              "        element.innerHTML = '';\n",
              "        dataTable['output_type'] = 'display_data';\n",
              "        await google.colab.output.renderOutput(dataTable, element);\n",
              "        const docLink = document.createElement('div');\n",
              "        docLink.innerHTML = docLinkHtml;\n",
              "        element.appendChild(docLink);\n",
              "      }\n",
              "    </script>\n",
              "  </div>\n",
              "\n",
              "\n",
              "<div id=\"df-fed83a56-3b3e-4e69-8f2d-b15c224caa1b\">\n",
              "  <button class=\"colab-df-quickchart\" onclick=\"quickchart('df-fed83a56-3b3e-4e69-8f2d-b15c224caa1b')\"\n",
              "            title=\"Suggest charts.\"\n",
              "            style=\"display:none;\">\n",
              "\n",
              "<svg xmlns=\"http://www.w3.org/2000/svg\" height=\"24px\"viewBox=\"0 0 24 24\"\n",
              "     width=\"24px\">\n",
              "    <g>\n",
              "        <path d=\"M19 3H5c-1.1 0-2 .9-2 2v14c0 1.1.9 2 2 2h14c1.1 0 2-.9 2-2V5c0-1.1-.9-2-2-2zM9 17H7v-7h2v7zm4 0h-2V7h2v10zm4 0h-2v-4h2v4z\"/>\n",
              "    </g>\n",
              "</svg>\n",
              "  </button>\n",
              "\n",
              "<style>\n",
              "  .colab-df-quickchart {\n",
              "      --bg-color: #E8F0FE;\n",
              "      --fill-color: #1967D2;\n",
              "      --hover-bg-color: #E2EBFA;\n",
              "      --hover-fill-color: #174EA6;\n",
              "      --disabled-fill-color: #AAA;\n",
              "      --disabled-bg-color: #DDD;\n",
              "  }\n",
              "\n",
              "  [theme=dark] .colab-df-quickchart {\n",
              "      --bg-color: #3B4455;\n",
              "      --fill-color: #D2E3FC;\n",
              "      --hover-bg-color: #434B5C;\n",
              "      --hover-fill-color: #FFFFFF;\n",
              "      --disabled-bg-color: #3B4455;\n",
              "      --disabled-fill-color: #666;\n",
              "  }\n",
              "\n",
              "  .colab-df-quickchart {\n",
              "    background-color: var(--bg-color);\n",
              "    border: none;\n",
              "    border-radius: 50%;\n",
              "    cursor: pointer;\n",
              "    display: none;\n",
              "    fill: var(--fill-color);\n",
              "    height: 32px;\n",
              "    padding: 0;\n",
              "    width: 32px;\n",
              "  }\n",
              "\n",
              "  .colab-df-quickchart:hover {\n",
              "    background-color: var(--hover-bg-color);\n",
              "    box-shadow: 0 1px 2px rgba(60, 64, 67, 0.3), 0 1px 3px 1px rgba(60, 64, 67, 0.15);\n",
              "    fill: var(--button-hover-fill-color);\n",
              "  }\n",
              "\n",
              "  .colab-df-quickchart-complete:disabled,\n",
              "  .colab-df-quickchart-complete:disabled:hover {\n",
              "    background-color: var(--disabled-bg-color);\n",
              "    fill: var(--disabled-fill-color);\n",
              "    box-shadow: none;\n",
              "  }\n",
              "\n",
              "  .colab-df-spinner {\n",
              "    border: 2px solid var(--fill-color);\n",
              "    border-color: transparent;\n",
              "    border-bottom-color: var(--fill-color);\n",
              "    animation:\n",
              "      spin 1s steps(1) infinite;\n",
              "  }\n",
              "\n",
              "  @keyframes spin {\n",
              "    0% {\n",
              "      border-color: transparent;\n",
              "      border-bottom-color: var(--fill-color);\n",
              "      border-left-color: var(--fill-color);\n",
              "    }\n",
              "    20% {\n",
              "      border-color: transparent;\n",
              "      border-left-color: var(--fill-color);\n",
              "      border-top-color: var(--fill-color);\n",
              "    }\n",
              "    30% {\n",
              "      border-color: transparent;\n",
              "      border-left-color: var(--fill-color);\n",
              "      border-top-color: var(--fill-color);\n",
              "      border-right-color: var(--fill-color);\n",
              "    }\n",
              "    40% {\n",
              "      border-color: transparent;\n",
              "      border-right-color: var(--fill-color);\n",
              "      border-top-color: var(--fill-color);\n",
              "    }\n",
              "    60% {\n",
              "      border-color: transparent;\n",
              "      border-right-color: var(--fill-color);\n",
              "    }\n",
              "    80% {\n",
              "      border-color: transparent;\n",
              "      border-right-color: var(--fill-color);\n",
              "      border-bottom-color: var(--fill-color);\n",
              "    }\n",
              "    90% {\n",
              "      border-color: transparent;\n",
              "      border-bottom-color: var(--fill-color);\n",
              "    }\n",
              "  }\n",
              "</style>\n",
              "\n",
              "  <script>\n",
              "    async function quickchart(key) {\n",
              "      const quickchartButtonEl =\n",
              "        document.querySelector('#' + key + ' button');\n",
              "      quickchartButtonEl.disabled = true;  // To prevent multiple clicks.\n",
              "      quickchartButtonEl.classList.add('colab-df-spinner');\n",
              "      try {\n",
              "        const charts = await google.colab.kernel.invokeFunction(\n",
              "            'suggestCharts', [key], {});\n",
              "      } catch (error) {\n",
              "        console.error('Error during call to suggestCharts:', error);\n",
              "      }\n",
              "      quickchartButtonEl.classList.remove('colab-df-spinner');\n",
              "      quickchartButtonEl.classList.add('colab-df-quickchart-complete');\n",
              "    }\n",
              "    (() => {\n",
              "      let quickchartButtonEl =\n",
              "        document.querySelector('#df-fed83a56-3b3e-4e69-8f2d-b15c224caa1b button');\n",
              "      quickchartButtonEl.style.display =\n",
              "        google.colab.kernel.accessAllowed ? 'block' : 'none';\n",
              "    })();\n",
              "  </script>\n",
              "</div>\n",
              "    </div>\n",
              "  </div>\n"
            ]
          },
          "metadata": {},
          "execution_count": 20
        }
      ]
    },
    {
      "cell_type": "code",
      "source": [
        "df22bet = df22[df22['D_NAT']==19]"
      ],
      "metadata": {
        "id": "1fnTaWLpp1jY"
      },
      "execution_count": 21,
      "outputs": []
    },
    {
      "cell_type": "code",
      "source": [
        "df22bet"
      ],
      "metadata": {
        "colab": {
          "base_uri": "https://localhost:8080/",
          "height": 423
        },
        "id": "F7wuFNJmqQXV",
        "outputId": "411b3f1c-e69f-4fda-8d88-4c5d870dc259"
      },
      "execution_count": 22,
      "outputs": [
        {
          "output_type": "execute_result",
          "data": {
            "text/plain": [
              "          id  Q1  RQ1  Q3  Q3B1  Q3B2  Q3B3  Q4  Q4A01  Q4A02  ...  Q9  D_MON  \\\n",
              "28       397   1    1   4   NaN   NaN   NaN   1    1.0    2.0  ...   5      1   \n",
              "30       402   1    1   4   NaN   NaN   NaN   1    1.0    2.0  ...   5      1   \n",
              "35       482   1    1   2  13.0   2.0   NaN   1    NaN    2.0  ...   5      1   \n",
              "63       627   1    1   2  13.0   NaN   NaN   1    1.0    2.0  ...   5      1   \n",
              "164     1101   1    1   4   NaN   NaN   NaN   1    1.0    2.0  ...   5      1   \n",
              "...      ...  ..  ...  ..   ...   ...   ...  ..    ...    ...  ...  ..    ...   \n",
              "18986  40227   3    3   4   NaN   NaN   NaN   1    1.0    2.0  ...   5     12   \n",
              "19248  40686   2    2   2  12.0   1.0   3.0   1    1.0    2.0  ...   5     12   \n",
              "19341  40824   1    1   4   NaN   NaN   NaN   1    1.0    2.0  ...   4     12   \n",
              "19528  41129   4    4   4   NaN   NaN   NaN   1    1.0    2.0  ...   4     12   \n",
              "19529  41134   3    3   2   1.0   3.0   2.0   1    1.0    2.0  ...   5     12   \n",
              "\n",
              "       D_BUN  D_NAT  D_SEX  D_AGE  D_MOK  D_PLA  D_Q1  D_TYP  \n",
              "28         1     19      2      2      4      1     1    NaN  \n",
              "30         1     19      2      2      4      1     1    NaN  \n",
              "35         1     19      2      3      2      1     1    NaN  \n",
              "63         1     19      2      4      2      1     1    NaN  \n",
              "164        1     19      2      2      4      1     1    NaN  \n",
              "...      ...    ...    ...    ...    ...    ...   ...    ...  \n",
              "18986      4     19      2      2      4      1     3    NaN  \n",
              "19248      4     19      2      5      2      3     2    1.0  \n",
              "19341      4     19      2      2      4      1     1    NaN  \n",
              "19528      4     19      1      2      4      3     4    1.0  \n",
              "19529      4     19      2      5      2      3     3    1.0  \n",
              "\n",
              "[152 rows x 188 columns]"
            ],
            "text/html": [
              "\n",
              "  <div id=\"df-b2887218-0f27-4986-b880-93d67a415fbc\" class=\"colab-df-container\">\n",
              "    <div>\n",
              "<style scoped>\n",
              "    .dataframe tbody tr th:only-of-type {\n",
              "        vertical-align: middle;\n",
              "    }\n",
              "\n",
              "    .dataframe tbody tr th {\n",
              "        vertical-align: top;\n",
              "    }\n",
              "\n",
              "    .dataframe thead th {\n",
              "        text-align: right;\n",
              "    }\n",
              "</style>\n",
              "<table border=\"1\" class=\"dataframe\">\n",
              "  <thead>\n",
              "    <tr style=\"text-align: right;\">\n",
              "      <th></th>\n",
              "      <th>id</th>\n",
              "      <th>Q1</th>\n",
              "      <th>RQ1</th>\n",
              "      <th>Q3</th>\n",
              "      <th>Q3B1</th>\n",
              "      <th>Q3B2</th>\n",
              "      <th>Q3B3</th>\n",
              "      <th>Q4</th>\n",
              "      <th>Q4A01</th>\n",
              "      <th>Q4A02</th>\n",
              "      <th>...</th>\n",
              "      <th>Q9</th>\n",
              "      <th>D_MON</th>\n",
              "      <th>D_BUN</th>\n",
              "      <th>D_NAT</th>\n",
              "      <th>D_SEX</th>\n",
              "      <th>D_AGE</th>\n",
              "      <th>D_MOK</th>\n",
              "      <th>D_PLA</th>\n",
              "      <th>D_Q1</th>\n",
              "      <th>D_TYP</th>\n",
              "    </tr>\n",
              "  </thead>\n",
              "  <tbody>\n",
              "    <tr>\n",
              "      <th>28</th>\n",
              "      <td>397</td>\n",
              "      <td>1</td>\n",
              "      <td>1</td>\n",
              "      <td>4</td>\n",
              "      <td>NaN</td>\n",
              "      <td>NaN</td>\n",
              "      <td>NaN</td>\n",
              "      <td>1</td>\n",
              "      <td>1.0</td>\n",
              "      <td>2.0</td>\n",
              "      <td>...</td>\n",
              "      <td>5</td>\n",
              "      <td>1</td>\n",
              "      <td>1</td>\n",
              "      <td>19</td>\n",
              "      <td>2</td>\n",
              "      <td>2</td>\n",
              "      <td>4</td>\n",
              "      <td>1</td>\n",
              "      <td>1</td>\n",
              "      <td>NaN</td>\n",
              "    </tr>\n",
              "    <tr>\n",
              "      <th>30</th>\n",
              "      <td>402</td>\n",
              "      <td>1</td>\n",
              "      <td>1</td>\n",
              "      <td>4</td>\n",
              "      <td>NaN</td>\n",
              "      <td>NaN</td>\n",
              "      <td>NaN</td>\n",
              "      <td>1</td>\n",
              "      <td>1.0</td>\n",
              "      <td>2.0</td>\n",
              "      <td>...</td>\n",
              "      <td>5</td>\n",
              "      <td>1</td>\n",
              "      <td>1</td>\n",
              "      <td>19</td>\n",
              "      <td>2</td>\n",
              "      <td>2</td>\n",
              "      <td>4</td>\n",
              "      <td>1</td>\n",
              "      <td>1</td>\n",
              "      <td>NaN</td>\n",
              "    </tr>\n",
              "    <tr>\n",
              "      <th>35</th>\n",
              "      <td>482</td>\n",
              "      <td>1</td>\n",
              "      <td>1</td>\n",
              "      <td>2</td>\n",
              "      <td>13.0</td>\n",
              "      <td>2.0</td>\n",
              "      <td>NaN</td>\n",
              "      <td>1</td>\n",
              "      <td>NaN</td>\n",
              "      <td>2.0</td>\n",
              "      <td>...</td>\n",
              "      <td>5</td>\n",
              "      <td>1</td>\n",
              "      <td>1</td>\n",
              "      <td>19</td>\n",
              "      <td>2</td>\n",
              "      <td>3</td>\n",
              "      <td>2</td>\n",
              "      <td>1</td>\n",
              "      <td>1</td>\n",
              "      <td>NaN</td>\n",
              "    </tr>\n",
              "    <tr>\n",
              "      <th>63</th>\n",
              "      <td>627</td>\n",
              "      <td>1</td>\n",
              "      <td>1</td>\n",
              "      <td>2</td>\n",
              "      <td>13.0</td>\n",
              "      <td>NaN</td>\n",
              "      <td>NaN</td>\n",
              "      <td>1</td>\n",
              "      <td>1.0</td>\n",
              "      <td>2.0</td>\n",
              "      <td>...</td>\n",
              "      <td>5</td>\n",
              "      <td>1</td>\n",
              "      <td>1</td>\n",
              "      <td>19</td>\n",
              "      <td>2</td>\n",
              "      <td>4</td>\n",
              "      <td>2</td>\n",
              "      <td>1</td>\n",
              "      <td>1</td>\n",
              "      <td>NaN</td>\n",
              "    </tr>\n",
              "    <tr>\n",
              "      <th>164</th>\n",
              "      <td>1101</td>\n",
              "      <td>1</td>\n",
              "      <td>1</td>\n",
              "      <td>4</td>\n",
              "      <td>NaN</td>\n",
              "      <td>NaN</td>\n",
              "      <td>NaN</td>\n",
              "      <td>1</td>\n",
              "      <td>1.0</td>\n",
              "      <td>2.0</td>\n",
              "      <td>...</td>\n",
              "      <td>5</td>\n",
              "      <td>1</td>\n",
              "      <td>1</td>\n",
              "      <td>19</td>\n",
              "      <td>2</td>\n",
              "      <td>2</td>\n",
              "      <td>4</td>\n",
              "      <td>1</td>\n",
              "      <td>1</td>\n",
              "      <td>NaN</td>\n",
              "    </tr>\n",
              "    <tr>\n",
              "      <th>...</th>\n",
              "      <td>...</td>\n",
              "      <td>...</td>\n",
              "      <td>...</td>\n",
              "      <td>...</td>\n",
              "      <td>...</td>\n",
              "      <td>...</td>\n",
              "      <td>...</td>\n",
              "      <td>...</td>\n",
              "      <td>...</td>\n",
              "      <td>...</td>\n",
              "      <td>...</td>\n",
              "      <td>...</td>\n",
              "      <td>...</td>\n",
              "      <td>...</td>\n",
              "      <td>...</td>\n",
              "      <td>...</td>\n",
              "      <td>...</td>\n",
              "      <td>...</td>\n",
              "      <td>...</td>\n",
              "      <td>...</td>\n",
              "      <td>...</td>\n",
              "    </tr>\n",
              "    <tr>\n",
              "      <th>18986</th>\n",
              "      <td>40227</td>\n",
              "      <td>3</td>\n",
              "      <td>3</td>\n",
              "      <td>4</td>\n",
              "      <td>NaN</td>\n",
              "      <td>NaN</td>\n",
              "      <td>NaN</td>\n",
              "      <td>1</td>\n",
              "      <td>1.0</td>\n",
              "      <td>2.0</td>\n",
              "      <td>...</td>\n",
              "      <td>5</td>\n",
              "      <td>12</td>\n",
              "      <td>4</td>\n",
              "      <td>19</td>\n",
              "      <td>2</td>\n",
              "      <td>2</td>\n",
              "      <td>4</td>\n",
              "      <td>1</td>\n",
              "      <td>3</td>\n",
              "      <td>NaN</td>\n",
              "    </tr>\n",
              "    <tr>\n",
              "      <th>19248</th>\n",
              "      <td>40686</td>\n",
              "      <td>2</td>\n",
              "      <td>2</td>\n",
              "      <td>2</td>\n",
              "      <td>12.0</td>\n",
              "      <td>1.0</td>\n",
              "      <td>3.0</td>\n",
              "      <td>1</td>\n",
              "      <td>1.0</td>\n",
              "      <td>2.0</td>\n",
              "      <td>...</td>\n",
              "      <td>5</td>\n",
              "      <td>12</td>\n",
              "      <td>4</td>\n",
              "      <td>19</td>\n",
              "      <td>2</td>\n",
              "      <td>5</td>\n",
              "      <td>2</td>\n",
              "      <td>3</td>\n",
              "      <td>2</td>\n",
              "      <td>1.0</td>\n",
              "    </tr>\n",
              "    <tr>\n",
              "      <th>19341</th>\n",
              "      <td>40824</td>\n",
              "      <td>1</td>\n",
              "      <td>1</td>\n",
              "      <td>4</td>\n",
              "      <td>NaN</td>\n",
              "      <td>NaN</td>\n",
              "      <td>NaN</td>\n",
              "      <td>1</td>\n",
              "      <td>1.0</td>\n",
              "      <td>2.0</td>\n",
              "      <td>...</td>\n",
              "      <td>4</td>\n",
              "      <td>12</td>\n",
              "      <td>4</td>\n",
              "      <td>19</td>\n",
              "      <td>2</td>\n",
              "      <td>2</td>\n",
              "      <td>4</td>\n",
              "      <td>1</td>\n",
              "      <td>1</td>\n",
              "      <td>NaN</td>\n",
              "    </tr>\n",
              "    <tr>\n",
              "      <th>19528</th>\n",
              "      <td>41129</td>\n",
              "      <td>4</td>\n",
              "      <td>4</td>\n",
              "      <td>4</td>\n",
              "      <td>NaN</td>\n",
              "      <td>NaN</td>\n",
              "      <td>NaN</td>\n",
              "      <td>1</td>\n",
              "      <td>1.0</td>\n",
              "      <td>2.0</td>\n",
              "      <td>...</td>\n",
              "      <td>4</td>\n",
              "      <td>12</td>\n",
              "      <td>4</td>\n",
              "      <td>19</td>\n",
              "      <td>1</td>\n",
              "      <td>2</td>\n",
              "      <td>4</td>\n",
              "      <td>3</td>\n",
              "      <td>4</td>\n",
              "      <td>1.0</td>\n",
              "    </tr>\n",
              "    <tr>\n",
              "      <th>19529</th>\n",
              "      <td>41134</td>\n",
              "      <td>3</td>\n",
              "      <td>3</td>\n",
              "      <td>2</td>\n",
              "      <td>1.0</td>\n",
              "      <td>3.0</td>\n",
              "      <td>2.0</td>\n",
              "      <td>1</td>\n",
              "      <td>1.0</td>\n",
              "      <td>2.0</td>\n",
              "      <td>...</td>\n",
              "      <td>5</td>\n",
              "      <td>12</td>\n",
              "      <td>4</td>\n",
              "      <td>19</td>\n",
              "      <td>2</td>\n",
              "      <td>5</td>\n",
              "      <td>2</td>\n",
              "      <td>3</td>\n",
              "      <td>3</td>\n",
              "      <td>1.0</td>\n",
              "    </tr>\n",
              "  </tbody>\n",
              "</table>\n",
              "<p>152 rows × 188 columns</p>\n",
              "</div>\n",
              "    <div class=\"colab-df-buttons\">\n",
              "\n",
              "  <div class=\"colab-df-container\">\n",
              "    <button class=\"colab-df-convert\" onclick=\"convertToInteractive('df-b2887218-0f27-4986-b880-93d67a415fbc')\"\n",
              "            title=\"Convert this dataframe to an interactive table.\"\n",
              "            style=\"display:none;\">\n",
              "\n",
              "  <svg xmlns=\"http://www.w3.org/2000/svg\" height=\"24px\" viewBox=\"0 -960 960 960\">\n",
              "    <path d=\"M120-120v-720h720v720H120Zm60-500h600v-160H180v160Zm220 220h160v-160H400v160Zm0 220h160v-160H400v160ZM180-400h160v-160H180v160Zm440 0h160v-160H620v160ZM180-180h160v-160H180v160Zm440 0h160v-160H620v160Z\"/>\n",
              "  </svg>\n",
              "    </button>\n",
              "\n",
              "  <style>\n",
              "    .colab-df-container {\n",
              "      display:flex;\n",
              "      gap: 12px;\n",
              "    }\n",
              "\n",
              "    .colab-df-convert {\n",
              "      background-color: #E8F0FE;\n",
              "      border: none;\n",
              "      border-radius: 50%;\n",
              "      cursor: pointer;\n",
              "      display: none;\n",
              "      fill: #1967D2;\n",
              "      height: 32px;\n",
              "      padding: 0 0 0 0;\n",
              "      width: 32px;\n",
              "    }\n",
              "\n",
              "    .colab-df-convert:hover {\n",
              "      background-color: #E2EBFA;\n",
              "      box-shadow: 0px 1px 2px rgba(60, 64, 67, 0.3), 0px 1px 3px 1px rgba(60, 64, 67, 0.15);\n",
              "      fill: #174EA6;\n",
              "    }\n",
              "\n",
              "    .colab-df-buttons div {\n",
              "      margin-bottom: 4px;\n",
              "    }\n",
              "\n",
              "    [theme=dark] .colab-df-convert {\n",
              "      background-color: #3B4455;\n",
              "      fill: #D2E3FC;\n",
              "    }\n",
              "\n",
              "    [theme=dark] .colab-df-convert:hover {\n",
              "      background-color: #434B5C;\n",
              "      box-shadow: 0px 1px 3px 1px rgba(0, 0, 0, 0.15);\n",
              "      filter: drop-shadow(0px 1px 2px rgba(0, 0, 0, 0.3));\n",
              "      fill: #FFFFFF;\n",
              "    }\n",
              "  </style>\n",
              "\n",
              "    <script>\n",
              "      const buttonEl =\n",
              "        document.querySelector('#df-b2887218-0f27-4986-b880-93d67a415fbc button.colab-df-convert');\n",
              "      buttonEl.style.display =\n",
              "        google.colab.kernel.accessAllowed ? 'block' : 'none';\n",
              "\n",
              "      async function convertToInteractive(key) {\n",
              "        const element = document.querySelector('#df-b2887218-0f27-4986-b880-93d67a415fbc');\n",
              "        const dataTable =\n",
              "          await google.colab.kernel.invokeFunction('convertToInteractive',\n",
              "                                                    [key], {});\n",
              "        if (!dataTable) return;\n",
              "\n",
              "        const docLinkHtml = 'Like what you see? Visit the ' +\n",
              "          '<a target=\"_blank\" href=https://colab.research.google.com/notebooks/data_table.ipynb>data table notebook</a>'\n",
              "          + ' to learn more about interactive tables.';\n",
              "        element.innerHTML = '';\n",
              "        dataTable['output_type'] = 'display_data';\n",
              "        await google.colab.output.renderOutput(dataTable, element);\n",
              "        const docLink = document.createElement('div');\n",
              "        docLink.innerHTML = docLinkHtml;\n",
              "        element.appendChild(docLink);\n",
              "      }\n",
              "    </script>\n",
              "  </div>\n",
              "\n",
              "\n",
              "<div id=\"df-31b69e24-362b-484c-bad4-7abef711ddff\">\n",
              "  <button class=\"colab-df-quickchart\" onclick=\"quickchart('df-31b69e24-362b-484c-bad4-7abef711ddff')\"\n",
              "            title=\"Suggest charts.\"\n",
              "            style=\"display:none;\">\n",
              "\n",
              "<svg xmlns=\"http://www.w3.org/2000/svg\" height=\"24px\"viewBox=\"0 0 24 24\"\n",
              "     width=\"24px\">\n",
              "    <g>\n",
              "        <path d=\"M19 3H5c-1.1 0-2 .9-2 2v14c0 1.1.9 2 2 2h14c1.1 0 2-.9 2-2V5c0-1.1-.9-2-2-2zM9 17H7v-7h2v7zm4 0h-2V7h2v10zm4 0h-2v-4h2v4z\"/>\n",
              "    </g>\n",
              "</svg>\n",
              "  </button>\n",
              "\n",
              "<style>\n",
              "  .colab-df-quickchart {\n",
              "      --bg-color: #E8F0FE;\n",
              "      --fill-color: #1967D2;\n",
              "      --hover-bg-color: #E2EBFA;\n",
              "      --hover-fill-color: #174EA6;\n",
              "      --disabled-fill-color: #AAA;\n",
              "      --disabled-bg-color: #DDD;\n",
              "  }\n",
              "\n",
              "  [theme=dark] .colab-df-quickchart {\n",
              "      --bg-color: #3B4455;\n",
              "      --fill-color: #D2E3FC;\n",
              "      --hover-bg-color: #434B5C;\n",
              "      --hover-fill-color: #FFFFFF;\n",
              "      --disabled-bg-color: #3B4455;\n",
              "      --disabled-fill-color: #666;\n",
              "  }\n",
              "\n",
              "  .colab-df-quickchart {\n",
              "    background-color: var(--bg-color);\n",
              "    border: none;\n",
              "    border-radius: 50%;\n",
              "    cursor: pointer;\n",
              "    display: none;\n",
              "    fill: var(--fill-color);\n",
              "    height: 32px;\n",
              "    padding: 0;\n",
              "    width: 32px;\n",
              "  }\n",
              "\n",
              "  .colab-df-quickchart:hover {\n",
              "    background-color: var(--hover-bg-color);\n",
              "    box-shadow: 0 1px 2px rgba(60, 64, 67, 0.3), 0 1px 3px 1px rgba(60, 64, 67, 0.15);\n",
              "    fill: var(--button-hover-fill-color);\n",
              "  }\n",
              "\n",
              "  .colab-df-quickchart-complete:disabled,\n",
              "  .colab-df-quickchart-complete:disabled:hover {\n",
              "    background-color: var(--disabled-bg-color);\n",
              "    fill: var(--disabled-fill-color);\n",
              "    box-shadow: none;\n",
              "  }\n",
              "\n",
              "  .colab-df-spinner {\n",
              "    border: 2px solid var(--fill-color);\n",
              "    border-color: transparent;\n",
              "    border-bottom-color: var(--fill-color);\n",
              "    animation:\n",
              "      spin 1s steps(1) infinite;\n",
              "  }\n",
              "\n",
              "  @keyframes spin {\n",
              "    0% {\n",
              "      border-color: transparent;\n",
              "      border-bottom-color: var(--fill-color);\n",
              "      border-left-color: var(--fill-color);\n",
              "    }\n",
              "    20% {\n",
              "      border-color: transparent;\n",
              "      border-left-color: var(--fill-color);\n",
              "      border-top-color: var(--fill-color);\n",
              "    }\n",
              "    30% {\n",
              "      border-color: transparent;\n",
              "      border-left-color: var(--fill-color);\n",
              "      border-top-color: var(--fill-color);\n",
              "      border-right-color: var(--fill-color);\n",
              "    }\n",
              "    40% {\n",
              "      border-color: transparent;\n",
              "      border-right-color: var(--fill-color);\n",
              "      border-top-color: var(--fill-color);\n",
              "    }\n",
              "    60% {\n",
              "      border-color: transparent;\n",
              "      border-right-color: var(--fill-color);\n",
              "    }\n",
              "    80% {\n",
              "      border-color: transparent;\n",
              "      border-right-color: var(--fill-color);\n",
              "      border-bottom-color: var(--fill-color);\n",
              "    }\n",
              "    90% {\n",
              "      border-color: transparent;\n",
              "      border-bottom-color: var(--fill-color);\n",
              "    }\n",
              "  }\n",
              "</style>\n",
              "\n",
              "  <script>\n",
              "    async function quickchart(key) {\n",
              "      const quickchartButtonEl =\n",
              "        document.querySelector('#' + key + ' button');\n",
              "      quickchartButtonEl.disabled = true;  // To prevent multiple clicks.\n",
              "      quickchartButtonEl.classList.add('colab-df-spinner');\n",
              "      try {\n",
              "        const charts = await google.colab.kernel.invokeFunction(\n",
              "            'suggestCharts', [key], {});\n",
              "      } catch (error) {\n",
              "        console.error('Error during call to suggestCharts:', error);\n",
              "      }\n",
              "      quickchartButtonEl.classList.remove('colab-df-spinner');\n",
              "      quickchartButtonEl.classList.add('colab-df-quickchart-complete');\n",
              "    }\n",
              "    (() => {\n",
              "      let quickchartButtonEl =\n",
              "        document.querySelector('#df-31b69e24-362b-484c-bad4-7abef711ddff button');\n",
              "      quickchartButtonEl.style.display =\n",
              "        google.colab.kernel.accessAllowed ? 'block' : 'none';\n",
              "    })();\n",
              "  </script>\n",
              "</div>\n",
              "    </div>\n",
              "  </div>\n"
            ]
          },
          "metadata": {},
          "execution_count": 22
        }
      ]
    },
    {
      "cell_type": "markdown",
      "source": [
        "#코로나전후 여행목적변화 알아보기, 주요 방한 목적"
      ],
      "metadata": {
        "id": "NWizlEKItYBa"
      }
    },
    {
      "cell_type": "markdown",
      "source": [
        "## 한국 방문 선택 시 고려 요인 사용"
      ],
      "metadata": {
        "id": "rqw-VPJ25DWF"
      }
    },
    {
      "cell_type": "code",
      "source": [
        "df22bet['Q3B1'].value_counts()"
      ],
      "metadata": {
        "colab": {
          "base_uri": "https://localhost:8080/"
        },
        "id": "TI5D32U7qRLy",
        "outputId": "610923b3-5302-4e75-e70b-4dd94f3d0902"
      },
      "execution_count": 29,
      "outputs": [
        {
          "output_type": "execute_result",
          "data": {
            "text/plain": [
              "1.0     37\n",
              "2.0     16\n",
              "3.0     13\n",
              "13.0     7\n",
              "4.0      6\n",
              "6.0      1\n",
              "7.0      1\n",
              "12.0     1\n",
              "Name: Q3B1, dtype: int64"
            ]
          },
          "metadata": {},
          "execution_count": 29
        }
      ]
    },
    {
      "cell_type": "markdown",
      "source": [
        "1순위 목표의 1순위는 음식 미식 탐방이 압도적으로 높았다. 2순위는 쇼핑, 3순위 자연 풍경 감상, K-Pop/한류스타 관련 공연, 팬미팅, 촬영지 등 체험, 유흥/놀이시설 체험, 경제적인 여행 비용 등의 이유가 있었다."
      ],
      "metadata": {
        "id": "SrU_zlT-tuZy"
      }
    },
    {
      "cell_type": "code",
      "source": [
        "df22bet['Q3B2'].value_counts()"
      ],
      "metadata": {
        "colab": {
          "base_uri": "https://localhost:8080/"
        },
        "id": "JxivAa8Ls5Ra",
        "outputId": "72ab60b7-50bc-469a-8a3a-0f5c95f86681"
      },
      "execution_count": 30,
      "outputs": [
        {
          "output_type": "execute_result",
          "data": {
            "text/plain": [
              "2.0     24\n",
              "3.0     17\n",
              "1.0     14\n",
              "4.0      8\n",
              "7.0      4\n",
              "5.0      3\n",
              "6.0      2\n",
              "11.0     1\n",
              "10.0     1\n",
              "12.0     1\n",
              "9.0      1\n",
              "Name: Q3B2, dtype: int64"
            ]
          },
          "metadata": {},
          "execution_count": 30
        }
      ]
    },
    {
      "cell_type": "markdown",
      "source": [
        "2순위 한국 방문 선택 시 고려 요인의 1순위는 쇼핑, 2순위 자연 풍경 감상, 3순위 음식/미식 탐방, 4순위 역사 문화유적 전통문화 체험, 5순위 유흥/놀이시설 체험, 6순위 K-Pop 등의 이유가 있었다. 나머지는 자국과의 이동거리, 여행 가능한 여가시간, 경제적인 여행 비용, 레저 및 스포츠 활동이 있다."
      ],
      "metadata": {
        "id": "CEUxUVh2v2V7"
      }
    },
    {
      "cell_type": "code",
      "source": [
        "df22bet['Q3B3'].value_counts()"
      ],
      "metadata": {
        "colab": {
          "base_uri": "https://localhost:8080/"
        },
        "id": "N5kAg4_WtRtU",
        "outputId": "b6b5b843-a083-4ba5-ec23-caec4cd6ffc7"
      },
      "execution_count": 31,
      "outputs": [
        {
          "output_type": "execute_result",
          "data": {
            "text/plain": [
              "3.0     15\n",
              "2.0     13\n",
              "1.0     11\n",
              "7.0     11\n",
              "5.0      7\n",
              "4.0      5\n",
              "10.0     4\n",
              "13.0     2\n",
              "12.0     1\n",
              "Name: Q3B3, dtype: int64"
            ]
          },
          "metadata": {},
          "execution_count": 31
        }
      ]
    },
    {
      "cell_type": "markdown",
      "source": [
        "3순위 고려 요인의 1순위는 자연 풍경 감상, 2순위 쇼핑, 3순위 음식 미식 탐방, 4순위 유흥 놀이시설 체험, 5순위 패션 유행 등 세련된 현대 문화 체험 6순위 역사 문화유적 전통문화 체험 7순위 여행 가능한 여가시간 8순위 경제적인 여행 비용 등이 이ㅆ다."
      ],
      "metadata": {
        "id": "AnX-SuQ7z5KU"
      }
    },
    {
      "cell_type": "markdown",
      "source": [
        "전체적으로는 1순위가 음식 미식 탐방 62표, 2순위 쇼핑 53 3순위 자연풍경 감상 45 4순위 역사 문화유적 전통문화 체험 19 5순위 유흥 놀이시설 체험 10 6순위 패션 유행 등 세련된 현대 문화 체험 16 7순위 kpop 한류스타 관련 공연 팬미팅 촬영지 등 체험 및 경제적인 여행 비용이 각 3표"
      ],
      "metadata": {
        "id": "zn8jJeuo4djn"
      }
    },
    {
      "cell_type": "markdown",
      "source": [
        "## 주요 방한 목적 사용"
      ],
      "metadata": {
        "id": "7jGlfrAv5Ipc"
      }
    },
    {
      "cell_type": "code",
      "source": [
        "df22bet['Q3'].value_counts()"
      ],
      "metadata": {
        "colab": {
          "base_uri": "https://localhost:8080/"
        },
        "id": "gyH7LUFbtTq0",
        "outputId": "50152af1-3bc2-410d-c639-85d99ca402a7"
      },
      "execution_count": 32,
      "outputs": [
        {
          "output_type": "execute_result",
          "data": {
            "text/plain": [
              "1    57\n",
              "3    29\n",
              "2    25\n",
              "4    24\n",
              "6    17\n",
              "Name: Q3, dtype: int64"
            ]
          },
          "metadata": {},
          "execution_count": 32
        }
      ]
    },
    {
      "cell_type": "markdown",
      "source": [
        "1순위 여가 위락 휴식, 2순위 사업 또는 전문활동, 3순위 친구 친지 방문, 4순위 교육, 5순위 종교 및 순례"
      ],
      "metadata": {
        "id": "kdREhVe77K8D"
      }
    },
    {
      "cell_type": "markdown",
      "source": [
        "# 주요 참여 활동"
      ],
      "metadata": {
        "id": "J6yviMPvAYiG"
      }
    },
    {
      "cell_type": "markdown",
      "source": [
        "## Q4A01~Q4A17 사용"
      ],
      "metadata": {
        "id": "mmeljW5QAcFR"
      }
    },
    {
      "cell_type": "code",
      "source": [
        "df22bet.iloc[:,8:25].count()"
      ],
      "metadata": {
        "colab": {
          "base_uri": "https://localhost:8080/"
        },
        "id": "w9-1B3RB5P58",
        "outputId": "4592fb4f-50b6-4671-c849-2c74cf54b70f"
      },
      "execution_count": 42,
      "outputs": [
        {
          "output_type": "execute_result",
          "data": {
            "text/plain": [
              "Q4A01    127\n",
              "Q4A02    147\n",
              "Q4A03    120\n",
              "Q4A04     84\n",
              "Q4A05     48\n",
              "Q4A06     60\n",
              "Q4A07     17\n",
              "Q4A08     18\n",
              "Q4A09     11\n",
              "Q4A10     14\n",
              "Q4A11     38\n",
              "Q4A12     18\n",
              "Q4A13     22\n",
              "Q4A14     24\n",
              "Q4A15     25\n",
              "Q4A16      1\n",
              "Q4A17      1\n",
              "dtype: int64"
            ]
          },
          "metadata": {},
          "execution_count": 42
        }
      ]
    },
    {
      "cell_type": "markdown",
      "source": [
        "1: 식도락 관광 2: 쇼핑 3: 자연경관 감상\n",
        "4: 고궁/역사 유적지 방문 5: 전통문화체험 6: 박물관, 전시관 관람\n",
        "7: K-POP/한류스타 관련\n",
        "공연장 방문 8: 드라마/영화 촬영지 방문 9: 연극, 뮤지컬, 발레 등 공연\n",
        "관람\n",
        "10: 지역 축제 참여 11: 유흥/오락 12: 뷰티/의료관광\n",
        "13: 스포츠/레포츠 관람 및\n",
        "참가 비즈니스 활동 14: 업무수행 15: 연수/교육/연구\n",
        "16: 시찰(산업시설 등) 17: 기타"
      ],
      "metadata": {
        "id": "-eVcRs4BApnL"
      }
    },
    {
      "cell_type": "code",
      "source": [
        "df22bet['Q4A01'].value_counts()"
      ],
      "metadata": {
        "colab": {
          "base_uri": "https://localhost:8080/"
        },
        "id": "YAOIAHcW7qSG",
        "outputId": "5a6b5669-ca0b-4ef1-820c-ab419fbfd65d"
      },
      "execution_count": 44,
      "outputs": [
        {
          "output_type": "execute_result",
          "data": {
            "text/plain": [
              "1.0    127\n",
              "Name: Q4A01, dtype: int64"
            ]
          },
          "metadata": {},
          "execution_count": 44
        }
      ]
    },
    {
      "cell_type": "code",
      "source": [
        "df22bet['Q4A05'].value_counts()"
      ],
      "metadata": {
        "colab": {
          "base_uri": "https://localhost:8080/"
        },
        "id": "Wh6FAeG6ATLo",
        "outputId": "c449fccc-3443-4b33-8fc6-9a37529df1ac"
      },
      "execution_count": 45,
      "outputs": [
        {
          "output_type": "execute_result",
          "data": {
            "text/plain": [
              "5.0    48\n",
              "Name: Q4A05, dtype: int64"
            ]
          },
          "metadata": {},
          "execution_count": 45
        }
      ]
    },
    {
      "cell_type": "markdown",
      "source": [
        "## 어! 가장 만족한 활동도 해야겠다.이따가..."
      ],
      "metadata": {
        "id": "ToLInyy8EcH8"
      }
    },
    {
      "cell_type": "markdown",
      "source": [
        "# 연령별 방문자 비중 → 코로나"
      ],
      "metadata": {
        "id": "zlLSPxMlAoPO"
      }
    },
    {
      "cell_type": "markdown",
      "source": [
        "## D_AGE 사용"
      ],
      "metadata": {
        "id": "xqxgR1zSDIzU"
      }
    },
    {
      "cell_type": "code",
      "source": [
        "df22bet['D_AGE'].value_counts()"
      ],
      "metadata": {
        "colab": {
          "base_uri": "https://localhost:8080/"
        },
        "id": "4KKq4BbXDPwA",
        "outputId": "30eaf8cc-cf78-4fde-8448-933a5d683e0b"
      },
      "execution_count": 46,
      "outputs": [
        {
          "output_type": "execute_result",
          "data": {
            "text/plain": [
              "2    58\n",
              "3    44\n",
              "1    20\n",
              "4    18\n",
              "5     9\n",
              "6     3\n",
              "Name: D_AGE, dtype: int64"
            ]
          },
          "metadata": {},
          "execution_count": 46
        }
      ]
    },
    {
      "cell_type": "markdown",
      "source": [
        "1: 15-20세 2: 21-30세 3: 31-40세\n",
        "4: 41-50세 5: 51-60세 6: 61세 이상\n",
        "\n",
        "21-30세가 가장 많이 방문함"
      ],
      "metadata": {
        "id": "-KVWLEhpDTC6"
      }
    },
    {
      "cell_type": "markdown",
      "source": [
        "# 단체 여행, 개별 여행 (2022, 21)"
      ],
      "metadata": {
        "id": "NG4a9rD9DqDo"
      }
    },
    {
      "cell_type": "markdown",
      "source": [
        "## Q4 여행 형태 사용"
      ],
      "metadata": {
        "id": "d0RAFLIqDwQ0"
      }
    },
    {
      "cell_type": "code",
      "source": [
        "df22bet['Q4'].value_counts()"
      ],
      "metadata": {
        "colab": {
          "base_uri": "https://localhost:8080/"
        },
        "id": "kS77QnRHD1fx",
        "outputId": "ef275d36-018c-4ce9-ea2b-495adcbb907c"
      },
      "execution_count": 47,
      "outputs": [
        {
          "output_type": "execute_result",
          "data": {
            "text/plain": [
              "1    102\n",
              "3     35\n",
              "2     15\n",
              "Name: Q4, dtype: int64"
            ]
          },
          "metadata": {},
          "execution_count": 47
        }
      ]
    },
    {
      "cell_type": "markdown",
      "source": [
        "개별 여행1, 단체 여행3, air-tel2 순으로 많았다. air-tel은 어떤 형태의 여행인걸까요..?"
      ],
      "metadata": {
        "id": "s0z_6mpeD_ZB"
      }
    },
    {
      "cell_type": "markdown",
      "source": [
        "# 주요 방문 지역(도 기준 & 서울 지역 별로)"
      ],
      "metadata": {
        "id": "7DLvKmR8EJFN"
      }
    },
    {
      "cell_type": "markdown",
      "source": [
        "## 한국 여행 중 방문 권역 사용"
      ],
      "metadata": {
        "id": "Zl7zQwUSESEe"
      }
    },
    {
      "cell_type": "code",
      "source": [
        "df22bet.iloc[:,45:53].count()"
      ],
      "metadata": {
        "colab": {
          "base_uri": "https://localhost:8080/"
        },
        "id": "eRRgQrqgFKAn",
        "outputId": "84a3d23c-0252-4205-d9b0-82dfe1ec7c8f"
      },
      "execution_count": 50,
      "outputs": [
        {
          "output_type": "execute_result",
          "data": {
            "text/plain": [
              "KWON1    116\n",
              "KWON2     37\n",
              "KWON3     21\n",
              "KWON4     16\n",
              "KWON5     17\n",
              "KWON6     58\n",
              "KWON7     11\n",
              "KWON8     10\n",
              "dtype: int64"
            ]
          },
          "metadata": {},
          "execution_count": 50
        }
      ]
    },
    {
      "cell_type": "markdown",
      "source": [
        "1: 서울 2: 경기도 3: 인천 4: 강원도\n",
        "5: 충청도 6: 경상도 7: 전라도 8: 제주\n",
        "\n",
        "서울이 가장 많고 그 다음은 경상도."
      ],
      "metadata": {
        "id": "kZOGyrrDFmx5"
      }
    },
    {
      "cell_type": "markdown",
      "source": [
        "# 지출 경비"
      ],
      "metadata": {
        "id": "tGX5gFR1FyI-"
      }
    },
    {
      "cell_type": "markdown",
      "source": [
        "## 문7. 1인 평균 지출 경비_전체_총액\n",
        "(최대금액 초과 결측) 총액1인\n",
        "MIS"
      ],
      "metadata": {
        "id": "vQtDqqW_Hx58"
      }
    },
    {
      "cell_type": "code",
      "source": [
        "df22bet['총액1인MIS'].hist()"
      ],
      "metadata": {
        "colab": {
          "base_uri": "https://localhost:8080/",
          "height": 449
        },
        "id": "SKRdsY9kH7H2",
        "outputId": "66450dde-3906-43f4-a454-ac4a7292caea"
      },
      "execution_count": 52,
      "outputs": [
        {
          "output_type": "execute_result",
          "data": {
            "text/plain": [
              "<Axes: >"
            ]
          },
          "metadata": {},
          "execution_count": 52
        },
        {
          "output_type": "display_data",
          "data": {
            "text/plain": [
              "<Figure size 640x480 with 1 Axes>"
            ],
            "image/png": "[encoded data removed]"
          },
          "metadata": {}
        }
      ]
    },
    {
      "cell_type": "code",
      "source": [
        "df22bet['총액1인MIS'].describe()"
      ],
      "metadata": {
        "colab": {
          "base_uri": "https://localhost:8080/"
        },
        "id": "t1x_IEdxOpi5",
        "outputId": "c19ce01a-fed5-45c2-b1bb-6c2730417a66"
      },
      "execution_count": 72,
      "outputs": [
        {
          "output_type": "execute_result",
          "data": {
            "text/plain": [
              "count     145.000000\n",
              "mean     2061.879632\n",
              "std      1671.486838\n",
              "min         2.170344\n",
              "25%      1000.000000\n",
              "50%      1646.930000\n",
              "75%      2357.787000\n",
              "max      7756.930000\n",
              "Name: 총액1인MIS, dtype: float64"
            ]
          },
          "metadata": {},
          "execution_count": 72
        }
      ]
    },
    {
      "cell_type": "markdown",
      "source": [
        "## 1인 평균 지출 경비_전체_총액\n",
        "(원자료) DAYall평\n",
        "균"
      ],
      "metadata": {
        "id": "N0k7TIIXIBCb"
      }
    },
    {
      "cell_type": "code",
      "source": [
        "df22bet['DAYall평균'].hist()"
      ],
      "metadata": {
        "colab": {
          "base_uri": "https://localhost:8080/",
          "height": 449
        },
        "id": "9sR-FjhXITs-",
        "outputId": "743371b2-3d40-4138-a635-58275ee3a3b1"
      },
      "execution_count": 53,
      "outputs": [
        {
          "output_type": "execute_result",
          "data": {
            "text/plain": [
              "<Axes: >"
            ]
          },
          "metadata": {},
          "execution_count": 53
        },
        {
          "output_type": "display_data",
          "data": {
            "text/plain": [
              "<Figure size 640x480 with 1 Axes>"
            ],
            "image/png": "[encoded data removed]"
          },
          "metadata": {}
        }
      ]
    },
    {
      "cell_type": "code",
      "source": [
        "df22bet['DAYall평균'].describe()"
      ],
      "metadata": {
        "colab": {
          "base_uri": "https://localhost:8080/"
        },
        "id": "nBhJQ6VgOmeV",
        "outputId": "dfed8c7e-957f-4c22-c2ae-4c7278aac185"
      },
      "execution_count": 71,
      "outputs": [
        {
          "output_type": "execute_result",
          "data": {
            "text/plain": [
              "count     152.000000\n",
              "mean      217.587504\n",
              "std       334.432103\n",
              "min         0.077512\n",
              "25%        42.688938\n",
              "50%       133.333333\n",
              "75%       252.000000\n",
              "max      3333.333333\n",
              "Name: DAYall평균, dtype: float64"
            ]
          },
          "metadata": {},
          "execution_count": 71
        }
      ]
    },
    {
      "cell_type": "code",
      "source": [
        "df22bet['DAY평균'].hist() # 최대금액 초관 제외"
      ],
      "metadata": {
        "colab": {
          "base_uri": "https://localhost:8080/",
          "height": 449
        },
        "id": "h-mXzGAfIdEj",
        "outputId": "1ee39e7f-0035-462b-a8b5-4fc8bd76ab37"
      },
      "execution_count": 54,
      "outputs": [
        {
          "output_type": "execute_result",
          "data": {
            "text/plain": [
              "<Axes: >"
            ]
          },
          "metadata": {},
          "execution_count": 54
        },
        {
          "output_type": "display_data",
          "data": {
            "text/plain": [
              "<Figure size 640x480 with 1 Axes>"
            ],
            "image/png": "[encoded data removed]"
          },
          "metadata": {}
        }
      ]
    },
    {
      "cell_type": "code",
      "source": [
        "df22bet['DAY평균'].describe()"
      ],
      "metadata": {
        "colab": {
          "base_uri": "https://localhost:8080/"
        },
        "id": "SxgMi-LbOeOg",
        "outputId": "4e3b6e09-bb08-40d4-dbb9-b2b9571def20"
      },
      "execution_count": 70,
      "outputs": [
        {
          "output_type": "execute_result",
          "data": {
            "text/plain": [
              "count     116.000000\n",
              "mean      247.827739\n",
              "std       224.781005\n",
              "min         0.077512\n",
              "25%       122.482304\n",
              "50%       175.357143\n",
              "75%       303.125000\n",
              "max      1317.939000\n",
              "Name: DAY평균, dtype: float64"
            ]
          },
          "metadata": {},
          "execution_count": 70
        }
      ]
    },
    {
      "cell_type": "markdown",
      "source": [
        "## 1인 평균 지출 경비_전체_총액\n",
        "(최대금액 초과 결측, 카테고리)"
      ],
      "metadata": {
        "id": "5wP0vz7-Ihh0"
      }
    },
    {
      "cell_type": "code",
      "source": [
        "df22bet['C총액1인MIS'].value_counts()"
      ],
      "metadata": {
        "colab": {
          "base_uri": "https://localhost:8080/"
        },
        "id": "l8-jW0syJENu",
        "outputId": "d52b9db9-a795-4834-d42e-fe51e666ea76"
      },
      "execution_count": 55,
      "outputs": [
        {
          "output_type": "execute_result",
          "data": {
            "text/plain": [
              "2     62\n",
              "1     43\n",
              "3     17\n",
              "5     12\n",
              "4     11\n",
              "98     7\n",
              "Name: C총액1인MIS, dtype: int64"
            ]
          },
          "metadata": {},
          "execution_count": 55
        }
      ]
    },
    {
      "cell_type": "markdown",
      "source": [
        "1: 1,000$이하 2: 1,000$ 초과~2,000$ 이하 3: 2,000$ 초과~3,000$ 이하\n",
        "4: 3,000$ 초과~5,000$ 이하 5: 5,000$ 초과~10,000$ 이하 6: 10,000$ 초과\n",
        "98: 최대금액 초과자"
      ],
      "metadata": {
        "id": "bGo07MbfJIv3"
      }
    },
    {
      "cell_type": "markdown",
      "source": [
        "## 1인 평균 지출 경비_전체_총액\n",
        "(61일 이상 & 최대금액 초과 제외,\n",
        "카테고리)"
      ],
      "metadata": {
        "id": "2U8Y0y8DJLVz"
      }
    },
    {
      "cell_type": "code",
      "source": [
        "df22bet['RDAY평균'].value_counts()"
      ],
      "metadata": {
        "colab": {
          "base_uri": "https://localhost:8080/"
        },
        "id": "S6wpcxFjJSuo",
        "outputId": "1c80ffa1-20fb-40d0-b859-212ab7edfcd5"
      },
      "execution_count": 56,
      "outputs": [
        {
          "output_type": "execute_result",
          "data": {
            "text/plain": [
              "3.0    64\n",
              "4.0    18\n",
              "1.0    16\n",
              "5.0    11\n",
              "2.0     7\n",
              "Name: RDAY평균, dtype: int64"
            ]
          },
          "metadata": {},
          "execution_count": 56
        }
      ]
    },
    {
      "cell_type": "markdown",
      "source": [
        "1: 50$ 이하 2: 50$ 초과~100$ 이하 3: 100$ 초과~300$ 이하\n",
        "4: 300$ 초과~500$ 이하 5: 500$ 초과\n",
        "\n",
        "대부분 하루에 100달러 이상 300달러 이하 소비하였다."
      ],
      "metadata": {
        "id": "e4Z5ThxrJXjM"
      }
    },
    {
      "cell_type": "markdown",
      "source": [
        "# 만족도, 재방문 의향, 타인 추천 의향"
      ],
      "metadata": {
        "id": "4stgz70mJbXw"
      }
    },
    {
      "cell_type": "markdown",
      "source": [
        "## 한국여행에 대한 전반적 만족도"
      ],
      "metadata": {
        "id": "Kzs_87_3KCki"
      }
    },
    {
      "cell_type": "code",
      "source": [
        "df22bet['Q7'].value_counts()"
      ],
      "metadata": {
        "colab": {
          "base_uri": "https://localhost:8080/"
        },
        "id": "DeeKmsOIKFqq",
        "outputId": "3b60b0da-e2db-4767-c2bd-c04c72732385"
      },
      "execution_count": 57,
      "outputs": [
        {
          "output_type": "execute_result",
          "data": {
            "text/plain": [
              "5    120\n",
              "4     31\n",
              "3      1\n",
              "Name: Q7, dtype: int64"
            ]
          },
          "metadata": {},
          "execution_count": 57
        }
      ]
    },
    {
      "cell_type": "markdown",
      "source": [
        "오 평이 후하네요 1: 매우 불만족 2: 대체로 불만족 3: 보통\n",
        "4: 대체로 만족 5: 매우 만족"
      ],
      "metadata": {
        "id": "-DJBCkMzKKeY"
      }
    },
    {
      "cell_type": "markdown",
      "source": [
        "## 향후 3년 내 관광목적 재방문 의향"
      ],
      "metadata": {
        "id": "NDlAnxkOKPPh"
      }
    },
    {
      "cell_type": "code",
      "source": [
        "df22bet['Q8'].value_counts()"
      ],
      "metadata": {
        "colab": {
          "base_uri": "https://localhost:8080/"
        },
        "id": "KVcNyIIWKSwD",
        "outputId": "90ccd42e-0aab-4959-83a6-4a910189fb39"
      },
      "execution_count": 58,
      "outputs": [
        {
          "output_type": "execute_result",
          "data": {
            "text/plain": [
              "5    116\n",
              "4     29\n",
              "3      3\n",
              "1      2\n",
              "2      2\n",
              "Name: Q8, dtype: int64"
            ]
          },
          "metadata": {},
          "execution_count": 58
        }
      ]
    },
    {
      "cell_type": "markdown",
      "source": [
        "1: 전혀 그렇지 않다 2: 별로 그렇지 않다 3: 보통\n",
        "4: 대체로 그렇다 5: 매우 그렇다"
      ],
      "metadata": {
        "id": "Jn2mIffAKWEl"
      }
    },
    {
      "cell_type": "markdown",
      "source": [
        "## 타인 추천 의향"
      ],
      "metadata": {
        "id": "P8tWZEX1KfpT"
      }
    },
    {
      "cell_type": "code",
      "source": [
        "df22bet['Q9'].value_counts()"
      ],
      "metadata": {
        "colab": {
          "base_uri": "https://localhost:8080/"
        },
        "id": "EHAcjjqLKiXj",
        "outputId": "be2c8ed9-7bad-454b-cd42-c31be3b80c09"
      },
      "execution_count": 59,
      "outputs": [
        {
          "output_type": "execute_result",
          "data": {
            "text/plain": [
              "5    125\n",
              "4     26\n",
              "3      1\n",
              "Name: Q9, dtype: int64"
            ]
          },
          "metadata": {},
          "execution_count": 59
        }
      ]
    },
    {
      "cell_type": "markdown",
      "source": [
        "1: 전혀 그렇지 않다 2: 별로 그렇지 않다 3: 보통\n",
        "4: 대체로 그렇다 5: 매우 그렇다"
      ],
      "metadata": {
        "id": "8I_VvgfMKllH"
      }
    },
    {
      "cell_type": "markdown",
      "source": [
        "# 월별 분기별 방문수"
      ],
      "metadata": {
        "id": "bk4prjQLKm5R"
      }
    },
    {
      "cell_type": "code",
      "source": [
        "# 월별\n",
        "df22bet['D_MON'].value_counts()"
      ],
      "metadata": {
        "colab": {
          "base_uri": "https://localhost:8080/"
        },
        "id": "vi5m377gKsmH",
        "outputId": "65b2c640-581a-4b45-b55e-5b3843e582f4"
      },
      "execution_count": 60,
      "outputs": [
        {
          "output_type": "execute_result",
          "data": {
            "text/plain": [
              "10    31\n",
              "4     23\n",
              "11    23\n",
              "7     16\n",
              "12    14\n",
              "8     13\n",
              "1     11\n",
              "6     10\n",
              "9      8\n",
              "5      2\n",
              "3      1\n",
              "Name: D_MON, dtype: int64"
            ]
          },
          "metadata": {},
          "execution_count": 60
        }
      ]
    },
    {
      "cell_type": "code",
      "source": [
        "# 분기별\n",
        "df22bet['D_BUN'].value_counts()"
      ],
      "metadata": {
        "colab": {
          "base_uri": "https://localhost:8080/"
        },
        "id": "qeeCauU1KygS",
        "outputId": "63c731a0-7b8b-490d-be18-b49cfdb6114b"
      },
      "execution_count": 61,
      "outputs": [
        {
          "output_type": "execute_result",
          "data": {
            "text/plain": [
              "4    68\n",
              "3    37\n",
              "2    35\n",
              "1    12\n",
              "Name: D_BUN, dtype: int64"
            ]
          },
          "metadata": {},
          "execution_count": 61
        }
      ]
    },
    {
      "cell_type": "code",
      "source": [
        "df22bet.groupby('D_MON')['Q7'].value_counts()"
      ],
      "metadata": {
        "colab": {
          "base_uri": "https://localhost:8080/"
        },
        "id": "0ai5MmeMK4iN",
        "outputId": "55045c87-9c39-42fb-98ed-f8d87b535fc0"
      },
      "execution_count": 68,
      "outputs": [
        {
          "output_type": "execute_result",
          "data": {
            "text/plain": [
              "D_MON  Q7\n",
              "1      5     11\n",
              "3      5      1\n",
              "4      5     17\n",
              "       4      6\n",
              "5      5      2\n",
              "6      5      6\n",
              "       4      4\n",
              "7      5     15\n",
              "       4      1\n",
              "8      5      9\n",
              "       4      4\n",
              "9      5      7\n",
              "       4      1\n",
              "10     5     24\n",
              "       4      6\n",
              "       3      1\n",
              "11     5     19\n",
              "       4      4\n",
              "12     5      9\n",
              "       4      5\n",
              "Name: Q7, dtype: int64"
            ]
          },
          "metadata": {},
          "execution_count": 68
        }
      ]
    },
    {
      "cell_type": "code",
      "source": [
        "df22bet.groupby('D_MON')['RDAY평균'].value_counts()"
      ],
      "metadata": {
        "colab": {
          "base_uri": "https://localhost:8080/"
        },
        "id": "14gR_JyHLmGb",
        "outputId": "63e5d380-a74d-400c-a79a-c4b08d153596"
      },
      "execution_count": 69,
      "outputs": [
        {
          "output_type": "execute_result",
          "data": {
            "text/plain": [
              "D_MON  RDAY평균\n",
              "1      3.0        1\n",
              "4      3.0       16\n",
              "5      1.0        1\n",
              "6      3.0        3\n",
              "       4.0        2\n",
              "       5.0        2\n",
              "       2.0        1\n",
              "7      3.0        4\n",
              "       4.0        3\n",
              "       5.0        3\n",
              "       1.0        2\n",
              "       2.0        2\n",
              "8      1.0        5\n",
              "       3.0        5\n",
              "       5.0        2\n",
              "       4.0        1\n",
              "9      3.0        4\n",
              "       1.0        1\n",
              "10     3.0       16\n",
              "       4.0        7\n",
              "       1.0        3\n",
              "       2.0        3\n",
              "       5.0        1\n",
              "11     3.0       11\n",
              "       4.0        5\n",
              "       1.0        2\n",
              "       2.0        1\n",
              "       5.0        1\n",
              "12     3.0        4\n",
              "       1.0        2\n",
              "       5.0        2\n",
              "Name: RDAY평균, dtype: int64"
            ]
          },
          "metadata": {},
          "execution_count": 69
        }
      ]
    },
    {
      "cell_type": "code",
      "source": [],
      "metadata": {
        "id": "1oD3vG0SM9Mh"
      },
      "execution_count": null,
      "outputs": []
    }
  ]
}