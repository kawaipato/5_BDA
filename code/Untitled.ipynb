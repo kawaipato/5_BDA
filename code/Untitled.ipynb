{
 "cells": [
  {
   "cell_type": "code",
   "execution_count": 1,
   "id": "99483fba",
   "metadata": {},
   "outputs": [],
   "source": [
    "import pandas as pd\n",
    "import numpy as np\n",
    "import matplotlib.pyplot as plt\n",
    "import seaborn as sns"
   ]
  },
  {
   "cell_type": "code",
   "execution_count": 2,
   "id": "8848577d",
   "metadata": {},
   "outputs": [],
   "source": [
    "df22 = pd.read_excel('/Users/seoihwan/Desktop/escuela/BDA_proj/5_BDA/data/2022foreigner.xlsx')"
   ]
  },
  {
   "cell_type": "code",
   "execution_count": 4,
   "id": "a790e76c",
   "metadata": {},
   "outputs": [
    {
     "data": {
      "text/html": [
       "<div>\n",
       "<style scoped>\n",
       "    .dataframe tbody tr th:only-of-type {\n",
       "        vertical-align: middle;\n",
       "    }\n",
       "\n",
       "    .dataframe tbody tr th {\n",
       "        vertical-align: top;\n",
       "    }\n",
       "\n",
       "    .dataframe thead th {\n",
       "        text-align: right;\n",
       "    }\n",
       "</style>\n",
       "<table border=\"1\" class=\"dataframe\">\n",
       "  <thead>\n",
       "    <tr style=\"text-align: right;\">\n",
       "      <th></th>\n",
       "      <th>id</th>\n",
       "      <th>Q1</th>\n",
       "      <th>RQ1</th>\n",
       "      <th>Q3</th>\n",
       "      <th>Q3B1</th>\n",
       "      <th>Q3B2</th>\n",
       "      <th>Q3B3</th>\n",
       "      <th>Q4</th>\n",
       "      <th>Q4A01</th>\n",
       "      <th>Q4A02</th>\n",
       "      <th>...</th>\n",
       "      <th>Q9</th>\n",
       "      <th>D_MON</th>\n",
       "      <th>D_BUN</th>\n",
       "      <th>D_NAT</th>\n",
       "      <th>D_SEX</th>\n",
       "      <th>D_AGE</th>\n",
       "      <th>D_MOK</th>\n",
       "      <th>D_PLA</th>\n",
       "      <th>D_Q1</th>\n",
       "      <th>D_TYP</th>\n",
       "    </tr>\n",
       "  </thead>\n",
       "  <tbody>\n",
       "    <tr>\n",
       "      <th>28</th>\n",
       "      <td>397</td>\n",
       "      <td>1</td>\n",
       "      <td>1</td>\n",
       "      <td>4</td>\n",
       "      <td>NaN</td>\n",
       "      <td>NaN</td>\n",
       "      <td>NaN</td>\n",
       "      <td>1</td>\n",
       "      <td>1.0</td>\n",
       "      <td>2.0</td>\n",
       "      <td>...</td>\n",
       "      <td>5</td>\n",
       "      <td>1</td>\n",
       "      <td>1</td>\n",
       "      <td>19</td>\n",
       "      <td>2</td>\n",
       "      <td>2</td>\n",
       "      <td>4</td>\n",
       "      <td>1</td>\n",
       "      <td>1</td>\n",
       "      <td>NaN</td>\n",
       "    </tr>\n",
       "    <tr>\n",
       "      <th>30</th>\n",
       "      <td>402</td>\n",
       "      <td>1</td>\n",
       "      <td>1</td>\n",
       "      <td>4</td>\n",
       "      <td>NaN</td>\n",
       "      <td>NaN</td>\n",
       "      <td>NaN</td>\n",
       "      <td>1</td>\n",
       "      <td>1.0</td>\n",
       "      <td>2.0</td>\n",
       "      <td>...</td>\n",
       "      <td>5</td>\n",
       "      <td>1</td>\n",
       "      <td>1</td>\n",
       "      <td>19</td>\n",
       "      <td>2</td>\n",
       "      <td>2</td>\n",
       "      <td>4</td>\n",
       "      <td>1</td>\n",
       "      <td>1</td>\n",
       "      <td>NaN</td>\n",
       "    </tr>\n",
       "    <tr>\n",
       "      <th>35</th>\n",
       "      <td>482</td>\n",
       "      <td>1</td>\n",
       "      <td>1</td>\n",
       "      <td>2</td>\n",
       "      <td>13.0</td>\n",
       "      <td>2.0</td>\n",
       "      <td>NaN</td>\n",
       "      <td>1</td>\n",
       "      <td>NaN</td>\n",
       "      <td>2.0</td>\n",
       "      <td>...</td>\n",
       "      <td>5</td>\n",
       "      <td>1</td>\n",
       "      <td>1</td>\n",
       "      <td>19</td>\n",
       "      <td>2</td>\n",
       "      <td>3</td>\n",
       "      <td>2</td>\n",
       "      <td>1</td>\n",
       "      <td>1</td>\n",
       "      <td>NaN</td>\n",
       "    </tr>\n",
       "    <tr>\n",
       "      <th>63</th>\n",
       "      <td>627</td>\n",
       "      <td>1</td>\n",
       "      <td>1</td>\n",
       "      <td>2</td>\n",
       "      <td>13.0</td>\n",
       "      <td>NaN</td>\n",
       "      <td>NaN</td>\n",
       "      <td>1</td>\n",
       "      <td>1.0</td>\n",
       "      <td>2.0</td>\n",
       "      <td>...</td>\n",
       "      <td>5</td>\n",
       "      <td>1</td>\n",
       "      <td>1</td>\n",
       "      <td>19</td>\n",
       "      <td>2</td>\n",
       "      <td>4</td>\n",
       "      <td>2</td>\n",
       "      <td>1</td>\n",
       "      <td>1</td>\n",
       "      <td>NaN</td>\n",
       "    </tr>\n",
       "    <tr>\n",
       "      <th>164</th>\n",
       "      <td>1101</td>\n",
       "      <td>1</td>\n",
       "      <td>1</td>\n",
       "      <td>4</td>\n",
       "      <td>NaN</td>\n",
       "      <td>NaN</td>\n",
       "      <td>NaN</td>\n",
       "      <td>1</td>\n",
       "      <td>1.0</td>\n",
       "      <td>2.0</td>\n",
       "      <td>...</td>\n",
       "      <td>5</td>\n",
       "      <td>1</td>\n",
       "      <td>1</td>\n",
       "      <td>19</td>\n",
       "      <td>2</td>\n",
       "      <td>2</td>\n",
       "      <td>4</td>\n",
       "      <td>1</td>\n",
       "      <td>1</td>\n",
       "      <td>NaN</td>\n",
       "    </tr>\n",
       "    <tr>\n",
       "      <th>...</th>\n",
       "      <td>...</td>\n",
       "      <td>...</td>\n",
       "      <td>...</td>\n",
       "      <td>...</td>\n",
       "      <td>...</td>\n",
       "      <td>...</td>\n",
       "      <td>...</td>\n",
       "      <td>...</td>\n",
       "      <td>...</td>\n",
       "      <td>...</td>\n",
       "      <td>...</td>\n",
       "      <td>...</td>\n",
       "      <td>...</td>\n",
       "      <td>...</td>\n",
       "      <td>...</td>\n",
       "      <td>...</td>\n",
       "      <td>...</td>\n",
       "      <td>...</td>\n",
       "      <td>...</td>\n",
       "      <td>...</td>\n",
       "      <td>...</td>\n",
       "    </tr>\n",
       "    <tr>\n",
       "      <th>18986</th>\n",
       "      <td>40227</td>\n",
       "      <td>3</td>\n",
       "      <td>3</td>\n",
       "      <td>4</td>\n",
       "      <td>NaN</td>\n",
       "      <td>NaN</td>\n",
       "      <td>NaN</td>\n",
       "      <td>1</td>\n",
       "      <td>1.0</td>\n",
       "      <td>2.0</td>\n",
       "      <td>...</td>\n",
       "      <td>5</td>\n",
       "      <td>12</td>\n",
       "      <td>4</td>\n",
       "      <td>19</td>\n",
       "      <td>2</td>\n",
       "      <td>2</td>\n",
       "      <td>4</td>\n",
       "      <td>1</td>\n",
       "      <td>3</td>\n",
       "      <td>NaN</td>\n",
       "    </tr>\n",
       "    <tr>\n",
       "      <th>19248</th>\n",
       "      <td>40686</td>\n",
       "      <td>2</td>\n",
       "      <td>2</td>\n",
       "      <td>2</td>\n",
       "      <td>12.0</td>\n",
       "      <td>1.0</td>\n",
       "      <td>3.0</td>\n",
       "      <td>1</td>\n",
       "      <td>1.0</td>\n",
       "      <td>2.0</td>\n",
       "      <td>...</td>\n",
       "      <td>5</td>\n",
       "      <td>12</td>\n",
       "      <td>4</td>\n",
       "      <td>19</td>\n",
       "      <td>2</td>\n",
       "      <td>5</td>\n",
       "      <td>2</td>\n",
       "      <td>3</td>\n",
       "      <td>2</td>\n",
       "      <td>1.0</td>\n",
       "    </tr>\n",
       "    <tr>\n",
       "      <th>19341</th>\n",
       "      <td>40824</td>\n",
       "      <td>1</td>\n",
       "      <td>1</td>\n",
       "      <td>4</td>\n",
       "      <td>NaN</td>\n",
       "      <td>NaN</td>\n",
       "      <td>NaN</td>\n",
       "      <td>1</td>\n",
       "      <td>1.0</td>\n",
       "      <td>2.0</td>\n",
       "      <td>...</td>\n",
       "      <td>4</td>\n",
       "      <td>12</td>\n",
       "      <td>4</td>\n",
       "      <td>19</td>\n",
       "      <td>2</td>\n",
       "      <td>2</td>\n",
       "      <td>4</td>\n",
       "      <td>1</td>\n",
       "      <td>1</td>\n",
       "      <td>NaN</td>\n",
       "    </tr>\n",
       "    <tr>\n",
       "      <th>19528</th>\n",
       "      <td>41129</td>\n",
       "      <td>4</td>\n",
       "      <td>4</td>\n",
       "      <td>4</td>\n",
       "      <td>NaN</td>\n",
       "      <td>NaN</td>\n",
       "      <td>NaN</td>\n",
       "      <td>1</td>\n",
       "      <td>1.0</td>\n",
       "      <td>2.0</td>\n",
       "      <td>...</td>\n",
       "      <td>4</td>\n",
       "      <td>12</td>\n",
       "      <td>4</td>\n",
       "      <td>19</td>\n",
       "      <td>1</td>\n",
       "      <td>2</td>\n",
       "      <td>4</td>\n",
       "      <td>3</td>\n",
       "      <td>4</td>\n",
       "      <td>1.0</td>\n",
       "    </tr>\n",
       "    <tr>\n",
       "      <th>19529</th>\n",
       "      <td>41134</td>\n",
       "      <td>3</td>\n",
       "      <td>3</td>\n",
       "      <td>2</td>\n",
       "      <td>1.0</td>\n",
       "      <td>3.0</td>\n",
       "      <td>2.0</td>\n",
       "      <td>1</td>\n",
       "      <td>1.0</td>\n",
       "      <td>2.0</td>\n",
       "      <td>...</td>\n",
       "      <td>5</td>\n",
       "      <td>12</td>\n",
       "      <td>4</td>\n",
       "      <td>19</td>\n",
       "      <td>2</td>\n",
       "      <td>5</td>\n",
       "      <td>2</td>\n",
       "      <td>3</td>\n",
       "      <td>3</td>\n",
       "      <td>1.0</td>\n",
       "    </tr>\n",
       "  </tbody>\n",
       "</table>\n",
       "<p>152 rows × 188 columns</p>\n",
       "</div>"
      ],
      "text/plain": [
       "          id  Q1  RQ1  Q3  Q3B1  Q3B2  Q3B3  Q4  Q4A01  Q4A02  ...  Q9  D_MON  \\\n",
       "28       397   1    1   4   NaN   NaN   NaN   1    1.0    2.0  ...   5      1   \n",
       "30       402   1    1   4   NaN   NaN   NaN   1    1.0    2.0  ...   5      1   \n",
       "35       482   1    1   2  13.0   2.0   NaN   1    NaN    2.0  ...   5      1   \n",
       "63       627   1    1   2  13.0   NaN   NaN   1    1.0    2.0  ...   5      1   \n",
       "164     1101   1    1   4   NaN   NaN   NaN   1    1.0    2.0  ...   5      1   \n",
       "...      ...  ..  ...  ..   ...   ...   ...  ..    ...    ...  ...  ..    ...   \n",
       "18986  40227   3    3   4   NaN   NaN   NaN   1    1.0    2.0  ...   5     12   \n",
       "19248  40686   2    2   2  12.0   1.0   3.0   1    1.0    2.0  ...   5     12   \n",
       "19341  40824   1    1   4   NaN   NaN   NaN   1    1.0    2.0  ...   4     12   \n",
       "19528  41129   4    4   4   NaN   NaN   NaN   1    1.0    2.0  ...   4     12   \n",
       "19529  41134   3    3   2   1.0   3.0   2.0   1    1.0    2.0  ...   5     12   \n",
       "\n",
       "       D_BUN  D_NAT  D_SEX  D_AGE  D_MOK  D_PLA  D_Q1  D_TYP  \n",
       "28         1     19      2      2      4      1     1    NaN  \n",
       "30         1     19      2      2      4      1     1    NaN  \n",
       "35         1     19      2      3      2      1     1    NaN  \n",
       "63         1     19      2      4      2      1     1    NaN  \n",
       "164        1     19      2      2      4      1     1    NaN  \n",
       "...      ...    ...    ...    ...    ...    ...   ...    ...  \n",
       "18986      4     19      2      2      4      1     3    NaN  \n",
       "19248      4     19      2      5      2      3     2    1.0  \n",
       "19341      4     19      2      2      4      1     1    NaN  \n",
       "19528      4     19      1      2      4      3     4    1.0  \n",
       "19529      4     19      2      5      2      3     3    1.0  \n",
       "\n",
       "[152 rows x 188 columns]"
      ]
     },
     "metadata": {},
     "output_type": "display_data"
    }
   ],
   "source": [
    "viet = df22[df22.D_NAT == 19]\n",
    "display(viet)"
   ]
  },
  {
   "cell_type": "code",
   "execution_count": 6,
   "id": "1a381dfb",
   "metadata": {},
   "outputs": [
    {
     "data": {
      "text/plain": [
       "2634.8142871315786"
      ]
     },
     "execution_count": 6,
     "metadata": {},
     "output_type": "execute_result"
    }
   ],
   "source": [
    "viet['총액1인TOT'].mean()"
   ]
  },
  {
   "cell_type": "code",
   "execution_count": 8,
   "id": "4c2160ef",
   "metadata": {},
   "outputs": [
    {
     "data": {
      "text/plain": [
       "D_AGE\n",
       "1    2426.822800\n",
       "2    3277.962003\n",
       "3    2183.563931\n",
       "4    3001.887056\n",
       "5    1003.456611\n",
       "6     897.210000\n",
       "Name: 총액1인TOT, dtype: float64"
      ]
     },
     "execution_count": 8,
     "metadata": {},
     "output_type": "execute_result"
    }
   ],
   "source": [
    "viet.groupby('D_AGE')['총액1인TOT'].mean()"
   ]
  },
  {
   "cell_type": "markdown",
   "id": "fcb6f174",
   "metadata": {},
   "source": [
    "### 베트남의 MZ의 가장 만족한 활동"
   ]
  },
  {
   "cell_type": "code",
   "execution_count": 9,
   "id": "42153f8d",
   "metadata": {},
   "outputs": [
    {
     "data": {
      "text/plain": [
       "2    58\n",
       "3    44\n",
       "1    20\n",
       "4    18\n",
       "5     9\n",
       "6     3\n",
       "Name: D_AGE, dtype: int64"
      ]
     },
     "execution_count": 9,
     "metadata": {},
     "output_type": "execute_result"
    }
   ],
   "source": [
    "viet['D_AGE'].value_counts()"
   ]
  },
  {
   "cell_type": "code",
   "execution_count": 20,
   "id": "5374635a",
   "metadata": {},
   "outputs": [
    {
     "data": {
      "text/plain": [
       "1.0     88.0\n",
       "2.0     98.0\n",
       "3.0     67.0\n",
       "4.0     36.0\n",
       "5.0     12.0\n",
       "6.0      7.0\n",
       "7.0      NaN\n",
       "8.0      3.0\n",
       "9.0      NaN\n",
       "10.0     8.0\n",
       "11.0    10.0\n",
       "12.0     3.0\n",
       "13.0     NaN\n",
       "14.0     NaN\n",
       "15.0     NaN\n",
       "dtype: float64"
      ]
     },
     "execution_count": 20,
     "metadata": {},
     "output_type": "execute_result"
    }
   ],
   "source": [
    "mz = viet[viet.D_AGE.isin([1,2,3])]\n",
    "mz['Q4B1'].value_counts() + mz['Q4B2'].value_counts() + mz['Q4B3'].value_counts()"
   ]
  },
  {
   "cell_type": "code",
   "execution_count": 34,
   "id": "8b19dbeb",
   "metadata": {},
   "outputs": [
    {
     "data": {
      "text/plain": [
       "1.0     44.0\n",
       "2.0     42.0\n",
       "3.0     30.0\n",
       "4.0     11.0\n",
       "5.0      NaN\n",
       "6.0      NaN\n",
       "7.0     14.0\n",
       "9.0      NaN\n",
       "10.0     NaN\n",
       "11.0     NaN\n",
       "12.0     NaN\n",
       "13.0     NaN\n",
       "dtype: float64"
      ]
     },
     "execution_count": 34,
     "metadata": {},
     "output_type": "execute_result"
    }
   ],
   "source": [
    "mz['Q3B1'].value_counts() + mz['Q3B2'].value_counts() + mz['Q3B3'].value_counts()"
   ]
  },
  {
   "cell_type": "markdown",
   "id": "33353494",
   "metadata": {},
   "source": [
    "1위 음식  \n",
    "2위 쇼핑  \n",
    "3위 자연  \n",
    "4위 유흥"
   ]
  },
  {
   "cell_type": "markdown",
   "id": "49f46186",
   "metadata": {},
   "source": [
    "### MZ vs XY 체재기간"
   ]
  },
  {
   "cell_type": "code",
   "execution_count": 62,
   "id": "d8508259",
   "metadata": {},
   "outputs": [
    {
     "name": "stdout",
     "output_type": "stream",
     "text": [
      "11.0\n",
      "57.032786885245905\n"
     ]
    }
   ],
   "source": [
    "print(mz.Q2a2.median())\n",
    "print(mz.Q2a2.mean())"
   ]
  },
  {
   "cell_type": "code",
   "execution_count": 64,
   "id": "f8b04331",
   "metadata": {
    "scrolled": true
   },
   "outputs": [
    {
     "data": {
      "text/plain": [
       "4      18\n",
       "5      18\n",
       "15     14\n",
       "7       8\n",
       "6       7\n",
       "90      5\n",
       "8       4\n",
       "3       4\n",
       "10      2\n",
       "365     2\n",
       "30      2\n",
       "17      2\n",
       "19      2\n",
       "91      2\n",
       "61      2\n",
       "180     2\n",
       "210     2\n",
       "120     2\n",
       "330     2\n",
       "16      1\n",
       "13      1\n",
       "33      1\n",
       "12      1\n",
       "24      1\n",
       "21      1\n",
       "306     1\n",
       "132     1\n",
       "28      1\n",
       "272     1\n",
       "302     1\n",
       "31      1\n",
       "14      1\n",
       "300     1\n",
       "121     1\n",
       "181     1\n",
       "182     1\n",
       "331     1\n",
       "27      1\n",
       "233     1\n",
       "360     1\n",
       "189     1\n",
       "Name: Q2a2, dtype: int64"
      ]
     },
     "execution_count": 64,
     "metadata": {},
     "output_type": "execute_result"
    }
   ],
   "source": [
    "mz.Q2a2.value_counts()"
   ]
  },
  {
   "cell_type": "code",
   "execution_count": 63,
   "id": "e3254277",
   "metadata": {},
   "outputs": [
    {
     "name": "stdout",
     "output_type": "stream",
     "text": [
      "7.0\n",
      "24.6\n"
     ]
    }
   ],
   "source": [
    "no_mz = viet[~(viet.D_AGE.isin([1,2,3]))]\n",
    "print(no_mz.Q2a2.median())\n",
    "print(no_mz.Q2a2.mean())"
   ]
  },
  {
   "cell_type": "markdown",
   "id": "0f760032",
   "metadata": {},
   "source": [
    "### 1일 평균 $ 사용"
   ]
  },
  {
   "cell_type": "code",
   "execution_count": 46,
   "id": "4d082d86",
   "metadata": {},
   "outputs": [
    {
     "data": {
      "text/plain": [
       "190.12199958291188"
      ]
     },
     "execution_count": 46,
     "metadata": {},
     "output_type": "execute_result"
    }
   ],
   "source": [
    "mz.DAYall평균.mean()"
   ]
  },
  {
   "cell_type": "code",
   "execution_count": 47,
   "id": "8f45df26",
   "metadata": {},
   "outputs": [
    {
     "data": {
      "text/plain": [
       "329.2805529496814"
      ]
     },
     "execution_count": 47,
     "metadata": {},
     "output_type": "execute_result"
    }
   ],
   "source": [
    "no_mz.DAYall평균.mean()"
   ]
  },
  {
   "cell_type": "code",
   "execution_count": 55,
   "id": "0edf74f0",
   "metadata": {},
   "outputs": [
    {
     "data": {
      "text/plain": [
       "244.530095007146"
      ]
     },
     "execution_count": 55,
     "metadata": {},
     "output_type": "execute_result"
    }
   ],
   "source": [
    "mz.DAY평균.mean()"
   ]
  },
  {
   "cell_type": "code",
   "execution_count": 56,
   "id": "c79f8ef8",
   "metadata": {},
   "outputs": [
    {
     "data": {
      "text/plain": [
       "259.83116281036973"
      ]
     },
     "execution_count": 56,
     "metadata": {},
     "output_type": "execute_result"
    }
   ],
   "source": [
    "no_mz.DAY평균.mean()"
   ]
  },
  {
   "cell_type": "markdown",
   "id": "40fa944d",
   "metadata": {},
   "source": [
    "### 1명당 평균 $ 사용"
   ]
  },
  {
   "cell_type": "code",
   "execution_count": 51,
   "id": "359fc781",
   "metadata": {},
   "outputs": [
    {
     "data": {
      "text/plain": [
       "2182.8951736551726"
      ]
     },
     "execution_count": 51,
     "metadata": {},
     "output_type": "execute_result"
    }
   ],
   "source": [
    "mz.총액1인MIS.mean()"
   ]
  },
  {
   "cell_type": "code",
   "execution_count": 52,
   "id": "63bc0917",
   "metadata": {},
   "outputs": [
    {
     "data": {
      "text/plain": [
       "1577.8174655172413"
      ]
     },
     "execution_count": 52,
     "metadata": {},
     "output_type": "execute_result"
    }
   ],
   "source": [
    "no_mz.총액1인MIS.mean()"
   ]
  },
  {
   "cell_type": "code",
   "execution_count": 53,
   "id": "901d78c4",
   "metadata": {},
   "outputs": [
    {
     "data": {
      "text/plain": [
       "2743.730042163934"
      ]
     },
     "execution_count": 53,
     "metadata": {},
     "output_type": "execute_result"
    }
   ],
   "source": [
    "mz.총액1인TOT.mean()"
   ]
  },
  {
   "cell_type": "code",
   "execution_count": 54,
   "id": "16d33829",
   "metadata": {},
   "outputs": [
    {
     "data": {
      "text/plain": [
       "2191.890216666666"
      ]
     },
     "execution_count": 54,
     "metadata": {},
     "output_type": "execute_result"
    }
   ],
   "source": [
    "no_mz.총액1인TOT.mean()"
   ]
  },
  {
   "cell_type": "code",
   "execution_count": 59,
   "id": "fd8a20cf",
   "metadata": {},
   "outputs": [
    {
     "data": {
      "text/plain": [
       "10    20.394737\n",
       "4     15.131579\n",
       "11    15.131579\n",
       "7     10.526316\n",
       "12     9.210526\n",
       "8      8.552632\n",
       "1      7.236842\n",
       "6      6.578947\n",
       "9      5.263158\n",
       "5      1.315789\n",
       "3      0.657895\n",
       "Name: D_MON, dtype: float64"
      ]
     },
     "execution_count": 59,
     "metadata": {},
     "output_type": "execute_result"
    }
   ],
   "source": [
    "(viet.D_MON.value_counts()/len(viet))*100"
   ]
  },
  {
   "cell_type": "code",
   "execution_count": null,
   "id": "9f73275a",
   "metadata": {},
   "outputs": [],
   "source": []
  }
 ],
 "metadata": {
  "kernelspec": {
   "display_name": "Python 3 (ipykernel)",
   "language": "python",
   "name": "python3"
  },
  "language_info": {
   "codemirror_mode": {
    "name": "ipython",
    "version": 3
   },
   "file_extension": ".py",
   "mimetype": "text/x-python",
   "name": "python",
   "nbconvert_exporter": "python",
   "pygments_lexer": "ipython3",
   "version": "3.10.8"
  }
 },
 "nbformat": 4,
 "nbformat_minor": 5
}
