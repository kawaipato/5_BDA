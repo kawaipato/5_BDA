{
 "cells": [
  {
   "cell_type": "code",
   "execution_count": 2,
   "id": "99483fba",
   "metadata": {},
   "outputs": [],
   "source": [
    "import pandas as pd\n",
    "import numpy as np\n",
    "import matplotlib.pyplot as plt\n",
    "import seaborn as sns"
   ]
  },
  {
   "cell_type": "code",
   "execution_count": 3,
   "id": "8848577d",
   "metadata": {},
   "outputs": [],
   "source": [
    "df22 = pd.read_excel('/Users/seoihwan/Desktop/escuela/BDA_proj/5_BDA/data/2022foreigner.xlsx')"
   ]
  },
  {
   "cell_type": "code",
   "execution_count": 4,
   "id": "a790e76c",
   "metadata": {},
   "outputs": [
    {
     "data": {
      "text/html": [
       "<div>\n",
       "<style scoped>\n",
       "    .dataframe tbody tr th:only-of-type {\n",
       "        vertical-align: middle;\n",
       "    }\n",
       "\n",
       "    .dataframe tbody tr th {\n",
       "        vertical-align: top;\n",
       "    }\n",
       "\n",
       "    .dataframe thead th {\n",
       "        text-align: right;\n",
       "    }\n",
       "</style>\n",
       "<table border=\"1\" class=\"dataframe\">\n",
       "  <thead>\n",
       "    <tr style=\"text-align: right;\">\n",
       "      <th></th>\n",
       "      <th>id</th>\n",
       "      <th>Q1</th>\n",
       "      <th>RQ1</th>\n",
       "      <th>Q3</th>\n",
       "      <th>Q3B1</th>\n",
       "      <th>Q3B2</th>\n",
       "      <th>Q3B3</th>\n",
       "      <th>Q4</th>\n",
       "      <th>Q4A01</th>\n",
       "      <th>Q4A02</th>\n",
       "      <th>...</th>\n",
       "      <th>Q9</th>\n",
       "      <th>D_MON</th>\n",
       "      <th>D_BUN</th>\n",
       "      <th>D_NAT</th>\n",
       "      <th>D_SEX</th>\n",
       "      <th>D_AGE</th>\n",
       "      <th>D_MOK</th>\n",
       "      <th>D_PLA</th>\n",
       "      <th>D_Q1</th>\n",
       "      <th>D_TYP</th>\n",
       "    </tr>\n",
       "  </thead>\n",
       "  <tbody>\n",
       "    <tr>\n",
       "      <th>28</th>\n",
       "      <td>397</td>\n",
       "      <td>1</td>\n",
       "      <td>1</td>\n",
       "      <td>4</td>\n",
       "      <td>NaN</td>\n",
       "      <td>NaN</td>\n",
       "      <td>NaN</td>\n",
       "      <td>1</td>\n",
       "      <td>1.0</td>\n",
       "      <td>2.0</td>\n",
       "      <td>...</td>\n",
       "      <td>5</td>\n",
       "      <td>1</td>\n",
       "      <td>1</td>\n",
       "      <td>19</td>\n",
       "      <td>2</td>\n",
       "      <td>2</td>\n",
       "      <td>4</td>\n",
       "      <td>1</td>\n",
       "      <td>1</td>\n",
       "      <td>NaN</td>\n",
       "    </tr>\n",
       "    <tr>\n",
       "      <th>30</th>\n",
       "      <td>402</td>\n",
       "      <td>1</td>\n",
       "      <td>1</td>\n",
       "      <td>4</td>\n",
       "      <td>NaN</td>\n",
       "      <td>NaN</td>\n",
       "      <td>NaN</td>\n",
       "      <td>1</td>\n",
       "      <td>1.0</td>\n",
       "      <td>2.0</td>\n",
       "      <td>...</td>\n",
       "      <td>5</td>\n",
       "      <td>1</td>\n",
       "      <td>1</td>\n",
       "      <td>19</td>\n",
       "      <td>2</td>\n",
       "      <td>2</td>\n",
       "      <td>4</td>\n",
       "      <td>1</td>\n",
       "      <td>1</td>\n",
       "      <td>NaN</td>\n",
       "    </tr>\n",
       "    <tr>\n",
       "      <th>35</th>\n",
       "      <td>482</td>\n",
       "      <td>1</td>\n",
       "      <td>1</td>\n",
       "      <td>2</td>\n",
       "      <td>13.0</td>\n",
       "      <td>2.0</td>\n",
       "      <td>NaN</td>\n",
       "      <td>1</td>\n",
       "      <td>NaN</td>\n",
       "      <td>2.0</td>\n",
       "      <td>...</td>\n",
       "      <td>5</td>\n",
       "      <td>1</td>\n",
       "      <td>1</td>\n",
       "      <td>19</td>\n",
       "      <td>2</td>\n",
       "      <td>3</td>\n",
       "      <td>2</td>\n",
       "      <td>1</td>\n",
       "      <td>1</td>\n",
       "      <td>NaN</td>\n",
       "    </tr>\n",
       "    <tr>\n",
       "      <th>63</th>\n",
       "      <td>627</td>\n",
       "      <td>1</td>\n",
       "      <td>1</td>\n",
       "      <td>2</td>\n",
       "      <td>13.0</td>\n",
       "      <td>NaN</td>\n",
       "      <td>NaN</td>\n",
       "      <td>1</td>\n",
       "      <td>1.0</td>\n",
       "      <td>2.0</td>\n",
       "      <td>...</td>\n",
       "      <td>5</td>\n",
       "      <td>1</td>\n",
       "      <td>1</td>\n",
       "      <td>19</td>\n",
       "      <td>2</td>\n",
       "      <td>4</td>\n",
       "      <td>2</td>\n",
       "      <td>1</td>\n",
       "      <td>1</td>\n",
       "      <td>NaN</td>\n",
       "    </tr>\n",
       "    <tr>\n",
       "      <th>164</th>\n",
       "      <td>1101</td>\n",
       "      <td>1</td>\n",
       "      <td>1</td>\n",
       "      <td>4</td>\n",
       "      <td>NaN</td>\n",
       "      <td>NaN</td>\n",
       "      <td>NaN</td>\n",
       "      <td>1</td>\n",
       "      <td>1.0</td>\n",
       "      <td>2.0</td>\n",
       "      <td>...</td>\n",
       "      <td>5</td>\n",
       "      <td>1</td>\n",
       "      <td>1</td>\n",
       "      <td>19</td>\n",
       "      <td>2</td>\n",
       "      <td>2</td>\n",
       "      <td>4</td>\n",
       "      <td>1</td>\n",
       "      <td>1</td>\n",
       "      <td>NaN</td>\n",
       "    </tr>\n",
       "    <tr>\n",
       "      <th>...</th>\n",
       "      <td>...</td>\n",
       "      <td>...</td>\n",
       "      <td>...</td>\n",
       "      <td>...</td>\n",
       "      <td>...</td>\n",
       "      <td>...</td>\n",
       "      <td>...</td>\n",
       "      <td>...</td>\n",
       "      <td>...</td>\n",
       "      <td>...</td>\n",
       "      <td>...</td>\n",
       "      <td>...</td>\n",
       "      <td>...</td>\n",
       "      <td>...</td>\n",
       "      <td>...</td>\n",
       "      <td>...</td>\n",
       "      <td>...</td>\n",
       "      <td>...</td>\n",
       "      <td>...</td>\n",
       "      <td>...</td>\n",
       "      <td>...</td>\n",
       "    </tr>\n",
       "    <tr>\n",
       "      <th>18986</th>\n",
       "      <td>40227</td>\n",
       "      <td>3</td>\n",
       "      <td>3</td>\n",
       "      <td>4</td>\n",
       "      <td>NaN</td>\n",
       "      <td>NaN</td>\n",
       "      <td>NaN</td>\n",
       "      <td>1</td>\n",
       "      <td>1.0</td>\n",
       "      <td>2.0</td>\n",
       "      <td>...</td>\n",
       "      <td>5</td>\n",
       "      <td>12</td>\n",
       "      <td>4</td>\n",
       "      <td>19</td>\n",
       "      <td>2</td>\n",
       "      <td>2</td>\n",
       "      <td>4</td>\n",
       "      <td>1</td>\n",
       "      <td>3</td>\n",
       "      <td>NaN</td>\n",
       "    </tr>\n",
       "    <tr>\n",
       "      <th>19248</th>\n",
       "      <td>40686</td>\n",
       "      <td>2</td>\n",
       "      <td>2</td>\n",
       "      <td>2</td>\n",
       "      <td>12.0</td>\n",
       "      <td>1.0</td>\n",
       "      <td>3.0</td>\n",
       "      <td>1</td>\n",
       "      <td>1.0</td>\n",
       "      <td>2.0</td>\n",
       "      <td>...</td>\n",
       "      <td>5</td>\n",
       "      <td>12</td>\n",
       "      <td>4</td>\n",
       "      <td>19</td>\n",
       "      <td>2</td>\n",
       "      <td>5</td>\n",
       "      <td>2</td>\n",
       "      <td>3</td>\n",
       "      <td>2</td>\n",
       "      <td>1.0</td>\n",
       "    </tr>\n",
       "    <tr>\n",
       "      <th>19341</th>\n",
       "      <td>40824</td>\n",
       "      <td>1</td>\n",
       "      <td>1</td>\n",
       "      <td>4</td>\n",
       "      <td>NaN</td>\n",
       "      <td>NaN</td>\n",
       "      <td>NaN</td>\n",
       "      <td>1</td>\n",
       "      <td>1.0</td>\n",
       "      <td>2.0</td>\n",
       "      <td>...</td>\n",
       "      <td>4</td>\n",
       "      <td>12</td>\n",
       "      <td>4</td>\n",
       "      <td>19</td>\n",
       "      <td>2</td>\n",
       "      <td>2</td>\n",
       "      <td>4</td>\n",
       "      <td>1</td>\n",
       "      <td>1</td>\n",
       "      <td>NaN</td>\n",
       "    </tr>\n",
       "    <tr>\n",
       "      <th>19528</th>\n",
       "      <td>41129</td>\n",
       "      <td>4</td>\n",
       "      <td>4</td>\n",
       "      <td>4</td>\n",
       "      <td>NaN</td>\n",
       "      <td>NaN</td>\n",
       "      <td>NaN</td>\n",
       "      <td>1</td>\n",
       "      <td>1.0</td>\n",
       "      <td>2.0</td>\n",
       "      <td>...</td>\n",
       "      <td>4</td>\n",
       "      <td>12</td>\n",
       "      <td>4</td>\n",
       "      <td>19</td>\n",
       "      <td>1</td>\n",
       "      <td>2</td>\n",
       "      <td>4</td>\n",
       "      <td>3</td>\n",
       "      <td>4</td>\n",
       "      <td>1.0</td>\n",
       "    </tr>\n",
       "    <tr>\n",
       "      <th>19529</th>\n",
       "      <td>41134</td>\n",
       "      <td>3</td>\n",
       "      <td>3</td>\n",
       "      <td>2</td>\n",
       "      <td>1.0</td>\n",
       "      <td>3.0</td>\n",
       "      <td>2.0</td>\n",
       "      <td>1</td>\n",
       "      <td>1.0</td>\n",
       "      <td>2.0</td>\n",
       "      <td>...</td>\n",
       "      <td>5</td>\n",
       "      <td>12</td>\n",
       "      <td>4</td>\n",
       "      <td>19</td>\n",
       "      <td>2</td>\n",
       "      <td>5</td>\n",
       "      <td>2</td>\n",
       "      <td>3</td>\n",
       "      <td>3</td>\n",
       "      <td>1.0</td>\n",
       "    </tr>\n",
       "  </tbody>\n",
       "</table>\n",
       "<p>152 rows × 188 columns</p>\n",
       "</div>"
      ],
      "text/plain": [
       "          id  Q1  RQ1  Q3  Q3B1  Q3B2  Q3B3  Q4  Q4A01  Q4A02  ...  Q9  D_MON  \\\n",
       "28       397   1    1   4   NaN   NaN   NaN   1    1.0    2.0  ...   5      1   \n",
       "30       402   1    1   4   NaN   NaN   NaN   1    1.0    2.0  ...   5      1   \n",
       "35       482   1    1   2  13.0   2.0   NaN   1    NaN    2.0  ...   5      1   \n",
       "63       627   1    1   2  13.0   NaN   NaN   1    1.0    2.0  ...   5      1   \n",
       "164     1101   1    1   4   NaN   NaN   NaN   1    1.0    2.0  ...   5      1   \n",
       "...      ...  ..  ...  ..   ...   ...   ...  ..    ...    ...  ...  ..    ...   \n",
       "18986  40227   3    3   4   NaN   NaN   NaN   1    1.0    2.0  ...   5     12   \n",
       "19248  40686   2    2   2  12.0   1.0   3.0   1    1.0    2.0  ...   5     12   \n",
       "19341  40824   1    1   4   NaN   NaN   NaN   1    1.0    2.0  ...   4     12   \n",
       "19528  41129   4    4   4   NaN   NaN   NaN   1    1.0    2.0  ...   4     12   \n",
       "19529  41134   3    3   2   1.0   3.0   2.0   1    1.0    2.0  ...   5     12   \n",
       "\n",
       "       D_BUN  D_NAT  D_SEX  D_AGE  D_MOK  D_PLA  D_Q1  D_TYP  \n",
       "28         1     19      2      2      4      1     1    NaN  \n",
       "30         1     19      2      2      4      1     1    NaN  \n",
       "35         1     19      2      3      2      1     1    NaN  \n",
       "63         1     19      2      4      2      1     1    NaN  \n",
       "164        1     19      2      2      4      1     1    NaN  \n",
       "...      ...    ...    ...    ...    ...    ...   ...    ...  \n",
       "18986      4     19      2      2      4      1     3    NaN  \n",
       "19248      4     19      2      5      2      3     2    1.0  \n",
       "19341      4     19      2      2      4      1     1    NaN  \n",
       "19528      4     19      1      2      4      3     4    1.0  \n",
       "19529      4     19      2      5      2      3     3    1.0  \n",
       "\n",
       "[152 rows x 188 columns]"
      ]
     },
     "metadata": {},
     "output_type": "display_data"
    }
   ],
   "source": [
    "viet = df22[df22.D_NAT == 19]\n",
    "display(viet)"
   ]
  },
  {
   "cell_type": "markdown",
   "id": "fcb6f174",
   "metadata": {},
   "source": [
    "### 베트남의 MZ의 가장 만족한 활동"
   ]
  },
  {
   "cell_type": "code",
   "execution_count": 9,
   "id": "42153f8d",
   "metadata": {},
   "outputs": [
    {
     "data": {
      "text/plain": [
       "2    58\n",
       "3    44\n",
       "1    20\n",
       "4    18\n",
       "5     9\n",
       "6     3\n",
       "Name: D_AGE, dtype: int64"
      ]
     },
     "execution_count": 9,
     "metadata": {},
     "output_type": "execute_result"
    }
   ],
   "source": [
    "viet['D_AGE'].value_counts()"
   ]
  },
  {
   "cell_type": "code",
   "execution_count": 14,
   "id": "5374635a",
   "metadata": {},
   "outputs": [
    {
     "data": {
      "text/plain": [
       "1.0     88.0\n",
       "2.0     98.0\n",
       "3.0     67.0\n",
       "4.0     36.0\n",
       "5.0     12.0\n",
       "6.0      7.0\n",
       "7.0      NaN\n",
       "8.0      3.0\n",
       "9.0      NaN\n",
       "10.0     8.0\n",
       "11.0    10.0\n",
       "12.0     3.0\n",
       "13.0     NaN\n",
       "14.0     NaN\n",
       "15.0     NaN\n",
       "dtype: float64"
      ]
     },
     "execution_count": 14,
     "metadata": {},
     "output_type": "execute_result"
    }
   ],
   "source": [
    "mz = viet[viet.D_AGE.isin([1,2,3])]\n",
    "mz['Q4B1'].value_counts() + mz['Q4B2'].value_counts() + mz['Q4B3'].value_counts()"
   ]
  },
  {
   "cell_type": "code",
   "execution_count": 34,
   "id": "8b19dbeb",
   "metadata": {},
   "outputs": [
    {
     "data": {
      "text/plain": [
       "1.0     44.0\n",
       "2.0     42.0\n",
       "3.0     30.0\n",
       "4.0     11.0\n",
       "5.0      NaN\n",
       "6.0      NaN\n",
       "7.0     14.0\n",
       "9.0      NaN\n",
       "10.0     NaN\n",
       "11.0     NaN\n",
       "12.0     NaN\n",
       "13.0     NaN\n",
       "dtype: float64"
      ]
     },
     "execution_count": 34,
     "metadata": {},
     "output_type": "execute_result"
    }
   ],
   "source": [
    "mz['Q3B1'].value_counts() + mz['Q3B2'].value_counts() + mz['Q3B3'].value_counts()"
   ]
  },
  {
   "cell_type": "markdown",
   "id": "33353494",
   "metadata": {},
   "source": [
    "1위 음식  \n",
    "2위 쇼핑  \n",
    "3위 자연  \n",
    "4위 유흥"
   ]
  },
  {
   "cell_type": "markdown",
   "id": "49f46186",
   "metadata": {},
   "source": [
    "### MZ vs XY 체재기간"
   ]
  },
  {
   "cell_type": "code",
   "execution_count": 62,
   "id": "d8508259",
   "metadata": {},
   "outputs": [
    {
     "name": "stdout",
     "output_type": "stream",
     "text": [
      "11.0\n",
      "57.032786885245905\n"
     ]
    }
   ],
   "source": [
    "print(mz.Q2a2.median())\n",
    "print(mz.Q2a2.mean())"
   ]
  },
  {
   "cell_type": "code",
   "execution_count": 6,
   "id": "48cb10de",
   "metadata": {},
   "outputs": [
    {
     "data": {
      "text/plain": [
       "9.725274725274724"
      ]
     },
     "execution_count": 6,
     "metadata": {},
     "output_type": "execute_result"
    }
   ],
   "source": [
    "mz.MQ2A2_61.mean()"
   ]
  },
  {
   "cell_type": "code",
   "execution_count": 7,
   "id": "bcd3a2c9",
   "metadata": {},
   "outputs": [
    {
     "data": {
      "text/plain": [
       "11.653846153846153"
      ]
     },
     "execution_count": 7,
     "metadata": {},
     "output_type": "execute_result"
    }
   ],
   "source": [
    "no_mz.MQ2A2_61.mean()"
   ]
  },
  {
   "cell_type": "code",
   "execution_count": 64,
   "id": "f8b04331",
   "metadata": {
    "scrolled": true
   },
   "outputs": [
    {
     "data": {
      "text/plain": [
       "4      18\n",
       "5      18\n",
       "15     14\n",
       "7       8\n",
       "6       7\n",
       "90      5\n",
       "8       4\n",
       "3       4\n",
       "10      2\n",
       "365     2\n",
       "30      2\n",
       "17      2\n",
       "19      2\n",
       "91      2\n",
       "61      2\n",
       "180     2\n",
       "210     2\n",
       "120     2\n",
       "330     2\n",
       "16      1\n",
       "13      1\n",
       "33      1\n",
       "12      1\n",
       "24      1\n",
       "21      1\n",
       "306     1\n",
       "132     1\n",
       "28      1\n",
       "272     1\n",
       "302     1\n",
       "31      1\n",
       "14      1\n",
       "300     1\n",
       "121     1\n",
       "181     1\n",
       "182     1\n",
       "331     1\n",
       "27      1\n",
       "233     1\n",
       "360     1\n",
       "189     1\n",
       "Name: Q2a2, dtype: int64"
      ]
     },
     "execution_count": 64,
     "metadata": {},
     "output_type": "execute_result"
    }
   ],
   "source": [
    "mz.Q2a2.value_counts()"
   ]
  },
  {
   "cell_type": "code",
   "execution_count": 15,
   "id": "e3254277",
   "metadata": {},
   "outputs": [
    {
     "name": "stdout",
     "output_type": "stream",
     "text": [
      "7.0\n",
      "24.6\n"
     ]
    }
   ],
   "source": [
    "no_mz = viet[~(viet.D_AGE.isin([1,2,3]))]\n",
    "print(no_mz.Q2a2.median())\n",
    "print(no_mz.Q2a2.mean())"
   ]
  },
  {
   "cell_type": "markdown",
   "id": "60cdd9f3",
   "metadata": {},
   "source": [
    "### MZ vs XY 방한 횟수"
   ]
  },
  {
   "cell_type": "code",
   "execution_count": 10,
   "id": "968a859f",
   "metadata": {},
   "outputs": [
    {
     "data": {
      "text/plain": [
       "count    122.000000\n",
       "mean       2.254098\n",
       "std        2.991894\n",
       "min        1.000000\n",
       "25%        1.000000\n",
       "50%        1.000000\n",
       "75%        2.000000\n",
       "max       20.000000\n",
       "Name: Q1, dtype: float64"
      ]
     },
     "execution_count": 10,
     "metadata": {},
     "output_type": "execute_result"
    }
   ],
   "source": [
    "mz.Q1.describe()"
   ]
  },
  {
   "cell_type": "code",
   "execution_count": 20,
   "id": "e134c582",
   "metadata": {},
   "outputs": [
    {
     "data": {
      "text/plain": [
       "1     65.573770\n",
       "2     11.475410\n",
       "3      9.016393\n",
       "5      6.557377\n",
       "10     3.278689\n",
       "20     1.639344\n",
       "4      1.639344\n",
       "6      0.819672\n",
       "Name: Q1, dtype: float64"
      ]
     },
     "execution_count": 20,
     "metadata": {},
     "output_type": "execute_result"
    }
   ],
   "source": [
    "mz.Q1.value_counts()/len(mz)*100"
   ]
  },
  {
   "cell_type": "code",
   "execution_count": 11,
   "id": "445b5855",
   "metadata": {},
   "outputs": [
    {
     "data": {
      "text/plain": [
       "count    30.000000\n",
       "mean      2.200000\n",
       "std       1.882771\n",
       "min       1.000000\n",
       "25%       1.000000\n",
       "50%       2.000000\n",
       "75%       2.750000\n",
       "max      10.000000\n",
       "Name: Q1, dtype: float64"
      ]
     },
     "execution_count": 11,
     "metadata": {},
     "output_type": "execute_result"
    }
   ],
   "source": [
    "no_mz.Q1.describe()"
   ]
  },
  {
   "cell_type": "code",
   "execution_count": 21,
   "id": "d60930ff",
   "metadata": {},
   "outputs": [
    {
     "data": {
      "text/plain": [
       "1     46.666667\n",
       "2     26.666667\n",
       "3     13.333333\n",
       "5      6.666667\n",
       "10     3.333333\n",
       "4      3.333333\n",
       "Name: Q1, dtype: float64"
      ]
     },
     "execution_count": 21,
     "metadata": {},
     "output_type": "execute_result"
    }
   ],
   "source": [
    "no_mz.Q1.value_counts()/len(no_mz)*100"
   ]
  },
  {
   "cell_type": "code",
   "execution_count": 29,
   "id": "621978fd",
   "metadata": {},
   "outputs": [
    {
     "name": "stdout",
     "output_type": "stream",
     "text": [
      "1.6810344827586208\n",
      "1.9310344827586208\n"
     ]
    }
   ],
   "source": [
    "## 이상치 제거\n",
    "print(mz[mz.Q1 < 10].Q1.mean())\n",
    "print(no_mz[no_mz.Q1 < 10].Q1.mean())"
   ]
  },
  {
   "cell_type": "code",
   "execution_count": 205,
   "id": "9c655904",
   "metadata": {},
   "outputs": [
    {
     "name": "stdout",
     "output_type": "stream",
     "text": [
      "count    17.000000\n",
      "mean      3.411765\n",
      "std       5.172751\n",
      "min       1.000000\n",
      "25%       1.000000\n",
      "50%       1.000000\n",
      "75%       2.000000\n",
      "max      20.000000\n",
      "Name: Q1, dtype: float64\n",
      "1     58.823529\n",
      "2     23.529412\n",
      "10    11.764706\n",
      "20     5.882353\n",
      "Name: Q1, dtype: float64\n"
     ]
    }
   ],
   "source": [
    "## Y21\n",
    "print(mz21.Q1.describe())\n",
    "print(mz21.Q1.value_counts(normalize=True)*100)"
   ]
  },
  {
   "cell_type": "code",
   "execution_count": 206,
   "id": "0128eb5a",
   "metadata": {},
   "outputs": [
    {
     "name": "stdout",
     "output_type": "stream",
     "text": [
      "count    1.0\n",
      "mean     2.0\n",
      "std      NaN\n",
      "min      2.0\n",
      "25%      2.0\n",
      "50%      2.0\n",
      "75%      2.0\n",
      "max      2.0\n",
      "Name: Q1, dtype: float64\n",
      "2    100.0\n",
      "Name: Q1, dtype: float64\n"
     ]
    }
   ],
   "source": [
    "print(no_mz21.Q1.describe())\n",
    "print(no_mz21.Q1.value_counts(normalize=True)*100)"
   ]
  },
  {
   "cell_type": "code",
   "execution_count": 207,
   "id": "6008abd9",
   "metadata": {},
   "outputs": [
    {
     "name": "stdout",
     "output_type": "stream",
     "text": [
      "count    0.0\n",
      "mean     NaN\n",
      "std      NaN\n",
      "min      NaN\n",
      "25%      NaN\n",
      "50%      NaN\n",
      "75%      NaN\n",
      "max      NaN\n",
      "Name: Q1, dtype: float64\n",
      "Series([], Name: Q1, dtype: float64)\n"
     ]
    }
   ],
   "source": [
    "# 2020\n",
    "print(mz20.Q1.describe())\n",
    "print(mz20.Q1.value_counts(normalize=True)*100)"
   ]
  },
  {
   "cell_type": "code",
   "execution_count": 208,
   "id": "5d6c409f",
   "metadata": {},
   "outputs": [
    {
     "name": "stdout",
     "output_type": "stream",
     "text": [
      "count     7.000000\n",
      "mean      4.142857\n",
      "std       3.184785\n",
      "min       1.000000\n",
      "25%       1.500000\n",
      "50%       5.000000\n",
      "75%       5.000000\n",
      "max      10.000000\n",
      "Name: Q1, dtype: float64\n",
      "5     42.857143\n",
      "1     28.571429\n",
      "10    14.285714\n",
      "2     14.285714\n",
      "Name: Q1, dtype: float64\n"
     ]
    }
   ],
   "source": [
    "print(no_mz20.Q1.describe())\n",
    "print(no_mz20.Q1.value_counts(normalize=True)*100)"
   ]
  },
  {
   "cell_type": "code",
   "execution_count": 209,
   "id": "033ad55a",
   "metadata": {},
   "outputs": [
    {
     "name": "stdout",
     "output_type": "stream",
     "text": [
      "count    493.000000\n",
      "mean       2.328600\n",
      "std        5.091993\n",
      "min        1.000000\n",
      "25%        1.000000\n",
      "50%        1.000000\n",
      "75%        2.000000\n",
      "max      100.000000\n",
      "Name: Q1, dtype: float64\n",
      "1      63.691684\n",
      "2      16.227181\n",
      "3       6.896552\n",
      "4       3.245436\n",
      "5       2.839757\n",
      "10      2.434077\n",
      "6       1.825558\n",
      "8       0.811359\n",
      "20      0.405680\n",
      "15      0.405680\n",
      "9       0.202840\n",
      "100     0.202840\n",
      "16      0.202840\n",
      "18      0.202840\n",
      "12      0.202840\n",
      "7       0.202840\n",
      "Name: Q1, dtype: float64\n"
     ]
    }
   ],
   "source": [
    "#19\n",
    "print(mz19.Q1.describe())\n",
    "print(mz19.Q1.value_counts(normalize=True)*100)"
   ]
  },
  {
   "cell_type": "code",
   "execution_count": 210,
   "id": "16a1eda2",
   "metadata": {},
   "outputs": [
    {
     "name": "stdout",
     "output_type": "stream",
     "text": [
      "count    255.000000\n",
      "mean       1.725490\n",
      "std        1.525098\n",
      "min        1.000000\n",
      "25%        1.000000\n",
      "50%        1.000000\n",
      "75%        2.000000\n",
      "max       10.000000\n",
      "Name: Q1, dtype: float64\n",
      "1     68.627451\n",
      "2     14.509804\n",
      "3      7.843137\n",
      "4      3.529412\n",
      "5      2.352941\n",
      "6      1.176471\n",
      "10     1.176471\n",
      "9      0.392157\n",
      "8      0.392157\n",
      "Name: Q1, dtype: float64\n"
     ]
    }
   ],
   "source": [
    "print(no_mz19.Q1.describe())\n",
    "print(no_mz19.Q1.value_counts(normalize=True)*100)"
   ]
  },
  {
   "cell_type": "code",
   "execution_count": null,
   "id": "57d22b80",
   "metadata": {},
   "outputs": [],
   "source": []
  },
  {
   "cell_type": "code",
   "execution_count": null,
   "id": "fb9079fe",
   "metadata": {},
   "outputs": [],
   "source": []
  },
  {
   "cell_type": "markdown",
   "id": "1ebaf25f",
   "metadata": {},
   "source": [
    "### MZ vs XY 재방문 희망"
   ]
  },
  {
   "cell_type": "code",
   "execution_count": 17,
   "id": "e46075e1",
   "metadata": {},
   "outputs": [
    {
     "data": {
      "text/plain": [
       "count    122.000000\n",
       "mean       4.754098\n",
       "std        0.451105\n",
       "min        3.000000\n",
       "25%        5.000000\n",
       "50%        5.000000\n",
       "75%        5.000000\n",
       "max        5.000000\n",
       "Name: Q7, dtype: float64"
      ]
     },
     "execution_count": 17,
     "metadata": {},
     "output_type": "execute_result"
    }
   ],
   "source": [
    "mz.Q7.describe()"
   ]
  },
  {
   "cell_type": "code",
   "execution_count": 18,
   "id": "8bb7f86a",
   "metadata": {},
   "outputs": [
    {
     "data": {
      "text/plain": [
       "count    30.000000\n",
       "mean      4.900000\n",
       "std       0.305129\n",
       "min       4.000000\n",
       "25%       5.000000\n",
       "50%       5.000000\n",
       "75%       5.000000\n",
       "max       5.000000\n",
       "Name: Q7, dtype: float64"
      ]
     },
     "execution_count": 18,
     "metadata": {},
     "output_type": "execute_result"
    }
   ],
   "source": [
    "no_mz.Q7.describe()"
   ]
  },
  {
   "cell_type": "markdown",
   "id": "b3ceb0f8",
   "metadata": {},
   "source": [
    "### MZ 타인추천"
   ]
  },
  {
   "cell_type": "code",
   "execution_count": 22,
   "id": "7f5ef482",
   "metadata": {},
   "outputs": [
    {
     "data": {
      "text/plain": [
       "count    122.000000\n",
       "mean       4.795082\n",
       "std        0.425208\n",
       "min        3.000000\n",
       "25%        5.000000\n",
       "50%        5.000000\n",
       "75%        5.000000\n",
       "max        5.000000\n",
       "Name: Q9, dtype: float64"
      ]
     },
     "execution_count": 22,
     "metadata": {},
     "output_type": "execute_result"
    }
   ],
   "source": [
    "mz.Q9.describe()"
   ]
  },
  {
   "cell_type": "code",
   "execution_count": 24,
   "id": "559c4250",
   "metadata": {},
   "outputs": [
    {
     "data": {
      "text/plain": [
       "5    98\n",
       "4    23\n",
       "3     1\n",
       "Name: Q9, dtype: int64"
      ]
     },
     "execution_count": 24,
     "metadata": {},
     "output_type": "execute_result"
    }
   ],
   "source": [
    "mz.Q9.value_counts()"
   ]
  },
  {
   "cell_type": "code",
   "execution_count": 23,
   "id": "5c298855",
   "metadata": {},
   "outputs": [
    {
     "data": {
      "text/plain": [
       "count    30.000000\n",
       "mean      4.900000\n",
       "std       0.305129\n",
       "min       4.000000\n",
       "25%       5.000000\n",
       "50%       5.000000\n",
       "75%       5.000000\n",
       "max       5.000000\n",
       "Name: Q9, dtype: float64"
      ]
     },
     "execution_count": 23,
     "metadata": {},
     "output_type": "execute_result"
    }
   ],
   "source": [
    "no_mz.Q9.describe()"
   ]
  },
  {
   "cell_type": "code",
   "execution_count": 25,
   "id": "f82714ab",
   "metadata": {},
   "outputs": [
    {
     "data": {
      "text/plain": [
       "5    27\n",
       "4     3\n",
       "Name: Q9, dtype: int64"
      ]
     },
     "execution_count": 25,
     "metadata": {},
     "output_type": "execute_result"
    }
   ],
   "source": [
    "no_mz.Q9.value_counts()"
   ]
  },
  {
   "cell_type": "markdown",
   "id": "1d57e42b",
   "metadata": {},
   "source": [
    "### mz 방문 지역 확인"
   ]
  },
  {
   "cell_type": "code",
   "execution_count": 41,
   "id": "3b7ce780",
   "metadata": {},
   "outputs": [
    {
     "data": {
      "text/plain": [
       "28       1.0\n",
       "30       1.0\n",
       "35       NaN\n",
       "63       NaN\n",
       "164      NaN\n",
       "        ... \n",
       "18986    1.0\n",
       "19248    NaN\n",
       "19341    1.0\n",
       "19528    1.0\n",
       "19529    NaN\n",
       "Name: Q5A01, Length: 152, dtype: float64"
      ]
     },
     "execution_count": 41,
     "metadata": {},
     "output_type": "execute_result"
    }
   ],
   "source": [
    "viet.iloc[:,28]"
   ]
  },
  {
   "cell_type": "code",
   "execution_count": 47,
   "id": "146674d1",
   "metadata": {},
   "outputs": [
    {
     "data": {
      "text/plain": [
       "Q5A01    80.327869\n",
       "Q5A02    27.868852\n",
       "Q5A03    13.114754\n",
       "Q5A04     9.836066\n",
       "Q5A05     3.278689\n",
       "Q5A06     2.459016\n",
       "Q5A07     3.278689\n",
       "Q5A08     3.278689\n",
       "Q5A09    15.573770\n",
       "Q5A10     3.278689\n",
       "Q5A11     6.557377\n",
       "Q5A12     1.639344\n",
       "Q5A13    22.131148\n",
       "Q5A14     3.278689\n",
       "Q5A15     1.639344\n",
       "Q5A16     1.639344\n",
       "Q5A17     4.098361\n",
       "dtype: float64"
      ]
     },
     "execution_count": 47,
     "metadata": {},
     "output_type": "execute_result"
    }
   ],
   "source": [
    "mz.iloc[:,28:45].count()/len(mz)*100"
   ]
  },
  {
   "cell_type": "code",
   "execution_count": 46,
   "id": "7230e444",
   "metadata": {},
   "outputs": [
    {
     "data": {
      "text/plain": [
       "Q5A01    60.000000\n",
       "Q5A02    10.000000\n",
       "Q5A03    16.666667\n",
       "Q5A04    13.333333\n",
       "Q5A05     0.000000\n",
       "Q5A06     0.000000\n",
       "Q5A07    10.000000\n",
       "Q5A08     3.333333\n",
       "Q5A09    10.000000\n",
       "Q5A10    10.000000\n",
       "Q5A11     3.333333\n",
       "Q5A12     6.666667\n",
       "Q5A13    10.000000\n",
       "Q5A14     3.333333\n",
       "Q5A15     0.000000\n",
       "Q5A16     6.666667\n",
       "Q5A17    16.666667\n",
       "dtype: float64"
      ]
     },
     "execution_count": 46,
     "metadata": {},
     "output_type": "execute_result"
    }
   ],
   "source": [
    "no_mz.iloc[:,28:45].count()/len(no_mz)*100"
   ]
  },
  {
   "cell_type": "markdown",
   "id": "ba6ba1fe",
   "metadata": {},
   "source": [
    "### 2022 베트남 남 녀 현황 보기"
   ]
  },
  {
   "cell_type": "code",
   "execution_count": 31,
   "id": "5a0507d6",
   "metadata": {},
   "outputs": [
    {
     "data": {
      "text/plain": [
       "2    97\n",
       "1    55\n",
       "Name: D_SEX, dtype: int64"
      ]
     },
     "execution_count": 31,
     "metadata": {},
     "output_type": "execute_result"
    }
   ],
   "source": [
    "viet.D_SEX.value_counts()"
   ]
  },
  {
   "cell_type": "code",
   "execution_count": 49,
   "id": "1ea98725",
   "metadata": {},
   "outputs": [
    {
     "name": "stdout",
     "output_type": "stream",
     "text": [
      "55 97\n"
     ]
    }
   ],
   "source": [
    "man = viet[viet.D_SEX == 1]\n",
    "woman = viet[viet.D_SEX == 2]\n",
    "print(len(man), len(woman))"
   ]
  },
  {
   "cell_type": "code",
   "execution_count": 58,
   "id": "b247e3ff",
   "metadata": {},
   "outputs": [
    {
     "name": "stdout",
     "output_type": "stream",
     "text": [
      "남/여 체류기간 : 9.688888888888888 / 10.444444444444445\n"
     ]
    }
   ],
   "source": [
    "print( '남/여 체류기간 :', \n",
    "man.MQ2A2_61.mean(),'/',\n",
    "woman.MQ2A2_61.mean())"
   ]
  },
  {
   "cell_type": "code",
   "execution_count": 60,
   "id": "59b0fa6e",
   "metadata": {},
   "outputs": [
    {
     "name": "stdout",
     "output_type": "stream",
     "text": [
      "남/여 방한횟수 : 1.74 / 1.7263157894736842\n"
     ]
    }
   ],
   "source": [
    "# 결측치 제거\n",
    "print( '남/여 방한횟수 :', \n",
    "man[man.Q1 < 10].Q1.mean(),'/',\n",
    "woman[woman.Q1 < 10].Q1.mean())"
   ]
  },
  {
   "cell_type": "code",
   "execution_count": 61,
   "id": "2f7b728e",
   "metadata": {},
   "outputs": [
    {
     "name": "stdout",
     "output_type": "stream",
     "text": [
      "남/여 방한횟수 : 2.8545454545454545 / 1.8969072164948453\n"
     ]
    }
   ],
   "source": [
    "print( '남/여 방한횟수 :', \n",
    "man.Q1.mean(),'/',\n",
    "woman.Q1.mean())"
   ]
  },
  {
   "cell_type": "code",
   "execution_count": 62,
   "id": "914e482f",
   "metadata": {},
   "outputs": [
    {
     "name": "stdout",
     "output_type": "stream",
     "text": [
      "남/여 재방문의사 : 4.781818181818182 / 4.783505154639175\n"
     ]
    }
   ],
   "source": [
    "print( '남/여 전반적인만족도 :', \n",
    "man.Q7.mean(),'/',\n",
    "woman.Q7.mean())"
   ]
  },
  {
   "cell_type": "code",
   "execution_count": 64,
   "id": "27fea70a",
   "metadata": {},
   "outputs": [
    {
     "name": "stdout",
     "output_type": "stream",
     "text": [
      "남/여 재방문의사 : 4.654545454545454 / 4.690721649484536\n"
     ]
    }
   ],
   "source": [
    "print( '남/여 재방문의사 :', \n",
    "man.Q8.mean(),'/',\n",
    "woman.Q8.mean())"
   ]
  },
  {
   "cell_type": "code",
   "execution_count": 65,
   "id": "8cca69f1",
   "metadata": {},
   "outputs": [
    {
     "name": "stdout",
     "output_type": "stream",
     "text": [
      "남/여 타인추천 : 4.745454545454545 / 4.855670103092783\n"
     ]
    }
   ],
   "source": [
    "print( '남/여 타인추천 :', \n",
    "man.Q9.mean(),'/',\n",
    "woman.Q9.mean())"
   ]
  },
  {
   "cell_type": "code",
   "execution_count": 69,
   "id": "09121015",
   "metadata": {},
   "outputs": [
    {
     "data": {
      "text/plain": [
       "Q5A01    74.545455\n",
       "Q5A02    16.363636\n",
       "Q5A03    12.727273\n",
       "Q5A04    10.909091\n",
       "Q5A05     3.636364\n",
       "Q5A06     0.000000\n",
       "Q5A07     9.090909\n",
       "Q5A08     1.818182\n",
       "Q5A09    12.727273\n",
       "Q5A10     5.454545\n",
       "Q5A11     3.636364\n",
       "Q5A12     1.818182\n",
       "Q5A13    18.181818\n",
       "Q5A14     1.818182\n",
       "Q5A15     1.818182\n",
       "Q5A16     0.000000\n",
       "Q5A17     3.636364\n",
       "dtype: float64"
      ]
     },
     "execution_count": 69,
     "metadata": {},
     "output_type": "execute_result"
    }
   ],
   "source": [
    "man.iloc[:,28:45].count()/len(man)*100"
   ]
  },
  {
   "cell_type": "code",
   "execution_count": 70,
   "id": "e2700f59",
   "metadata": {},
   "outputs": [
    {
     "data": {
      "text/plain": [
       "Q5A01    77.319588\n",
       "Q5A02    28.865979\n",
       "Q5A03    14.432990\n",
       "Q5A04    10.309278\n",
       "Q5A05     2.061856\n",
       "Q5A06     3.092784\n",
       "Q5A07     2.061856\n",
       "Q5A08     4.123711\n",
       "Q5A09    15.463918\n",
       "Q5A10     4.123711\n",
       "Q5A11     7.216495\n",
       "Q5A12     3.092784\n",
       "Q5A13    20.618557\n",
       "Q5A14     4.123711\n",
       "Q5A15     1.030928\n",
       "Q5A16     4.123711\n",
       "Q5A17     8.247423\n",
       "dtype: float64"
      ]
     },
     "execution_count": 70,
     "metadata": {},
     "output_type": "execute_result"
    }
   ],
   "source": [
    "woman.iloc[:,28:45].count()/len(woman)*100"
   ]
  },
  {
   "cell_type": "markdown",
   "id": "067c1719",
   "metadata": {},
   "source": [
    "여성이 남성에 비해 12% 더 경기도를 방문한다."
   ]
  },
  {
   "cell_type": "code",
   "execution_count": 73,
   "id": "36d0d073",
   "metadata": {},
   "outputs": [
    {
     "data": {
      "text/plain": [
       "1    41.818182\n",
       "3    32.727273\n",
       "2    10.909091\n",
       "4     9.090909\n",
       "6     5.454545\n",
       "Name: Q3, dtype: float64"
      ]
     },
     "execution_count": 73,
     "metadata": {},
     "output_type": "execute_result"
    }
   ],
   "source": [
    "man.Q3.value_counts()/len(man)*100"
   ]
  },
  {
   "cell_type": "code",
   "execution_count": 75,
   "id": "5098e72e",
   "metadata": {},
   "outputs": [
    {
     "data": {
      "text/plain": [
       "1    35.051546\n",
       "4    19.587629\n",
       "2    19.587629\n",
       "6    14.432990\n",
       "3    11.340206\n",
       "Name: Q3, dtype: float64"
      ]
     },
     "execution_count": 75,
     "metadata": {},
     "output_type": "execute_result"
    }
   ],
   "source": [
    "woman.Q3.value_counts()/len(woman)*100"
   ]
  },
  {
   "cell_type": "markdown",
   "id": "7aefa330",
   "metadata": {},
   "source": [
    "베트남 남자는 사업/또는 전문활동에 여성은 친구/친지가 2위"
   ]
  },
  {
   "cell_type": "code",
   "execution_count": 78,
   "id": "9e4c0ebc",
   "metadata": {},
   "outputs": [
    {
     "name": "stdout",
     "output_type": "stream",
     "text": [
      "남/여 사용금액 : 2027.5190100740745 / 2082.2694516483516\n"
     ]
    }
   ],
   "source": [
    "print( '남/여 사용금액 :', \n",
    "man['총액1인MIS'].mean(),'/',\n",
    "woman['총액1인MIS'].mean())"
   ]
  },
  {
   "cell_type": "markdown",
   "id": "3373c565",
   "metadata": {},
   "source": [
    "베트남에서 한국에 방문한 1번 방문한 사람과 1번 이상 방문 한 사람의 차이  \n",
    "-> 1번 방문한 사람이 재방문하도록 어떤 것에 치중해야할지 봐도 좋을듯"
   ]
  },
  {
   "cell_type": "code",
   "execution_count": 5,
   "id": "6c8d76d0",
   "metadata": {},
   "outputs": [],
   "source": [
    "viet_1 = viet[viet.Q1 == 1]"
   ]
  },
  {
   "cell_type": "code",
   "execution_count": 6,
   "id": "0d459835",
   "metadata": {
    "scrolled": true
   },
   "outputs": [
    {
     "data": {
      "text/plain": [
       "1.0     32.0\n",
       "2.0     22.0\n",
       "3.0     18.0\n",
       "13.0    12.0\n",
       "4.0     12.0\n",
       "6.0      2.0\n",
       "7.0      2.0\n",
       "Name: Q3B1, dtype: float64"
      ]
     },
     "execution_count": 6,
     "metadata": {},
     "output_type": "execute_result"
    }
   ],
   "source": [
    "viet_1.Q3B1.value_counts(normalize=True)*100"
   ]
  },
  {
   "cell_type": "code",
   "execution_count": 7,
   "id": "b31d54a2",
   "metadata": {},
   "outputs": [
    {
     "data": {
      "text/html": [
       "<div>\n",
       "<style scoped>\n",
       "    .dataframe tbody tr th:only-of-type {\n",
       "        vertical-align: middle;\n",
       "    }\n",
       "\n",
       "    .dataframe tbody tr th {\n",
       "        vertical-align: top;\n",
       "    }\n",
       "\n",
       "    .dataframe thead th {\n",
       "        text-align: right;\n",
       "    }\n",
       "</style>\n",
       "<table border=\"1\" class=\"dataframe\">\n",
       "  <thead>\n",
       "    <tr style=\"text-align: right;\">\n",
       "      <th></th>\n",
       "      <th>Q1</th>\n",
       "      <th>Q2A1</th>\n",
       "      <th>Q2A2</th>\n",
       "      <th>Q2A3</th>\n",
       "      <th>Q2A4</th>\n",
       "      <th>Q2A5</th>\n",
       "      <th>Q2_1</th>\n",
       "      <th>Q3A1</th>\n",
       "      <th>Q3A2</th>\n",
       "      <th>Q3A3</th>\n",
       "      <th>...</th>\n",
       "      <th>D_COU1</th>\n",
       "      <th>D_COU2</th>\n",
       "      <th>D_GEN</th>\n",
       "      <th>D_AGE</th>\n",
       "      <th>D_Q5_1</th>\n",
       "      <th>D_Q12</th>\n",
       "      <th>D_Q1</th>\n",
       "      <th>D_Q1A</th>\n",
       "      <th>CITY</th>\n",
       "      <th>WT</th>\n",
       "    </tr>\n",
       "  </thead>\n",
       "  <tbody>\n",
       "    <tr>\n",
       "      <th>0</th>\n",
       "      <td>2</td>\n",
       "      <td>3</td>\n",
       "      <td>NaN</td>\n",
       "      <td>NaN</td>\n",
       "      <td>NaN</td>\n",
       "      <td>NaN</td>\n",
       "      <td>2.0</td>\n",
       "      <td>1.0</td>\n",
       "      <td>NaN</td>\n",
       "      <td>NaN</td>\n",
       "      <td>...</td>\n",
       "      <td>1</td>\n",
       "      <td>NaN</td>\n",
       "      <td>2</td>\n",
       "      <td>2</td>\n",
       "      <td>1</td>\n",
       "      <td>1</td>\n",
       "      <td>2</td>\n",
       "      <td>2</td>\n",
       "      <td>1</td>\n",
       "      <td>1.444420</td>\n",
       "    </tr>\n",
       "    <tr>\n",
       "      <th>1</th>\n",
       "      <td>1</td>\n",
       "      <td>3</td>\n",
       "      <td>NaN</td>\n",
       "      <td>NaN</td>\n",
       "      <td>NaN</td>\n",
       "      <td>NaN</td>\n",
       "      <td>3.0</td>\n",
       "      <td>1.0</td>\n",
       "      <td>NaN</td>\n",
       "      <td>NaN</td>\n",
       "      <td>...</td>\n",
       "      <td>1</td>\n",
       "      <td>NaN</td>\n",
       "      <td>2</td>\n",
       "      <td>2</td>\n",
       "      <td>1</td>\n",
       "      <td>1</td>\n",
       "      <td>1</td>\n",
       "      <td>1</td>\n",
       "      <td>1</td>\n",
       "      <td>1.444420</td>\n",
       "    </tr>\n",
       "    <tr>\n",
       "      <th>2</th>\n",
       "      <td>3</td>\n",
       "      <td>3</td>\n",
       "      <td>NaN</td>\n",
       "      <td>NaN</td>\n",
       "      <td>NaN</td>\n",
       "      <td>NaN</td>\n",
       "      <td>3.0</td>\n",
       "      <td>1.0</td>\n",
       "      <td>NaN</td>\n",
       "      <td>NaN</td>\n",
       "      <td>...</td>\n",
       "      <td>1</td>\n",
       "      <td>NaN</td>\n",
       "      <td>1</td>\n",
       "      <td>2</td>\n",
       "      <td>1</td>\n",
       "      <td>1</td>\n",
       "      <td>3</td>\n",
       "      <td>2</td>\n",
       "      <td>1</td>\n",
       "      <td>1.472539</td>\n",
       "    </tr>\n",
       "    <tr>\n",
       "      <th>3</th>\n",
       "      <td>10</td>\n",
       "      <td>1</td>\n",
       "      <td>NaN</td>\n",
       "      <td>NaN</td>\n",
       "      <td>NaN</td>\n",
       "      <td>NaN</td>\n",
       "      <td>NaN</td>\n",
       "      <td>1.0</td>\n",
       "      <td>NaN</td>\n",
       "      <td>NaN</td>\n",
       "      <td>...</td>\n",
       "      <td>1</td>\n",
       "      <td>NaN</td>\n",
       "      <td>2</td>\n",
       "      <td>3</td>\n",
       "      <td>1</td>\n",
       "      <td>1</td>\n",
       "      <td>4</td>\n",
       "      <td>2</td>\n",
       "      <td>1</td>\n",
       "      <td>1.923248</td>\n",
       "    </tr>\n",
       "    <tr>\n",
       "      <th>4</th>\n",
       "      <td>1</td>\n",
       "      <td>3</td>\n",
       "      <td>NaN</td>\n",
       "      <td>NaN</td>\n",
       "      <td>NaN</td>\n",
       "      <td>NaN</td>\n",
       "      <td>2.0</td>\n",
       "      <td>1.0</td>\n",
       "      <td>NaN</td>\n",
       "      <td>NaN</td>\n",
       "      <td>...</td>\n",
       "      <td>1</td>\n",
       "      <td>NaN</td>\n",
       "      <td>1</td>\n",
       "      <td>2</td>\n",
       "      <td>1</td>\n",
       "      <td>3</td>\n",
       "      <td>1</td>\n",
       "      <td>1</td>\n",
       "      <td>1</td>\n",
       "      <td>1.472539</td>\n",
       "    </tr>\n",
       "    <tr>\n",
       "      <th>...</th>\n",
       "      <td>...</td>\n",
       "      <td>...</td>\n",
       "      <td>...</td>\n",
       "      <td>...</td>\n",
       "      <td>...</td>\n",
       "      <td>...</td>\n",
       "      <td>...</td>\n",
       "      <td>...</td>\n",
       "      <td>...</td>\n",
       "      <td>...</td>\n",
       "      <td>...</td>\n",
       "      <td>...</td>\n",
       "      <td>...</td>\n",
       "      <td>...</td>\n",
       "      <td>...</td>\n",
       "      <td>...</td>\n",
       "      <td>...</td>\n",
       "      <td>...</td>\n",
       "      <td>...</td>\n",
       "      <td>...</td>\n",
       "      <td>...</td>\n",
       "    </tr>\n",
       "    <tr>\n",
       "      <th>16071</th>\n",
       "      <td>2</td>\n",
       "      <td>1</td>\n",
       "      <td>NaN</td>\n",
       "      <td>NaN</td>\n",
       "      <td>NaN</td>\n",
       "      <td>NaN</td>\n",
       "      <td>NaN</td>\n",
       "      <td>1.0</td>\n",
       "      <td>NaN</td>\n",
       "      <td>NaN</td>\n",
       "      <td>...</td>\n",
       "      <td>97</td>\n",
       "      <td>NaN</td>\n",
       "      <td>2</td>\n",
       "      <td>4</td>\n",
       "      <td>1</td>\n",
       "      <td>1</td>\n",
       "      <td>2</td>\n",
       "      <td>2</td>\n",
       "      <td>8461</td>\n",
       "      <td>1.499494</td>\n",
       "    </tr>\n",
       "    <tr>\n",
       "      <th>16072</th>\n",
       "      <td>3</td>\n",
       "      <td>1</td>\n",
       "      <td>NaN</td>\n",
       "      <td>NaN</td>\n",
       "      <td>NaN</td>\n",
       "      <td>NaN</td>\n",
       "      <td>NaN</td>\n",
       "      <td>1.0</td>\n",
       "      <td>NaN</td>\n",
       "      <td>NaN</td>\n",
       "      <td>...</td>\n",
       "      <td>97</td>\n",
       "      <td>NaN</td>\n",
       "      <td>1</td>\n",
       "      <td>6</td>\n",
       "      <td>3</td>\n",
       "      <td>1</td>\n",
       "      <td>3</td>\n",
       "      <td>2</td>\n",
       "      <td>8461</td>\n",
       "      <td>0.725621</td>\n",
       "    </tr>\n",
       "    <tr>\n",
       "      <th>16073</th>\n",
       "      <td>1</td>\n",
       "      <td>1</td>\n",
       "      <td>NaN</td>\n",
       "      <td>NaN</td>\n",
       "      <td>NaN</td>\n",
       "      <td>NaN</td>\n",
       "      <td>NaN</td>\n",
       "      <td>1.0</td>\n",
       "      <td>NaN</td>\n",
       "      <td>NaN</td>\n",
       "      <td>...</td>\n",
       "      <td>97</td>\n",
       "      <td>NaN</td>\n",
       "      <td>2</td>\n",
       "      <td>3</td>\n",
       "      <td>2</td>\n",
       "      <td>1</td>\n",
       "      <td>1</td>\n",
       "      <td>1</td>\n",
       "      <td>8462</td>\n",
       "      <td>4.810961</td>\n",
       "    </tr>\n",
       "    <tr>\n",
       "      <th>16074</th>\n",
       "      <td>2</td>\n",
       "      <td>1</td>\n",
       "      <td>NaN</td>\n",
       "      <td>NaN</td>\n",
       "      <td>NaN</td>\n",
       "      <td>NaN</td>\n",
       "      <td>NaN</td>\n",
       "      <td>1.0</td>\n",
       "      <td>NaN</td>\n",
       "      <td>NaN</td>\n",
       "      <td>...</td>\n",
       "      <td>97</td>\n",
       "      <td>NaN</td>\n",
       "      <td>1</td>\n",
       "      <td>5</td>\n",
       "      <td>3</td>\n",
       "      <td>1</td>\n",
       "      <td>2</td>\n",
       "      <td>2</td>\n",
       "      <td>8500</td>\n",
       "      <td>2.405314</td>\n",
       "    </tr>\n",
       "    <tr>\n",
       "      <th>16075</th>\n",
       "      <td>1</td>\n",
       "      <td>2</td>\n",
       "      <td>NaN</td>\n",
       "      <td>NaN</td>\n",
       "      <td>NaN</td>\n",
       "      <td>NaN</td>\n",
       "      <td>2.0</td>\n",
       "      <td>1.0</td>\n",
       "      <td>NaN</td>\n",
       "      <td>NaN</td>\n",
       "      <td>...</td>\n",
       "      <td>97</td>\n",
       "      <td>NaN</td>\n",
       "      <td>1</td>\n",
       "      <td>3</td>\n",
       "      <td>3</td>\n",
       "      <td>1</td>\n",
       "      <td>1</td>\n",
       "      <td>1</td>\n",
       "      <td>8521</td>\n",
       "      <td>1.564814</td>\n",
       "    </tr>\n",
       "  </tbody>\n",
       "</table>\n",
       "<p>16076 rows × 439 columns</p>\n",
       "</div>"
      ],
      "text/plain": [
       "       Q1  Q2A1  Q2A2  Q2A3  Q2A4  Q2A5  Q2_1  Q3A1  Q3A2  Q3A3  ...  D_COU1  \\\n",
       "0       2     3   NaN   NaN   NaN   NaN   2.0   1.0   NaN   NaN  ...       1   \n",
       "1       1     3   NaN   NaN   NaN   NaN   3.0   1.0   NaN   NaN  ...       1   \n",
       "2       3     3   NaN   NaN   NaN   NaN   3.0   1.0   NaN   NaN  ...       1   \n",
       "3      10     1   NaN   NaN   NaN   NaN   NaN   1.0   NaN   NaN  ...       1   \n",
       "4       1     3   NaN   NaN   NaN   NaN   2.0   1.0   NaN   NaN  ...       1   \n",
       "...    ..   ...   ...   ...   ...   ...   ...   ...   ...   ...  ...     ...   \n",
       "16071   2     1   NaN   NaN   NaN   NaN   NaN   1.0   NaN   NaN  ...      97   \n",
       "16072   3     1   NaN   NaN   NaN   NaN   NaN   1.0   NaN   NaN  ...      97   \n",
       "16073   1     1   NaN   NaN   NaN   NaN   NaN   1.0   NaN   NaN  ...      97   \n",
       "16074   2     1   NaN   NaN   NaN   NaN   NaN   1.0   NaN   NaN  ...      97   \n",
       "16075   1     2   NaN   NaN   NaN   NaN   2.0   1.0   NaN   NaN  ...      97   \n",
       "\n",
       "       D_COU2  D_GEN  D_AGE  D_Q5_1  D_Q12  D_Q1  D_Q1A  CITY        WT  \n",
       "0         NaN      2      2       1      1     2      2     1  1.444420  \n",
       "1         NaN      2      2       1      1     1      1     1  1.444420  \n",
       "2         NaN      1      2       1      1     3      2     1  1.472539  \n",
       "3         NaN      2      3       1      1     4      2     1  1.923248  \n",
       "4         NaN      1      2       1      3     1      1     1  1.472539  \n",
       "...       ...    ...    ...     ...    ...   ...    ...   ...       ...  \n",
       "16071     NaN      2      4       1      1     2      2  8461  1.499494  \n",
       "16072     NaN      1      6       3      1     3      2  8461  0.725621  \n",
       "16073     NaN      2      3       2      1     1      1  8462  4.810961  \n",
       "16074     NaN      1      5       3      1     2      2  8500  2.405314  \n",
       "16075     NaN      1      3       3      1     1      1  8521  1.564814  \n",
       "\n",
       "[16076 rows x 439 columns]"
      ]
     },
     "metadata": {},
     "output_type": "display_data"
    }
   ],
   "source": [
    "df18 = pd.read_csv('/Users/seoihwan/Desktop/escuela/BDA_proj/5_BDA/data/df2018.csv')\n",
    "df19 = pd.read_excel('/Users/seoihwan/Desktop/escuela/BDA_proj/5_BDA/data/df2019.xlsx')\n",
    "df20 = pd.read_excel('/Users/seoihwan/Desktop/escuela/BDA_proj/5_BDA/data/df2020.xlsx')\n",
    "df21 = pd.read_csv('/Users/seoihwan/Desktop/escuela/BDA_proj/5_BDA/data/df2021.csv',encoding='euc-kr')\n",
    "display(df19)"
   ]
  },
  {
   "cell_type": "code",
   "execution_count": 8,
   "id": "7ae549b3",
   "metadata": {},
   "outputs": [],
   "source": [
    "viet18 = df18[df18.D_COU == 19]\n",
    "viet19 = df19[df19.D_COU1 == 19]\n",
    "viet20 = df20[df20.D_NAT == 19]\n",
    "viet21 = df21[df21.D_NAT == '베트남']\n",
    "viet22 = viet.copy()"
   ]
  },
  {
   "cell_type": "code",
   "execution_count": 231,
   "id": "87472259",
   "metadata": {},
   "outputs": [],
   "source": [
    "mz21 = viet21[viet21.D_AGE.isin(['21-30세','15-20세','31-40세'])]\n",
    "no_mz21 = viet21[~viet21.D_AGE.isin(['21-30세','15-20세','31-40세'])]\n",
    "mz20 = viet20[viet20.D_AGE.isin([1,2,3])]\n",
    "no_mz20 = viet20[~viet20.D_AGE.isin([1,2,3])]\n",
    "mz19 = viet19[viet19.D_AGE.isin([1,2,3])]\n",
    "no_mz19 = viet19[~viet19.D_AGE.isin([1,2,3])]\n",
    "mz18 = viet18[viet18.D_AGE.isin([1,2,3])]\n",
    "no_mz18 = viet18[~viet18.D_AGE.isin([1,2,3])]"
   ]
  },
  {
   "cell_type": "code",
   "execution_count": 9,
   "id": "b3d4c254",
   "metadata": {},
   "outputs": [],
   "source": [
    "viet18_1 = viet18[viet18.Q1 == 1]\n",
    "viet19_1 = viet19[viet19.Q1 == 1]\n",
    "viet20_1 = viet20[viet20.Q1 == 1]\n",
    "viet21_1 = viet21[viet21.Q1 == 1]\n",
    "viet22_1 = viet22[viet22.Q1 == 1]"
   ]
  },
  {
   "cell_type": "code",
   "execution_count": 10,
   "id": "ca6064f8",
   "metadata": {},
   "outputs": [
    {
     "data": {
      "text/plain": [
       "1     23.541247\n",
       "3     18.913481\n",
       "2     16.700201\n",
       "4     10.865191\n",
       "6      4.426559\n",
       "7      4.024145\n",
       "5      3.420523\n",
       "10     3.219316\n",
       "13     3.018109\n",
       "14     2.414487\n",
       "9      2.213280\n",
       "18     1.609658\n",
       "8      1.609658\n",
       "15     1.006036\n",
       "12     1.006036\n",
       "11     0.804829\n",
       "19     0.603622\n",
       "16     0.402414\n",
       "17     0.201207\n",
       "Name: Q9_2A1, dtype: float64"
      ]
     },
     "execution_count": 10,
     "metadata": {},
     "output_type": "execute_result"
    }
   ],
   "source": [
    "viet18_1.Q9_2A1.value_counts(normalize=True)*100"
   ]
  },
  {
   "cell_type": "code",
   "execution_count": 169,
   "id": "9ea735f6",
   "metadata": {},
   "outputs": [
    {
     "data": {
      "text/plain": [
       "1     25.562372\n",
       "2     22.699387\n",
       "3     20.245399\n",
       "4      7.157464\n",
       "8      5.112474\n",
       "6      4.907975\n",
       "5      4.294479\n",
       "7      3.067485\n",
       "9      2.453988\n",
       "11     2.249489\n",
       "12     0.817996\n",
       "10     0.817996\n",
       "13     0.613497\n",
       "Name: Q9_2A1, dtype: float64"
      ]
     },
     "execution_count": 169,
     "metadata": {},
     "output_type": "execute_result"
    }
   ],
   "source": [
    "viet19_1.Q9_2A1.value_counts(normalize=True)*100"
   ]
  },
  {
   "cell_type": "code",
   "execution_count": 170,
   "id": "f38d5959",
   "metadata": {},
   "outputs": [
    {
     "data": {
      "text/plain": [
       "Series([], Name: Q2_2A1, dtype: float64)"
      ]
     },
     "execution_count": 170,
     "metadata": {},
     "output_type": "execute_result"
    }
   ],
   "source": [
    "viet20_1.Q2_2A1.value_counts(normalize=True)*100"
   ]
  },
  {
   "cell_type": "code",
   "execution_count": 171,
   "id": "5b6af20e",
   "metadata": {},
   "outputs": [
    {
     "data": {
      "text/plain": [
       "기타                       60.0\n",
       "쇼핑                       20.0\n",
       "패션, 유행 등 세련된 현대 문화 체험    20.0\n",
       "Name: Q3B1, dtype: float64"
      ]
     },
     "execution_count": 171,
     "metadata": {},
     "output_type": "execute_result"
    }
   ],
   "source": [
    "viet21_1.Q3B1.value_counts(normalize=True)*100"
   ]
  },
  {
   "cell_type": "code",
   "execution_count": 172,
   "id": "b0d126d1",
   "metadata": {},
   "outputs": [
    {
     "data": {
      "text/plain": [
       "1.0     32.0\n",
       "2.0     22.0\n",
       "3.0     18.0\n",
       "13.0    12.0\n",
       "4.0     12.0\n",
       "6.0      2.0\n",
       "7.0      2.0\n",
       "Name: Q3B1, dtype: float64"
      ]
     },
     "execution_count": 172,
     "metadata": {},
     "output_type": "execute_result"
    }
   ],
   "source": [
    "viet22_1.Q3B1.value_counts(normalize=True)*100"
   ]
  },
  {
   "cell_type": "markdown",
   "id": "bd981d7b",
   "metadata": {},
   "source": [
    "## 1번 방문한 사람 중 가장 만족한 활동"
   ]
  },
  {
   "cell_type": "code",
   "execution_count": 256,
   "id": "57f7197a",
   "metadata": {},
   "outputs": [
    {
     "data": {
      "text/plain": [
       "1.0     265.0\n",
       "2.0     292.0\n",
       "3.0     254.0\n",
       "4.0     165.0\n",
       "5.0      58.0\n",
       "6.0      81.0\n",
       "7.0      80.0\n",
       "8.0      18.0\n",
       "9.0      35.0\n",
       "10.0     79.0\n",
       "11.0     21.0\n",
       "12.0     29.0\n",
       "13.0     19.0\n",
       "14.0      NaN\n",
       "15.0      8.0\n",
       "16.0     10.0\n",
       "17.0      NaN\n",
       "18.0     13.0\n",
       "19.0      NaN\n",
       "20.0      NaN\n",
       "dtype: float64"
      ]
     },
     "execution_count": 256,
     "metadata": {},
     "output_type": "execute_result"
    }
   ],
   "source": [
    "v18 = viet18_1.Q9_2A1.value_counts()\n",
    "# v18.index = v18.index.astype('float')\n",
    "v18 + viet18_1.Q9_2A2.value_counts() + viet18_1.Q9_2A3.value_counts()"
   ]
  },
  {
   "cell_type": "code",
   "execution_count": 41,
   "id": "7206a053",
   "metadata": {},
   "outputs": [
    {
     "data": {
      "text/html": [
       "<div>\n",
       "<style scoped>\n",
       "    .dataframe tbody tr th:only-of-type {\n",
       "        vertical-align: middle;\n",
       "    }\n",
       "\n",
       "    .dataframe tbody tr th {\n",
       "        vertical-align: top;\n",
       "    }\n",
       "\n",
       "    .dataframe thead th {\n",
       "        text-align: right;\n",
       "    }\n",
       "</style>\n",
       "<table border=\"1\" class=\"dataframe\">\n",
       "  <thead>\n",
       "    <tr style=\"text-align: right;\">\n",
       "      <th></th>\n",
       "      <th>tot</th>\n",
       "    </tr>\n",
       "    <tr>\n",
       "      <th>index</th>\n",
       "      <th></th>\n",
       "    </tr>\n",
       "  </thead>\n",
       "  <tbody>\n",
       "    <tr>\n",
       "      <th>1.0</th>\n",
       "      <td>18.250689</td>\n",
       "    </tr>\n",
       "    <tr>\n",
       "      <th>2.0</th>\n",
       "      <td>20.110193</td>\n",
       "    </tr>\n",
       "    <tr>\n",
       "      <th>3.0</th>\n",
       "      <td>17.493113</td>\n",
       "    </tr>\n",
       "    <tr>\n",
       "      <th>4.0</th>\n",
       "      <td>11.363636</td>\n",
       "    </tr>\n",
       "    <tr>\n",
       "      <th>5.0</th>\n",
       "      <td>3.994490</td>\n",
       "    </tr>\n",
       "    <tr>\n",
       "      <th>6.0</th>\n",
       "      <td>5.578512</td>\n",
       "    </tr>\n",
       "    <tr>\n",
       "      <th>7.0</th>\n",
       "      <td>5.509642</td>\n",
       "    </tr>\n",
       "    <tr>\n",
       "      <th>8.0</th>\n",
       "      <td>1.239669</td>\n",
       "    </tr>\n",
       "    <tr>\n",
       "      <th>9.0</th>\n",
       "      <td>2.410468</td>\n",
       "    </tr>\n",
       "    <tr>\n",
       "      <th>10.0</th>\n",
       "      <td>5.440771</td>\n",
       "    </tr>\n",
       "    <tr>\n",
       "      <th>11.0</th>\n",
       "      <td>1.446281</td>\n",
       "    </tr>\n",
       "    <tr>\n",
       "      <th>12.0</th>\n",
       "      <td>1.997245</td>\n",
       "    </tr>\n",
       "    <tr>\n",
       "      <th>13.0</th>\n",
       "      <td>1.308540</td>\n",
       "    </tr>\n",
       "    <tr>\n",
       "      <th>14.0</th>\n",
       "      <td>1.170799</td>\n",
       "    </tr>\n",
       "    <tr>\n",
       "      <th>15.0</th>\n",
       "      <td>0.550964</td>\n",
       "    </tr>\n",
       "    <tr>\n",
       "      <th>16.0</th>\n",
       "      <td>0.688705</td>\n",
       "    </tr>\n",
       "    <tr>\n",
       "      <th>17.0</th>\n",
       "      <td>0.068871</td>\n",
       "    </tr>\n",
       "    <tr>\n",
       "      <th>18.0</th>\n",
       "      <td>0.895317</td>\n",
       "    </tr>\n",
       "    <tr>\n",
       "      <th>19.0</th>\n",
       "      <td>0.413223</td>\n",
       "    </tr>\n",
       "    <tr>\n",
       "      <th>20.0</th>\n",
       "      <td>0.068871</td>\n",
       "    </tr>\n",
       "  </tbody>\n",
       "</table>\n",
       "</div>"
      ],
      "text/plain": [
       "             tot\n",
       "index           \n",
       "1.0    18.250689\n",
       "2.0    20.110193\n",
       "3.0    17.493113\n",
       "4.0    11.363636\n",
       "5.0     3.994490\n",
       "6.0     5.578512\n",
       "7.0     5.509642\n",
       "8.0     1.239669\n",
       "9.0     2.410468\n",
       "10.0    5.440771\n",
       "11.0    1.446281\n",
       "12.0    1.997245\n",
       "13.0    1.308540\n",
       "14.0    1.170799\n",
       "15.0    0.550964\n",
       "16.0    0.688705\n",
       "17.0    0.068871\n",
       "18.0    0.895317\n",
       "19.0    0.413223\n",
       "20.0    0.068871"
      ]
     },
     "execution_count": 41,
     "metadata": {},
     "output_type": "execute_result"
    }
   ],
   "source": [
    "v18_1 = viet18_1.Q9_2A1.value_counts().reset_index()\n",
    "v18_2 = viet18_1.Q9_2A2.value_counts().reset_index()\n",
    "v18_3 = viet18_1.Q9_2A3.value_counts().reset_index()\n",
    "\n",
    "vv18 = pd.merge(v18_1,v18_2,on='index',how='outer')\n",
    "vvv18 = pd.merge(vv18,v18_3,on='index',how='outer')\n",
    "vvv18['Q9_2A1'].fillna(inplace=True,value=0)\n",
    "vvv18['Q9_2A2'].fillna(inplace=True,value=0)\n",
    "vvv18['Q9_2A3'].fillna(inplace=True,value=0)\n",
    "vvv18['tot'] = vvv18['Q9_2A1'] + vvv18['Q9_2A2'] + vvv18['Q9_2A3']\n",
    "vvv18[['index','tot']].sort_values(['index']).set_index('index')/sum(vvv18.tot)*100"
   ]
  },
  {
   "cell_type": "code",
   "execution_count": 69,
   "id": "8bf890c8",
   "metadata": {},
   "outputs": [
    {
     "data": {
      "text/html": [
       "<div>\n",
       "<style scoped>\n",
       "    .dataframe tbody tr th:only-of-type {\n",
       "        vertical-align: middle;\n",
       "    }\n",
       "\n",
       "    .dataframe tbody tr th {\n",
       "        vertical-align: top;\n",
       "    }\n",
       "\n",
       "    .dataframe thead th {\n",
       "        text-align: right;\n",
       "    }\n",
       "</style>\n",
       "<table border=\"1\" class=\"dataframe\">\n",
       "  <thead>\n",
       "    <tr style=\"text-align: right;\">\n",
       "      <th></th>\n",
       "      <th>tot</th>\n",
       "    </tr>\n",
       "    <tr>\n",
       "      <th>index</th>\n",
       "      <th></th>\n",
       "    </tr>\n",
       "  </thead>\n",
       "  <tbody>\n",
       "    <tr>\n",
       "      <th>1</th>\n",
       "      <td>23.178808</td>\n",
       "    </tr>\n",
       "    <tr>\n",
       "      <th>2</th>\n",
       "      <td>23.252391</td>\n",
       "    </tr>\n",
       "    <tr>\n",
       "      <th>3</th>\n",
       "      <td>18.763797</td>\n",
       "    </tr>\n",
       "    <tr>\n",
       "      <th>4</th>\n",
       "      <td>11.037528</td>\n",
       "    </tr>\n",
       "    <tr>\n",
       "      <th>5</th>\n",
       "      <td>6.916851</td>\n",
       "    </tr>\n",
       "    <tr>\n",
       "      <th>6</th>\n",
       "      <td>4.562178</td>\n",
       "    </tr>\n",
       "    <tr>\n",
       "      <th>7</th>\n",
       "      <td>2.060338</td>\n",
       "    </tr>\n",
       "    <tr>\n",
       "      <th>8</th>\n",
       "      <td>5.739514</td>\n",
       "    </tr>\n",
       "    <tr>\n",
       "      <th>9</th>\n",
       "      <td>1.618837</td>\n",
       "    </tr>\n",
       "    <tr>\n",
       "      <th>10</th>\n",
       "      <td>0.588668</td>\n",
       "    </tr>\n",
       "    <tr>\n",
       "      <th>11</th>\n",
       "      <td>1.545254</td>\n",
       "    </tr>\n",
       "    <tr>\n",
       "      <th>12</th>\n",
       "      <td>0.515085</td>\n",
       "    </tr>\n",
       "    <tr>\n",
       "      <th>13</th>\n",
       "      <td>0.220751</td>\n",
       "    </tr>\n",
       "  </tbody>\n",
       "</table>\n",
       "</div>"
      ],
      "text/plain": [
       "             tot\n",
       "index           \n",
       "1      23.178808\n",
       "2      23.252391\n",
       "3      18.763797\n",
       "4      11.037528\n",
       "5       6.916851\n",
       "6       4.562178\n",
       "7       2.060338\n",
       "8       5.739514\n",
       "9       1.618837\n",
       "10      0.588668\n",
       "11      1.545254\n",
       "12      0.515085\n",
       "13      0.220751"
      ]
     },
     "execution_count": 69,
     "metadata": {},
     "output_type": "execute_result"
    }
   ],
   "source": [
    "v19 = viet19_1.Q9_2A1.value_counts()\n",
    "v19_1 = v19.reset_index()\n",
    "v19_1['index'] = v19_1['index'].astype('int')\n",
    "v19_2 = viet19_1.Q9_2A2.value_counts().reset_index()\n",
    "v19_3 = viet19_1.Q9_2A3.value_counts().reset_index()\n",
    "\n",
    "vv19 = pd.merge(v19_1,v19_2,on='index',how='outer')\n",
    "vvv19 = pd.merge(vv19,v19_3,on='index',how='outer')\n",
    "vvv19['Q9_2A1'].fillna(inplace=True,value=0)\n",
    "vvv19['Q9_2A2'].fillna(inplace=True,value=0)\n",
    "vvv19['Q9_2A3'].fillna(inplace=True,value=0)\n",
    "vvv19['tot'] = vvv19['Q9_2A1'] + vvv19['Q9_2A2'] + vvv19['Q9_2A3']\n",
    "vvv19[['index','tot']].sort_values(['index']).set_index('index')/sum(vvv19.tot)*100"
   ]
  },
  {
   "cell_type": "code",
   "execution_count": 70,
   "id": "20b707b1",
   "metadata": {},
   "outputs": [
    {
     "data": {
      "text/html": [
       "<div>\n",
       "<style scoped>\n",
       "    .dataframe tbody tr th:only-of-type {\n",
       "        vertical-align: middle;\n",
       "    }\n",
       "\n",
       "    .dataframe tbody tr th {\n",
       "        vertical-align: top;\n",
       "    }\n",
       "\n",
       "    .dataframe thead th {\n",
       "        text-align: right;\n",
       "    }\n",
       "</style>\n",
       "<table border=\"1\" class=\"dataframe\">\n",
       "  <thead>\n",
       "    <tr style=\"text-align: right;\">\n",
       "      <th></th>\n",
       "      <th>tot</th>\n",
       "    </tr>\n",
       "    <tr>\n",
       "      <th>index</th>\n",
       "      <th></th>\n",
       "    </tr>\n",
       "  </thead>\n",
       "  <tbody>\n",
       "    <tr>\n",
       "      <th>1.0</th>\n",
       "      <td>25.092251</td>\n",
       "    </tr>\n",
       "    <tr>\n",
       "      <th>2.0</th>\n",
       "      <td>27.306273</td>\n",
       "    </tr>\n",
       "    <tr>\n",
       "      <th>3.0</th>\n",
       "      <td>19.557196</td>\n",
       "    </tr>\n",
       "    <tr>\n",
       "      <th>4.0</th>\n",
       "      <td>10.332103</td>\n",
       "    </tr>\n",
       "    <tr>\n",
       "      <th>5.0</th>\n",
       "      <td>3.690037</td>\n",
       "    </tr>\n",
       "    <tr>\n",
       "      <th>6.0</th>\n",
       "      <td>2.583026</td>\n",
       "    </tr>\n",
       "    <tr>\n",
       "      <th>7.0</th>\n",
       "      <td>0.738007</td>\n",
       "    </tr>\n",
       "    <tr>\n",
       "      <th>8.0</th>\n",
       "      <td>1.107011</td>\n",
       "    </tr>\n",
       "    <tr>\n",
       "      <th>9.0</th>\n",
       "      <td>0.369004</td>\n",
       "    </tr>\n",
       "    <tr>\n",
       "      <th>10.0</th>\n",
       "      <td>2.583026</td>\n",
       "    </tr>\n",
       "    <tr>\n",
       "      <th>11.0</th>\n",
       "      <td>2.583026</td>\n",
       "    </tr>\n",
       "    <tr>\n",
       "      <th>12.0</th>\n",
       "      <td>0.369004</td>\n",
       "    </tr>\n",
       "    <tr>\n",
       "      <th>13.0</th>\n",
       "      <td>0.738007</td>\n",
       "    </tr>\n",
       "    <tr>\n",
       "      <th>14.0</th>\n",
       "      <td>1.107011</td>\n",
       "    </tr>\n",
       "    <tr>\n",
       "      <th>15.0</th>\n",
       "      <td>1.476015</td>\n",
       "    </tr>\n",
       "    <tr>\n",
       "      <th>17.0</th>\n",
       "      <td>0.369004</td>\n",
       "    </tr>\n",
       "  </tbody>\n",
       "</table>\n",
       "</div>"
      ],
      "text/plain": [
       "             tot\n",
       "index           \n",
       "1.0    25.092251\n",
       "2.0    27.306273\n",
       "3.0    19.557196\n",
       "4.0    10.332103\n",
       "5.0     3.690037\n",
       "6.0     2.583026\n",
       "7.0     0.738007\n",
       "8.0     1.107011\n",
       "9.0     0.369004\n",
       "10.0    2.583026\n",
       "11.0    2.583026\n",
       "12.0    0.369004\n",
       "13.0    0.738007\n",
       "14.0    1.107011\n",
       "15.0    1.476015\n",
       "17.0    0.369004"
      ]
     },
     "execution_count": 70,
     "metadata": {},
     "output_type": "execute_result"
    }
   ],
   "source": [
    "v22 = viet22_1.Q4B1.value_counts()\n",
    "v22_1 = v22.reset_index()\n",
    "v22_1['index'] = v22_1['index'].astype('float')\n",
    "v22_2 = viet22_1.Q4B2.value_counts().reset_index()\n",
    "v22_3 = viet22_1.Q4B3.value_counts().reset_index()\n",
    "\n",
    "vv22 = pd.merge(v22_1,v22_2,on='index',how='outer')\n",
    "vvv22 = pd.merge(vv22,v22_3,on='index',how='outer')\n",
    "vvv22['Q4B1'].fillna(inplace=True,value=0)\n",
    "vvv22['Q4B2'].fillna(inplace=True,value=0)\n",
    "vvv22['Q4B3'].fillna(inplace=True,value=0)\n",
    "vvv22['tot'] = vvv22['Q4B1'] + vvv22['Q4B2'] + vvv22['Q4B3']\n",
    "vvv22[['index','tot']].sort_values(['index']).set_index('index')/sum(vvv22.tot)*100"
   ]
  },
  {
   "cell_type": "code",
   "execution_count": 73,
   "id": "7d1e9796",
   "metadata": {
    "scrolled": false
   },
   "outputs": [
    {
     "data": {
      "text/html": [
       "<div>\n",
       "<style scoped>\n",
       "    .dataframe tbody tr th:only-of-type {\n",
       "        vertical-align: middle;\n",
       "    }\n",
       "\n",
       "    .dataframe tbody tr th {\n",
       "        vertical-align: top;\n",
       "    }\n",
       "\n",
       "    .dataframe thead th {\n",
       "        text-align: right;\n",
       "    }\n",
       "</style>\n",
       "<table border=\"1\" class=\"dataframe\">\n",
       "  <thead>\n",
       "    <tr style=\"text-align: right;\">\n",
       "      <th></th>\n",
       "      <th>2022</th>\n",
       "      <th>2019</th>\n",
       "      <th>2018</th>\n",
       "    </tr>\n",
       "    <tr>\n",
       "      <th>index</th>\n",
       "      <th></th>\n",
       "      <th></th>\n",
       "      <th></th>\n",
       "    </tr>\n",
       "  </thead>\n",
       "  <tbody>\n",
       "    <tr>\n",
       "      <th>1.0</th>\n",
       "      <td>25.092251</td>\n",
       "      <td>23.178808</td>\n",
       "      <td>18.250689</td>\n",
       "    </tr>\n",
       "    <tr>\n",
       "      <th>2.0</th>\n",
       "      <td>27.306273</td>\n",
       "      <td>23.252391</td>\n",
       "      <td>20.110193</td>\n",
       "    </tr>\n",
       "    <tr>\n",
       "      <th>3.0</th>\n",
       "      <td>19.557196</td>\n",
       "      <td>18.763797</td>\n",
       "      <td>17.493113</td>\n",
       "    </tr>\n",
       "    <tr>\n",
       "      <th>4.0</th>\n",
       "      <td>10.332103</td>\n",
       "      <td>11.037528</td>\n",
       "      <td>11.363636</td>\n",
       "    </tr>\n",
       "    <tr>\n",
       "      <th>5.0</th>\n",
       "      <td>3.690037</td>\n",
       "      <td>6.916851</td>\n",
       "      <td>3.994490</td>\n",
       "    </tr>\n",
       "    <tr>\n",
       "      <th>6.0</th>\n",
       "      <td>2.583026</td>\n",
       "      <td>4.562178</td>\n",
       "      <td>5.578512</td>\n",
       "    </tr>\n",
       "    <tr>\n",
       "      <th>7.0</th>\n",
       "      <td>0.738007</td>\n",
       "      <td>2.060338</td>\n",
       "      <td>5.509642</td>\n",
       "    </tr>\n",
       "    <tr>\n",
       "      <th>8.0</th>\n",
       "      <td>1.107011</td>\n",
       "      <td>5.739514</td>\n",
       "      <td>1.239669</td>\n",
       "    </tr>\n",
       "    <tr>\n",
       "      <th>9.0</th>\n",
       "      <td>0.369004</td>\n",
       "      <td>1.618837</td>\n",
       "      <td>2.410468</td>\n",
       "    </tr>\n",
       "    <tr>\n",
       "      <th>10.0</th>\n",
       "      <td>2.583026</td>\n",
       "      <td>0.588668</td>\n",
       "      <td>5.440771</td>\n",
       "    </tr>\n",
       "    <tr>\n",
       "      <th>11.0</th>\n",
       "      <td>2.583026</td>\n",
       "      <td>1.545254</td>\n",
       "      <td>1.446281</td>\n",
       "    </tr>\n",
       "    <tr>\n",
       "      <th>12.0</th>\n",
       "      <td>0.369004</td>\n",
       "      <td>0.515085</td>\n",
       "      <td>1.997245</td>\n",
       "    </tr>\n",
       "    <tr>\n",
       "      <th>13.0</th>\n",
       "      <td>0.738007</td>\n",
       "      <td>0.220751</td>\n",
       "      <td>1.308540</td>\n",
       "    </tr>\n",
       "    <tr>\n",
       "      <th>14.0</th>\n",
       "      <td>1.107011</td>\n",
       "      <td>NaN</td>\n",
       "      <td>1.170799</td>\n",
       "    </tr>\n",
       "    <tr>\n",
       "      <th>15.0</th>\n",
       "      <td>1.476015</td>\n",
       "      <td>NaN</td>\n",
       "      <td>0.550964</td>\n",
       "    </tr>\n",
       "    <tr>\n",
       "      <th>17.0</th>\n",
       "      <td>0.369004</td>\n",
       "      <td>NaN</td>\n",
       "      <td>0.068871</td>\n",
       "    </tr>\n",
       "  </tbody>\n",
       "</table>\n",
       "</div>"
      ],
      "text/plain": [
       "            2022       2019       2018\n",
       "index                                 \n",
       "1.0    25.092251  23.178808  18.250689\n",
       "2.0    27.306273  23.252391  20.110193\n",
       "3.0    19.557196  18.763797  17.493113\n",
       "4.0    10.332103  11.037528  11.363636\n",
       "5.0     3.690037   6.916851   3.994490\n",
       "6.0     2.583026   4.562178   5.578512\n",
       "7.0     0.738007   2.060338   5.509642\n",
       "8.0     1.107011   5.739514   1.239669\n",
       "9.0     0.369004   1.618837   2.410468\n",
       "10.0    2.583026   0.588668   5.440771\n",
       "11.0    2.583026   1.545254   1.446281\n",
       "12.0    0.369004   0.515085   1.997245\n",
       "13.0    0.738007   0.220751   1.308540\n",
       "14.0    1.107011        NaN   1.170799\n",
       "15.0    1.476015        NaN   0.550964\n",
       "17.0    0.369004        NaN   0.068871"
      ]
     },
     "execution_count": 73,
     "metadata": {},
     "output_type": "execute_result"
    }
   ],
   "source": [
    "vietnam_1_satis = pd.DataFrame({})\n",
    "vietnam_1_satis['2022'] = vvv22[['index','tot']].sort_values(['index']).set_index('index')/sum(vvv22.tot)*100\n",
    "vietnam_1_satis['2019'] = vvv19[['index','tot']].sort_values(['index']).set_index('index')/sum(vvv19.tot)*100\n",
    "vietnam_1_satis['2018'] = vvv18[['index','tot']].sort_values(['index']).set_index('index')/sum(vvv18.tot)*100\n",
    "vietnam_1_satis"
   ]
  },
  {
   "cell_type": "code",
   "execution_count": 81,
   "id": "e1344451",
   "metadata": {},
   "outputs": [
    {
     "data": {
      "text/plain": [
       "2      2.0\n",
       "0      1.0\n",
       "1      3.0\n",
       "3      4.0\n",
       "4      6.0\n",
       "5      7.0\n",
       "7     10.0\n",
       "6      5.0\n",
       "10     9.0\n",
       "14    12.0\n",
       "Name: index, dtype: float64"
      ]
     },
     "execution_count": 81,
     "metadata": {},
     "output_type": "execute_result"
    }
   ],
   "source": [
    "vvv18.sort_values('tot',ascending=False).head(10)['index']"
   ]
  },
  {
   "cell_type": "code",
   "execution_count": 82,
   "id": "820587bb",
   "metadata": {},
   "outputs": [
    {
     "data": {
      "text/plain": [
       "1     2\n",
       "0     1\n",
       "2     3\n",
       "3     4\n",
       "6     5\n",
       "4     8\n",
       "5     6\n",
       "7     7\n",
       "8     9\n",
       "9    11\n",
       "Name: index, dtype: int64"
      ]
     },
     "execution_count": 82,
     "metadata": {},
     "output_type": "execute_result"
    }
   ],
   "source": [
    "vvv19.sort_values('tot',ascending=False).head(10)['index']"
   ]
  },
  {
   "cell_type": "code",
   "execution_count": 83,
   "id": "2abb7ce8",
   "metadata": {},
   "outputs": [
    {
     "data": {
      "text/plain": [
       "0      2.0\n",
       "1      1.0\n",
       "2      3.0\n",
       "3      4.0\n",
       "5      5.0\n",
       "7     10.0\n",
       "10    11.0\n",
       "11     6.0\n",
       "4     15.0\n",
       "6     14.0\n",
       "Name: index, dtype: float64"
      ]
     },
     "execution_count": 83,
     "metadata": {},
     "output_type": "execute_result"
    }
   ],
   "source": [
    "vvv22.sort_values('tot',ascending=False).head(10)['index']"
   ]
  },
  {
   "cell_type": "markdown",
   "id": "90dd16b8",
   "metadata": {},
   "source": [
    "## MZ"
   ]
  },
  {
   "cell_type": "code",
   "execution_count": 26,
   "id": "1d9e91fe",
   "metadata": {},
   "outputs": [
    {
     "name": "stdout",
     "output_type": "stream",
     "text": [
      "1266.7614392477938\n",
      "1233.4610506490196\n"
     ]
    }
   ],
   "source": [
    "print(viet19[viet19.D_AGE.isin([1,2,3])].MQ14_1T.mean())\n",
    "print(viet19[~viet19.D_AGE.isin([1,2,3])].MQ14_1T.mean())"
   ]
  },
  {
   "cell_type": "code",
   "execution_count": 27,
   "id": "292ae3a4",
   "metadata": {},
   "outputs": [
    {
     "name": "stdout",
     "output_type": "stream",
     "text": [
      "1223.0454866753207\n",
      "1243.8587742169059\n"
     ]
    }
   ],
   "source": [
    "print(viet18[viet18.D_AGE.isin([1,2,3])].MQ14_1T.mean())\n",
    "print(viet18[~viet18.D_AGE.isin([1,2,3])].MQ14_1T.mean())"
   ]
  },
  {
   "cell_type": "code",
   "execution_count": 29,
   "id": "f1a9346f",
   "metadata": {},
   "outputs": [
    {
     "data": {
      "text/plain": [
       "count     468.000000\n",
       "mean     1223.045487\n",
       "std       868.377399\n",
       "min         1.000000\n",
       "25%       695.382975\n",
       "50%      1005.931850\n",
       "75%      1500.000000\n",
       "max      6250.000000\n",
       "Name: MQ14_1T, dtype: float64"
      ]
     },
     "execution_count": 29,
     "metadata": {},
     "output_type": "execute_result"
    }
   ],
   "source": [
    "viet18[viet18.D_AGE.isin([1,2,3])].MQ14_1T.describe()"
   ]
  },
  {
   "cell_type": "code",
   "execution_count": 30,
   "id": "fc722ae2",
   "metadata": {},
   "outputs": [
    {
     "data": {
      "text/plain": [
       "count     209.000000\n",
       "mean     1243.858774\n",
       "std       964.382017\n",
       "min        49.500000\n",
       "25%       693.950400\n",
       "50%      1000.000000\n",
       "75%      1465.510400\n",
       "max      7000.000000\n",
       "Name: MQ14_1T, dtype: float64"
      ]
     },
     "execution_count": 30,
     "metadata": {},
     "output_type": "execute_result"
    }
   ],
   "source": [
    "viet18[~viet18.D_AGE.isin([1,2,3])].MQ14_1T.describe()"
   ]
  },
  {
   "cell_type": "code",
   "execution_count": 53,
   "id": "17e87bd0",
   "metadata": {},
   "outputs": [
    {
     "data": {
      "text/plain": [
       "2986.196652967182"
      ]
     },
     "execution_count": 53,
     "metadata": {},
     "output_type": "execute_result"
    }
   ],
   "source": [
    "viet20[viet20.D_AGE.isin([20,30])].Q5_1T.mean()"
   ]
  },
  {
   "cell_type": "code",
   "execution_count": 61,
   "id": "6cc0216c",
   "metadata": {},
   "outputs": [
    {
     "data": {
      "text/plain": [
       "array(['21-30세', '51-60세', '31-40세', '15-20세'], dtype=object)"
      ]
     },
     "execution_count": 61,
     "metadata": {},
     "output_type": "execute_result"
    }
   ],
   "source": [
    "viet21.D_AGE.unique()"
   ]
  },
  {
   "cell_type": "code",
   "execution_count": 65,
   "id": "92e09eca",
   "metadata": {},
   "outputs": [
    {
     "data": {
      "text/plain": [
       "43       907.9020\n",
       "755     3511.5760\n",
       "1032          NaN\n",
       "1440          NaN\n",
       "1441          NaN\n",
       "1442          NaN\n",
       "1443    6074.1730\n",
       "1444    5206.4340\n",
       "1445    5206.4340\n",
       "1446          NaN\n",
       "1448    6074.1730\n",
       "3332    2168.5950\n",
       "3337    4163.7024\n",
       "3338    8674.3800\n",
       "3341    3870.0000\n",
       "5016    1540.0000\n",
       "5654    4169.7250\n",
       "Name: 총액1인MIS, dtype: float64"
      ]
     },
     "execution_count": 65,
     "metadata": {},
     "output_type": "execute_result"
    }
   ],
   "source": [
    "viet21[viet21.D_AGE.isin(['21-30세','15-20세','31-40세'])].총액1인MIS#.mean()"
   ]
  },
  {
   "cell_type": "code",
   "execution_count": 66,
   "id": "ff517c9b",
   "metadata": {},
   "outputs": [
    {
     "data": {
      "text/plain": [
       "203    2723.706\n",
       "Name: 총액1인MIS, dtype: float64"
      ]
     },
     "execution_count": 66,
     "metadata": {},
     "output_type": "execute_result"
    }
   ],
   "source": [
    "viet21[viet21.D_AGE.isin(['51-60세'])].총액1인MIS#.mean()"
   ]
  },
  {
   "cell_type": "code",
   "execution_count": 86,
   "id": "327d335f",
   "metadata": {},
   "outputs": [
    {
     "data": {
      "text/plain": [
       "1    67.105263\n",
       "3    23.026316\n",
       "2     9.868421\n",
       "Name: Q4, dtype: float64"
      ]
     },
     "execution_count": 86,
     "metadata": {},
     "output_type": "execute_result"
    }
   ],
   "source": [
    "viet22.Q4.value_counts(normalize=True)*100"
   ]
  },
  {
   "cell_type": "code",
   "execution_count": 88,
   "id": "80fc5dbf",
   "metadata": {},
   "outputs": [
    {
     "data": {
      "text/plain": [
       "    개   별    여   행    100.0\n",
       "Name: D_TYP, dtype: float64"
      ]
     },
     "execution_count": 88,
     "metadata": {},
     "output_type": "execute_result"
    }
   ],
   "source": [
    "viet21.D_TYP.value_counts(normalize=True)*100"
   ]
  },
  {
   "cell_type": "code",
   "execution_count": 89,
   "id": "aee496ab",
   "metadata": {},
   "outputs": [
    {
     "data": {
      "text/plain": [
       "1    60.962567\n",
       "3    37.967914\n",
       "2     1.069519\n",
       "Name: Q12, dtype: float64"
      ]
     },
     "execution_count": 89,
     "metadata": {},
     "output_type": "execute_result"
    }
   ],
   "source": [
    "viet19.Q12.value_counts(normalize=True)*100"
   ]
  },
  {
   "cell_type": "code",
   "execution_count": 90,
   "id": "74e8e8d1",
   "metadata": {},
   "outputs": [
    {
     "data": {
      "text/plain": [
       "3    50.147059\n",
       "1    46.911765\n",
       "2     2.941176\n",
       "Name: Q13, dtype: float64"
      ]
     },
     "execution_count": 90,
     "metadata": {},
     "output_type": "execute_result"
    }
   ],
   "source": [
    "viet18.Q13.value_counts(normalize=True)*100"
   ]
  },
  {
   "cell_type": "code",
   "execution_count": 96,
   "id": "4194d2d1",
   "metadata": {},
   "outputs": [
    {
     "data": {
      "text/plain": [
       "4.677631578947368"
      ]
     },
     "execution_count": 96,
     "metadata": {},
     "output_type": "execute_result"
    }
   ],
   "source": [
    "viet22.Q8.mean()"
   ]
  },
  {
   "cell_type": "code",
   "execution_count": 97,
   "id": "c81c876d",
   "metadata": {},
   "outputs": [
    {
     "data": {
      "text/plain": [
       "4.449197860962567"
      ]
     },
     "execution_count": 97,
     "metadata": {},
     "output_type": "execute_result"
    }
   ],
   "source": [
    "viet19.Q16.mean()"
   ]
  },
  {
   "cell_type": "code",
   "execution_count": 98,
   "id": "ea011b8f",
   "metadata": {},
   "outputs": [
    {
     "data": {
      "text/plain": [
       "4.25"
      ]
     },
     "execution_count": 98,
     "metadata": {},
     "output_type": "execute_result"
    }
   ],
   "source": [
    "viet18.Q16.mean()"
   ]
  },
  {
   "cell_type": "code",
   "execution_count": 107,
   "id": "37a0a3c7",
   "metadata": {},
   "outputs": [
    {
     "data": {
      "text/plain": [
       "38.15789473684211"
      ]
     },
     "execution_count": 107,
     "metadata": {},
     "output_type": "execute_result"
    }
   ],
   "source": [
    "len(viet22[viet22.Q1>1])/len(viet22) * 100"
   ]
  },
  {
   "cell_type": "code",
   "execution_count": 108,
   "id": "d6fddbde",
   "metadata": {},
   "outputs": [
    {
     "data": {
      "text/plain": [
       "34.62566844919786"
      ]
     },
     "execution_count": 108,
     "metadata": {},
     "output_type": "execute_result"
    }
   ],
   "source": [
    "len(viet19[viet19.Q1>1])/len(viet19) * 100"
   ]
  },
  {
   "cell_type": "code",
   "execution_count": 109,
   "id": "b4cebc1e",
   "metadata": {},
   "outputs": [
    {
     "data": {
      "text/plain": [
       "26.91176470588235"
      ]
     },
     "execution_count": 109,
     "metadata": {},
     "output_type": "execute_result"
    }
   ],
   "source": [
    "len(viet18[viet18.Q1>1])/len(viet18) * 100"
   ]
  },
  {
   "cell_type": "code",
   "execution_count": 134,
   "id": "30687930",
   "metadata": {},
   "outputs": [
    {
     "data": {
      "text/plain": [
       "index\n",
       "1    31.794872\n",
       "2    27.179487\n",
       "3    23.076923\n",
       "4     9.743590\n",
       "7     8.205128\n",
       "Name: tot, dtype: float64"
      ]
     },
     "execution_count": 134,
     "metadata": {},
     "output_type": "execute_result"
    }
   ],
   "source": [
    "v22_1 = viet22.Q3B1.value_counts().reset_index().astype('int')\n",
    "v22_2 = viet22.Q3B2.value_counts().reset_index().astype('int')\n",
    "v22_3 = viet22.Q3B3.value_counts().reset_index().astype('int')\n",
    "vv22 = pd.merge(v22_1,v22_2,on='index',how='outer')\n",
    "vv22 = pd.merge(vv22,v22_3,on='index',how='outer')\n",
    "vv22 = vv22.fillna(0).set_index('index')\n",
    "vv22['tot']=vv22.Q3B1 + vv22.Q3B2 + vv22.Q3B3\n",
    "vv22['tot'].sort_values(ascending=False).head(5)/sum(vv22['tot'].sort_values(ascending=False).head(5))*100"
   ]
  },
  {
   "cell_type": "code",
   "execution_count": null,
   "id": "7536327b",
   "metadata": {},
   "outputs": [],
   "source": [
    "lst,lst2 = ['viet22', 'viet21'],['Q3B1','Q3B2','Q3B3']\n",
    "for l in lst:\n",
    "    cor_af = pd.merge()"
   ]
  },
  {
   "cell_type": "code",
   "execution_count": 142,
   "id": "80315788",
   "metadata": {},
   "outputs": [
    {
     "data": {
      "text/plain": [
       "index\n",
       "1     36.917293\n",
       "3     36.616541\n",
       "7     16.390977\n",
       "10     4.887218\n",
       "6      5.187970\n",
       "Name: tot, dtype: float64"
      ]
     },
     "execution_count": 142,
     "metadata": {},
     "output_type": "execute_result"
    }
   ],
   "source": [
    "v19_1 = viet19.Q5_2A1.value_counts().reset_index().astype('int')\n",
    "v19_2 = viet19.Q5_2A2.value_counts().reset_index().astype('int')\n",
    "v19_3 = viet19.Q5_2A3.value_counts().reset_index().astype('int')\n",
    "v18_1 = viet18.Q5_2A1.value_counts().reset_index().astype('int')\n",
    "v18_2 = viet18.Q5_2A2.value_counts().reset_index().astype('int')\n",
    "v18_3 = viet18.Q5_2A3.value_counts().reset_index().astype('int')\n",
    "cor_be = pd.merge(v19_1,v19_2,on='index',how='outer')\n",
    "cor_be = pd.merge(cor_be,v19_3,on='index',how='outer')\n",
    "cor_be = pd.merge(cor_be,v18_1,on='index',how='outer',suffixes=('_19','_18'))\n",
    "cor_be = pd.merge(cor_be,v18_2,on='index',how='outer',suffixes=('_19','_18'))\n",
    "cor_be = pd.merge(cor_be,v18_3,on='index',how='outer',suffixes=('_19','_18'))\n",
    "cor_be = cor_be.fillna(0).set_index('index')\n",
    "cor_be['tot'] = cor_be.iloc[:,1:].sum(axis=1)\n",
    "cor_be['tot'].iloc[[1,2,3,4,7]]/sum(cor_be['tot'].iloc[[1,2,3,4,7]]) * 100"
   ]
  },
  {
   "cell_type": "code",
   "execution_count": null,
   "id": "63c52754",
   "metadata": {},
   "outputs": [],
   "source": []
  },
  {
   "cell_type": "code",
   "execution_count": null,
   "id": "e89bd3e7",
   "metadata": {},
   "outputs": [],
   "source": []
  },
  {
   "cell_type": "code",
   "execution_count": null,
   "id": "252fe82b",
   "metadata": {},
   "outputs": [],
   "source": []
  },
  {
   "cell_type": "code",
   "execution_count": null,
   "id": "d1f10569",
   "metadata": {},
   "outputs": [],
   "source": []
  },
  {
   "cell_type": "code",
   "execution_count": null,
   "id": "75781175",
   "metadata": {},
   "outputs": [],
   "source": []
  }
 ],
 "metadata": {
  "kernelspec": {
   "display_name": "Python 3 (ipykernel)",
   "language": "python",
   "name": "python3"
  },
  "language_info": {
   "codemirror_mode": {
    "name": "ipython",
    "version": 3
   },
   "file_extension": ".py",
   "mimetype": "text/x-python",
   "name": "python",
   "nbconvert_exporter": "python",
   "pygments_lexer": "ipython3",
   "version": "3.10.8"
  }
 },
 "nbformat": 4,
 "nbformat_minor": 5
}
