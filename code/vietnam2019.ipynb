{
 "cells": [
  {
   "cell_type": "code",
   "execution_count": 1,
   "id": "eeb697ea",
   "metadata": {},
   "outputs": [],
   "source": [
    "import pandas as pd\n",
    "import numpy as np\n",
    "import seaborn as sns\n",
    "import matplotlib.pyplot as plt"
   ]
  },
  {
   "cell_type": "code",
   "execution_count": 2,
   "id": "6501b94c",
   "metadata": {},
   "outputs": [],
   "source": [
    "df2019=pd.read_excel(r'C:\\Users\\user\\Downloads\\2019년 외래관광객조사 원자료\\df2019.xlsx')"
   ]
  },
  {
   "cell_type": "code",
   "execution_count": 3,
   "id": "d731aa5a",
   "metadata": {},
   "outputs": [
    {
     "data": {
      "text/html": [
       "<div>\n",
       "<style scoped>\n",
       "    .dataframe tbody tr th:only-of-type {\n",
       "        vertical-align: middle;\n",
       "    }\n",
       "\n",
       "    .dataframe tbody tr th {\n",
       "        vertical-align: top;\n",
       "    }\n",
       "\n",
       "    .dataframe thead th {\n",
       "        text-align: right;\n",
       "    }\n",
       "</style>\n",
       "<table border=\"1\" class=\"dataframe\">\n",
       "  <thead>\n",
       "    <tr style=\"text-align: right;\">\n",
       "      <th></th>\n",
       "      <th>Q1</th>\n",
       "      <th>Q2A1</th>\n",
       "      <th>Q2A2</th>\n",
       "      <th>Q2A3</th>\n",
       "      <th>Q2A4</th>\n",
       "      <th>Q2A5</th>\n",
       "      <th>Q2_1</th>\n",
       "      <th>Q3A1</th>\n",
       "      <th>Q3A2</th>\n",
       "      <th>Q3A3</th>\n",
       "      <th>...</th>\n",
       "      <th>D_COU1</th>\n",
       "      <th>D_COU2</th>\n",
       "      <th>D_GEN</th>\n",
       "      <th>D_AGE</th>\n",
       "      <th>D_Q5_1</th>\n",
       "      <th>D_Q12</th>\n",
       "      <th>D_Q1</th>\n",
       "      <th>D_Q1A</th>\n",
       "      <th>CITY</th>\n",
       "      <th>WT</th>\n",
       "    </tr>\n",
       "  </thead>\n",
       "  <tbody>\n",
       "    <tr>\n",
       "      <th>0</th>\n",
       "      <td>2</td>\n",
       "      <td>3</td>\n",
       "      <td>NaN</td>\n",
       "      <td>NaN</td>\n",
       "      <td>NaN</td>\n",
       "      <td>NaN</td>\n",
       "      <td>2.0</td>\n",
       "      <td>1.0</td>\n",
       "      <td>NaN</td>\n",
       "      <td>NaN</td>\n",
       "      <td>...</td>\n",
       "      <td>1</td>\n",
       "      <td>NaN</td>\n",
       "      <td>2</td>\n",
       "      <td>2</td>\n",
       "      <td>1</td>\n",
       "      <td>1</td>\n",
       "      <td>2</td>\n",
       "      <td>2</td>\n",
       "      <td>1</td>\n",
       "      <td>1.444420</td>\n",
       "    </tr>\n",
       "    <tr>\n",
       "      <th>1</th>\n",
       "      <td>1</td>\n",
       "      <td>3</td>\n",
       "      <td>NaN</td>\n",
       "      <td>NaN</td>\n",
       "      <td>NaN</td>\n",
       "      <td>NaN</td>\n",
       "      <td>3.0</td>\n",
       "      <td>1.0</td>\n",
       "      <td>NaN</td>\n",
       "      <td>NaN</td>\n",
       "      <td>...</td>\n",
       "      <td>1</td>\n",
       "      <td>NaN</td>\n",
       "      <td>2</td>\n",
       "      <td>2</td>\n",
       "      <td>1</td>\n",
       "      <td>1</td>\n",
       "      <td>1</td>\n",
       "      <td>1</td>\n",
       "      <td>1</td>\n",
       "      <td>1.444420</td>\n",
       "    </tr>\n",
       "    <tr>\n",
       "      <th>2</th>\n",
       "      <td>3</td>\n",
       "      <td>3</td>\n",
       "      <td>NaN</td>\n",
       "      <td>NaN</td>\n",
       "      <td>NaN</td>\n",
       "      <td>NaN</td>\n",
       "      <td>3.0</td>\n",
       "      <td>1.0</td>\n",
       "      <td>NaN</td>\n",
       "      <td>NaN</td>\n",
       "      <td>...</td>\n",
       "      <td>1</td>\n",
       "      <td>NaN</td>\n",
       "      <td>1</td>\n",
       "      <td>2</td>\n",
       "      <td>1</td>\n",
       "      <td>1</td>\n",
       "      <td>3</td>\n",
       "      <td>2</td>\n",
       "      <td>1</td>\n",
       "      <td>1.472539</td>\n",
       "    </tr>\n",
       "    <tr>\n",
       "      <th>3</th>\n",
       "      <td>10</td>\n",
       "      <td>1</td>\n",
       "      <td>NaN</td>\n",
       "      <td>NaN</td>\n",
       "      <td>NaN</td>\n",
       "      <td>NaN</td>\n",
       "      <td>NaN</td>\n",
       "      <td>1.0</td>\n",
       "      <td>NaN</td>\n",
       "      <td>NaN</td>\n",
       "      <td>...</td>\n",
       "      <td>1</td>\n",
       "      <td>NaN</td>\n",
       "      <td>2</td>\n",
       "      <td>3</td>\n",
       "      <td>1</td>\n",
       "      <td>1</td>\n",
       "      <td>4</td>\n",
       "      <td>2</td>\n",
       "      <td>1</td>\n",
       "      <td>1.923248</td>\n",
       "    </tr>\n",
       "    <tr>\n",
       "      <th>4</th>\n",
       "      <td>1</td>\n",
       "      <td>3</td>\n",
       "      <td>NaN</td>\n",
       "      <td>NaN</td>\n",
       "      <td>NaN</td>\n",
       "      <td>NaN</td>\n",
       "      <td>2.0</td>\n",
       "      <td>1.0</td>\n",
       "      <td>NaN</td>\n",
       "      <td>NaN</td>\n",
       "      <td>...</td>\n",
       "      <td>1</td>\n",
       "      <td>NaN</td>\n",
       "      <td>1</td>\n",
       "      <td>2</td>\n",
       "      <td>1</td>\n",
       "      <td>3</td>\n",
       "      <td>1</td>\n",
       "      <td>1</td>\n",
       "      <td>1</td>\n",
       "      <td>1.472539</td>\n",
       "    </tr>\n",
       "  </tbody>\n",
       "</table>\n",
       "<p>5 rows × 439 columns</p>\n",
       "</div>"
      ],
      "text/plain": [
       "   Q1  Q2A1  Q2A2  Q2A3  Q2A4  Q2A5  Q2_1  Q3A1  Q3A2  Q3A3  ...  D_COU1  \\\n",
       "0   2     3   NaN   NaN   NaN   NaN   2.0   1.0   NaN   NaN  ...       1   \n",
       "1   1     3   NaN   NaN   NaN   NaN   3.0   1.0   NaN   NaN  ...       1   \n",
       "2   3     3   NaN   NaN   NaN   NaN   3.0   1.0   NaN   NaN  ...       1   \n",
       "3  10     1   NaN   NaN   NaN   NaN   NaN   1.0   NaN   NaN  ...       1   \n",
       "4   1     3   NaN   NaN   NaN   NaN   2.0   1.0   NaN   NaN  ...       1   \n",
       "\n",
       "   D_COU2  D_GEN  D_AGE  D_Q5_1  D_Q12  D_Q1  D_Q1A  CITY        WT  \n",
       "0     NaN      2      2       1      1     2      2     1  1.444420  \n",
       "1     NaN      2      2       1      1     1      1     1  1.444420  \n",
       "2     NaN      1      2       1      1     3      2     1  1.472539  \n",
       "3     NaN      2      3       1      1     4      2     1  1.923248  \n",
       "4     NaN      1      2       1      3     1      1     1  1.472539  \n",
       "\n",
       "[5 rows x 439 columns]"
      ]
     },
     "execution_count": 3,
     "metadata": {},
     "output_type": "execute_result"
    }
   ],
   "source": [
    "df2019.head()"
   ]
  },
  {
   "cell_type": "code",
   "execution_count": 7,
   "id": "e3e1762e",
   "metadata": {},
   "outputs": [],
   "source": [
    "vietnam=df2019[df2019['D_COU1']==19]"
   ]
  },
  {
   "cell_type": "code",
   "execution_count": 13,
   "id": "ec0292fd",
   "metadata": {},
   "outputs": [
    {
     "data": {
      "text/html": [
       "<div>\n",
       "<style scoped>\n",
       "    .dataframe tbody tr th:only-of-type {\n",
       "        vertical-align: middle;\n",
       "    }\n",
       "\n",
       "    .dataframe tbody tr th {\n",
       "        vertical-align: top;\n",
       "    }\n",
       "\n",
       "    .dataframe thead th {\n",
       "        text-align: right;\n",
       "    }\n",
       "</style>\n",
       "<table border=\"1\" class=\"dataframe\">\n",
       "  <thead>\n",
       "    <tr style=\"text-align: right;\">\n",
       "      <th></th>\n",
       "      <th>Q1</th>\n",
       "      <th>Q2A1</th>\n",
       "      <th>Q2A2</th>\n",
       "      <th>Q2A3</th>\n",
       "      <th>Q2A4</th>\n",
       "      <th>Q2A5</th>\n",
       "      <th>Q2_1</th>\n",
       "      <th>Q3A1</th>\n",
       "      <th>Q3A2</th>\n",
       "      <th>Q3A3</th>\n",
       "      <th>...</th>\n",
       "      <th>D_COU1</th>\n",
       "      <th>D_COU2</th>\n",
       "      <th>D_GEN</th>\n",
       "      <th>D_AGE</th>\n",
       "      <th>D_Q5_1</th>\n",
       "      <th>D_Q12</th>\n",
       "      <th>D_Q1</th>\n",
       "      <th>D_Q1A</th>\n",
       "      <th>CITY</th>\n",
       "      <th>WT</th>\n",
       "    </tr>\n",
       "  </thead>\n",
       "  <tbody>\n",
       "    <tr>\n",
       "      <th>12892</th>\n",
       "      <td>1</td>\n",
       "      <td>1</td>\n",
       "      <td>NaN</td>\n",
       "      <td>NaN</td>\n",
       "      <td>NaN</td>\n",
       "      <td>NaN</td>\n",
       "      <td>NaN</td>\n",
       "      <td>1.0</td>\n",
       "      <td>NaN</td>\n",
       "      <td>NaN</td>\n",
       "      <td>...</td>\n",
       "      <td>19</td>\n",
       "      <td>NaN</td>\n",
       "      <td>2</td>\n",
       "      <td>2</td>\n",
       "      <td>4</td>\n",
       "      <td>1</td>\n",
       "      <td>1</td>\n",
       "      <td>1</td>\n",
       "      <td>5101</td>\n",
       "      <td>0.392012</td>\n",
       "    </tr>\n",
       "    <tr>\n",
       "      <th>12893</th>\n",
       "      <td>2</td>\n",
       "      <td>1</td>\n",
       "      <td>NaN</td>\n",
       "      <td>NaN</td>\n",
       "      <td>NaN</td>\n",
       "      <td>NaN</td>\n",
       "      <td>NaN</td>\n",
       "      <td>1.0</td>\n",
       "      <td>NaN</td>\n",
       "      <td>NaN</td>\n",
       "      <td>...</td>\n",
       "      <td>19</td>\n",
       "      <td>NaN</td>\n",
       "      <td>1</td>\n",
       "      <td>5</td>\n",
       "      <td>3</td>\n",
       "      <td>1</td>\n",
       "      <td>2</td>\n",
       "      <td>2</td>\n",
       "      <td>5101</td>\n",
       "      <td>0.404324</td>\n",
       "    </tr>\n",
       "    <tr>\n",
       "      <th>12894</th>\n",
       "      <td>2</td>\n",
       "      <td>1</td>\n",
       "      <td>NaN</td>\n",
       "      <td>NaN</td>\n",
       "      <td>NaN</td>\n",
       "      <td>NaN</td>\n",
       "      <td>NaN</td>\n",
       "      <td>1.0</td>\n",
       "      <td>NaN</td>\n",
       "      <td>NaN</td>\n",
       "      <td>...</td>\n",
       "      <td>19</td>\n",
       "      <td>NaN</td>\n",
       "      <td>1</td>\n",
       "      <td>3</td>\n",
       "      <td>3</td>\n",
       "      <td>1</td>\n",
       "      <td>2</td>\n",
       "      <td>2</td>\n",
       "      <td>5101</td>\n",
       "      <td>0.395894</td>\n",
       "    </tr>\n",
       "    <tr>\n",
       "      <th>12895</th>\n",
       "      <td>2</td>\n",
       "      <td>3</td>\n",
       "      <td>NaN</td>\n",
       "      <td>NaN</td>\n",
       "      <td>NaN</td>\n",
       "      <td>NaN</td>\n",
       "      <td>2.0</td>\n",
       "      <td>1.0</td>\n",
       "      <td>NaN</td>\n",
       "      <td>NaN</td>\n",
       "      <td>...</td>\n",
       "      <td>19</td>\n",
       "      <td>NaN</td>\n",
       "      <td>2</td>\n",
       "      <td>2</td>\n",
       "      <td>1</td>\n",
       "      <td>1</td>\n",
       "      <td>2</td>\n",
       "      <td>2</td>\n",
       "      <td>5101</td>\n",
       "      <td>0.392012</td>\n",
       "    </tr>\n",
       "    <tr>\n",
       "      <th>12896</th>\n",
       "      <td>1</td>\n",
       "      <td>3</td>\n",
       "      <td>NaN</td>\n",
       "      <td>NaN</td>\n",
       "      <td>NaN</td>\n",
       "      <td>NaN</td>\n",
       "      <td>4.0</td>\n",
       "      <td>1.0</td>\n",
       "      <td>NaN</td>\n",
       "      <td>NaN</td>\n",
       "      <td>...</td>\n",
       "      <td>19</td>\n",
       "      <td>NaN</td>\n",
       "      <td>2</td>\n",
       "      <td>2</td>\n",
       "      <td>1</td>\n",
       "      <td>1</td>\n",
       "      <td>1</td>\n",
       "      <td>1</td>\n",
       "      <td>5101</td>\n",
       "      <td>0.392012</td>\n",
       "    </tr>\n",
       "    <tr>\n",
       "      <th>...</th>\n",
       "      <td>...</td>\n",
       "      <td>...</td>\n",
       "      <td>...</td>\n",
       "      <td>...</td>\n",
       "      <td>...</td>\n",
       "      <td>...</td>\n",
       "      <td>...</td>\n",
       "      <td>...</td>\n",
       "      <td>...</td>\n",
       "      <td>...</td>\n",
       "      <td>...</td>\n",
       "      <td>...</td>\n",
       "      <td>...</td>\n",
       "      <td>...</td>\n",
       "      <td>...</td>\n",
       "      <td>...</td>\n",
       "      <td>...</td>\n",
       "      <td>...</td>\n",
       "      <td>...</td>\n",
       "      <td>...</td>\n",
       "      <td>...</td>\n",
       "    </tr>\n",
       "    <tr>\n",
       "      <th>13635</th>\n",
       "      <td>1</td>\n",
       "      <td>2</td>\n",
       "      <td>NaN</td>\n",
       "      <td>NaN</td>\n",
       "      <td>NaN</td>\n",
       "      <td>NaN</td>\n",
       "      <td>2.0</td>\n",
       "      <td>1.0</td>\n",
       "      <td>NaN</td>\n",
       "      <td>NaN</td>\n",
       "      <td>...</td>\n",
       "      <td>19</td>\n",
       "      <td>NaN</td>\n",
       "      <td>1</td>\n",
       "      <td>3</td>\n",
       "      <td>2</td>\n",
       "      <td>1</td>\n",
       "      <td>1</td>\n",
       "      <td>1</td>\n",
       "      <td>5153</td>\n",
       "      <td>0.235207</td>\n",
       "    </tr>\n",
       "    <tr>\n",
       "      <th>13636</th>\n",
       "      <td>1</td>\n",
       "      <td>2</td>\n",
       "      <td>NaN</td>\n",
       "      <td>NaN</td>\n",
       "      <td>NaN</td>\n",
       "      <td>NaN</td>\n",
       "      <td>2.0</td>\n",
       "      <td>1.0</td>\n",
       "      <td>NaN</td>\n",
       "      <td>NaN</td>\n",
       "      <td>...</td>\n",
       "      <td>19</td>\n",
       "      <td>NaN</td>\n",
       "      <td>2</td>\n",
       "      <td>4</td>\n",
       "      <td>1</td>\n",
       "      <td>2</td>\n",
       "      <td>1</td>\n",
       "      <td>1</td>\n",
       "      <td>5154</td>\n",
       "      <td>0.528949</td>\n",
       "    </tr>\n",
       "    <tr>\n",
       "      <th>13637</th>\n",
       "      <td>1</td>\n",
       "      <td>2</td>\n",
       "      <td>NaN</td>\n",
       "      <td>NaN</td>\n",
       "      <td>NaN</td>\n",
       "      <td>NaN</td>\n",
       "      <td>2.0</td>\n",
       "      <td>1.0</td>\n",
       "      <td>NaN</td>\n",
       "      <td>NaN</td>\n",
       "      <td>...</td>\n",
       "      <td>19</td>\n",
       "      <td>NaN</td>\n",
       "      <td>2</td>\n",
       "      <td>3</td>\n",
       "      <td>1</td>\n",
       "      <td>2</td>\n",
       "      <td>1</td>\n",
       "      <td>1</td>\n",
       "      <td>5155</td>\n",
       "      <td>0.488184</td>\n",
       "    </tr>\n",
       "    <tr>\n",
       "      <th>13638</th>\n",
       "      <td>1</td>\n",
       "      <td>3</td>\n",
       "      <td>NaN</td>\n",
       "      <td>NaN</td>\n",
       "      <td>NaN</td>\n",
       "      <td>NaN</td>\n",
       "      <td>6.0</td>\n",
       "      <td>1.0</td>\n",
       "      <td>NaN</td>\n",
       "      <td>NaN</td>\n",
       "      <td>...</td>\n",
       "      <td>19</td>\n",
       "      <td>NaN</td>\n",
       "      <td>1</td>\n",
       "      <td>6</td>\n",
       "      <td>1</td>\n",
       "      <td>2</td>\n",
       "      <td>1</td>\n",
       "      <td>1</td>\n",
       "      <td>5156</td>\n",
       "      <td>1.614635</td>\n",
       "    </tr>\n",
       "    <tr>\n",
       "      <th>13639</th>\n",
       "      <td>1</td>\n",
       "      <td>1</td>\n",
       "      <td>NaN</td>\n",
       "      <td>NaN</td>\n",
       "      <td>NaN</td>\n",
       "      <td>NaN</td>\n",
       "      <td>NaN</td>\n",
       "      <td>1.0</td>\n",
       "      <td>NaN</td>\n",
       "      <td>NaN</td>\n",
       "      <td>...</td>\n",
       "      <td>19</td>\n",
       "      <td>NaN</td>\n",
       "      <td>2</td>\n",
       "      <td>4</td>\n",
       "      <td>1</td>\n",
       "      <td>2</td>\n",
       "      <td>1</td>\n",
       "      <td>1</td>\n",
       "      <td>5157</td>\n",
       "      <td>0.587463</td>\n",
       "    </tr>\n",
       "  </tbody>\n",
       "</table>\n",
       "<p>748 rows × 439 columns</p>\n",
       "</div>"
      ],
      "text/plain": [
       "       Q1  Q2A1  Q2A2  Q2A3  Q2A4  Q2A5  Q2_1  Q3A1  Q3A2  Q3A3  ...  D_COU1  \\\n",
       "12892   1     1   NaN   NaN   NaN   NaN   NaN   1.0   NaN   NaN  ...      19   \n",
       "12893   2     1   NaN   NaN   NaN   NaN   NaN   1.0   NaN   NaN  ...      19   \n",
       "12894   2     1   NaN   NaN   NaN   NaN   NaN   1.0   NaN   NaN  ...      19   \n",
       "12895   2     3   NaN   NaN   NaN   NaN   2.0   1.0   NaN   NaN  ...      19   \n",
       "12896   1     3   NaN   NaN   NaN   NaN   4.0   1.0   NaN   NaN  ...      19   \n",
       "...    ..   ...   ...   ...   ...   ...   ...   ...   ...   ...  ...     ...   \n",
       "13635   1     2   NaN   NaN   NaN   NaN   2.0   1.0   NaN   NaN  ...      19   \n",
       "13636   1     2   NaN   NaN   NaN   NaN   2.0   1.0   NaN   NaN  ...      19   \n",
       "13637   1     2   NaN   NaN   NaN   NaN   2.0   1.0   NaN   NaN  ...      19   \n",
       "13638   1     3   NaN   NaN   NaN   NaN   6.0   1.0   NaN   NaN  ...      19   \n",
       "13639   1     1   NaN   NaN   NaN   NaN   NaN   1.0   NaN   NaN  ...      19   \n",
       "\n",
       "       D_COU2  D_GEN  D_AGE  D_Q5_1  D_Q12  D_Q1  D_Q1A  CITY        WT  \n",
       "12892     NaN      2      2       4      1     1      1  5101  0.392012  \n",
       "12893     NaN      1      5       3      1     2      2  5101  0.404324  \n",
       "12894     NaN      1      3       3      1     2      2  5101  0.395894  \n",
       "12895     NaN      2      2       1      1     2      2  5101  0.392012  \n",
       "12896     NaN      2      2       1      1     1      1  5101  0.392012  \n",
       "...       ...    ...    ...     ...    ...   ...    ...   ...       ...  \n",
       "13635     NaN      1      3       2      1     1      1  5153  0.235207  \n",
       "13636     NaN      2      4       1      2     1      1  5154  0.528949  \n",
       "13637     NaN      2      3       1      2     1      1  5155  0.488184  \n",
       "13638     NaN      1      6       1      2     1      1  5156  1.614635  \n",
       "13639     NaN      2      4       1      2     1      1  5157  0.587463  \n",
       "\n",
       "[748 rows x 439 columns]"
      ]
     },
     "execution_count": 13,
     "metadata": {},
     "output_type": "execute_result"
    }
   ],
   "source": [
    "vietnam"
   ]
  },
  {
   "cell_type": "markdown",
   "id": "dc2033da",
   "metadata": {},
   "source": [
    "### 한국 방문 선택 시 고려 요인"
   ]
  },
  {
   "cell_type": "code",
   "execution_count": 17,
   "id": "667414d9",
   "metadata": {},
   "outputs": [
    {
     "data": {
      "text/plain": [
       "2.0     140\n",
       "1.0     138\n",
       "3.0     117\n",
       "7.0      61\n",
       "10.0     51\n",
       "4.0      49\n",
       "5.0      26\n",
       "6.0      20\n",
       "13.0     10\n",
       "11.0      8\n",
       "8.0       8\n",
       "12.0      5\n",
       "9.0       1\n",
       "Name: Q5_2A1, dtype: int64"
      ]
     },
     "execution_count": 17,
     "metadata": {},
     "output_type": "execute_result"
    }
   ],
   "source": [
    "vietnam['Q5_2A1'].value_counts()"
   ]
  },
  {
   "cell_type": "markdown",
   "id": "e12f4138",
   "metadata": {},
   "source": [
    "###### 1순위  \n",
    "1순위: 쇼핑   \n",
    "2순위: 음식/미식 탐방   \n",
    "3순위: 자연풍경 감상   \n",
    "4순위: 유흥/놀이시설 체험    \n",
    "5순위: 휴가시간    "
   ]
  },
  {
   "cell_type": "code",
   "execution_count": 18,
   "id": "8f8b23b0",
   "metadata": {},
   "outputs": [
    {
     "data": {
      "text/plain": [
       "2.0     153\n",
       "1.0     119\n",
       "3.0     104\n",
       "7.0      67\n",
       "4.0      55\n",
       "10.0     30\n",
       "5.0      22\n",
       "12.0      9\n",
       "11.0      9\n",
       "6.0       8\n",
       "8.0       5\n",
       "Name: Q5_2A2, dtype: int64"
      ]
     },
     "execution_count": 18,
     "metadata": {},
     "output_type": "execute_result"
    }
   ],
   "source": [
    "vietnam['Q5_2A2'].value_counts()"
   ]
  },
  {
   "cell_type": "markdown",
   "id": "9a69c0ab",
   "metadata": {},
   "source": [
    "###### 2순위  \n",
    "1순위: 쇼핑   \n",
    "2순위: 음식/미식 탐방   \n",
    "3순위: 자연풍경 감상   \n",
    "4순위: 유흥/놀이시설 체험    \n",
    "5순위: 역사/문화 유적/ 전통문화 체험"
   ]
  },
  {
   "cell_type": "code",
   "execution_count": 19,
   "id": "c5ba1205",
   "metadata": {},
   "outputs": [
    {
     "data": {
      "text/plain": [
       "3.0     102\n",
       "1.0      87\n",
       "2.0      72\n",
       "7.0      67\n",
       "4.0      59\n",
       "5.0      39\n",
       "10.0     19\n",
       "12.0     14\n",
       "6.0      13\n",
       "11.0     13\n",
       "8.0       5\n",
       "9.0       1\n",
       "13.0      1\n",
       "Name: Q5_2A3, dtype: int64"
      ]
     },
     "execution_count": 19,
     "metadata": {},
     "output_type": "execute_result"
    }
   ],
   "source": [
    "vietnam['Q5_2A3'].value_counts()"
   ]
  },
  {
   "cell_type": "markdown",
   "id": "81091c57",
   "metadata": {},
   "source": [
    "###### 3순위  \n",
    "1순위: 자연풍경 감상    \n",
    "2순위: 음식/미식 탐방      \n",
    "3순위: 쇼핑   \n",
    "4순위: 유흥/놀이시설 체험       \n",
    "5순위: 역사/문화 유적/ 전통문화 체험   "
   ]
  },
  {
   "cell_type": "markdown",
   "id": "5bba8a1f",
   "metadata": {},
   "source": [
    "### 주요 참여 활동"
   ]
  },
  {
   "cell_type": "code",
   "execution_count": 22,
   "id": "e7170353",
   "metadata": {},
   "outputs": [
    {
     "data": {
      "text/plain": [
       "1     696\n",
       "2      40\n",
       "11      7\n",
       "3       3\n",
       "12      2\n",
       "Name: Q9_1A1, dtype: int64"
      ]
     },
     "execution_count": 22,
     "metadata": {},
     "output_type": "execute_result"
    }
   ],
   "source": [
    "vietnam['Q9_1A1'].value_counts()"
   ]
  },
  {
   "cell_type": "code",
   "execution_count": 23,
   "id": "a6cc0406",
   "metadata": {},
   "outputs": [
    {
     "data": {
      "text/plain": [
       "38"
      ]
     },
     "execution_count": 23,
     "metadata": {},
     "output_type": "execute_result"
    }
   ],
   "source": [
    "vietnam.iloc[:42,62].count()"
   ]
  },
  {
   "cell_type": "code",
   "execution_count": 24,
   "id": "e6372a95",
   "metadata": {},
   "outputs": [
    {
     "data": {
      "text/plain": [
       "2.0     667\n",
       "3.0      42\n",
       "11.0     11\n",
       "4.0       8\n",
       "14.0      1\n",
       "6.0       1\n",
       "5.0       1\n",
       "8.0       1\n",
       "12.0      1\n",
       "Name: Q9_1A2, dtype: int64"
      ]
     },
     "execution_count": 24,
     "metadata": {},
     "output_type": "execute_result"
    }
   ],
   "source": [
    "vietnam['Q9_1A2'].value_counts()"
   ]
  },
  {
   "cell_type": "code",
   "execution_count": 43,
   "id": "bd61ce13",
   "metadata": {},
   "outputs": [
    {
     "data": {
      "text/plain": [
       "10.0    9\n",
       "9.0     5\n",
       "12.0    2\n",
       "13.0    2\n",
       "Name: Q9_1A9, dtype: int64"
      ]
     },
     "execution_count": 43,
     "metadata": {},
     "output_type": "execute_result"
    }
   ],
   "source": [
    "vietnam['Q9_1A9'].value_counts()"
   ]
  },
  {
   "cell_type": "code",
   "execution_count": null,
   "id": "1dc7dad9",
   "metadata": {},
   "outputs": [],
   "source": []
  },
  {
   "cell_type": "markdown",
   "id": "f0b758d0",
   "metadata": {},
   "source": [
    "### 만족한 활동"
   ]
  },
  {
   "cell_type": "code",
   "execution_count": 46,
   "id": "81a59dd1",
   "metadata": {},
   "outputs": [
    {
     "data": {
      "text/plain": [
       "1     205\n",
       "2     177\n",
       "3     129\n",
       "4      53\n",
       "8      36\n",
       "5      28\n",
       "6      28\n",
       "11     27\n",
       "7      26\n",
       "9      17\n",
       "12      9\n",
       "13      5\n",
       "10      5\n",
       "14      3\n",
       "Name: Q9_2A1, dtype: int64"
      ]
     },
     "execution_count": 46,
     "metadata": {},
     "output_type": "execute_result"
    }
   ],
   "source": [
    "vietnam['Q9_2A1'].value_counts()"
   ]
  },
  {
   "cell_type": "markdown",
   "id": "290f4aaa",
   "metadata": {},
   "source": [
    "###### 1순위  \n",
    "1순위: 식도락 관광   \n",
    "2순위: 쇼핑  \n",
    "3순위: 자연풍경 감상   \n",
    "4순위: 고궁/역사 유적지 방문  \n",
    "5순위: 유흥/ 오락 "
   ]
  },
  {
   "cell_type": "code",
   "execution_count": 47,
   "id": "2b279598",
   "metadata": {},
   "outputs": [
    {
     "data": {
      "text/plain": [
       "2.0     216\n",
       "1.0     161\n",
       "3.0     116\n",
       "4.0      77\n",
       "5.0      44\n",
       "8.0      36\n",
       "6.0      26\n",
       "11.0     11\n",
       "7.0       7\n",
       "10.0      6\n",
       "9.0       6\n",
       "12.0      4\n",
       "13.0      1\n",
       "Name: Q9_2A2, dtype: int64"
      ]
     },
     "execution_count": 47,
     "metadata": {},
     "output_type": "execute_result"
    }
   ],
   "source": [
    "vietnam['Q9_2A2'].value_counts()"
   ]
  },
  {
   "cell_type": "markdown",
   "id": "28804e57",
   "metadata": {},
   "source": [
    "###### 2순위  \n",
    "1순위: 쇼핑   \n",
    "2순위: 식도락 관광   \n",
    "3순위: 자연경관 감상   \n",
    "4순위: 유흥/놀이시설 체험    \n",
    "5순위: 전통문화체험 "
   ]
  },
  {
   "cell_type": "code",
   "execution_count": 48,
   "id": "0bf5a5de",
   "metadata": {
    "scrolled": true
   },
   "outputs": [
    {
     "data": {
      "text/plain": [
       "1.0     128\n",
       "3.0     124\n",
       "2.0     111\n",
       "4.0      79\n",
       "5.0      47\n",
       "8.0      39\n",
       "6.0      27\n",
       "11.0     13\n",
       "7.0      11\n",
       "9.0      10\n",
       "10.0      2\n",
       "Name: Q9_2A3, dtype: int64"
      ]
     },
     "execution_count": 48,
     "metadata": {},
     "output_type": "execute_result"
    }
   ],
   "source": [
    "vietnam['Q9_2A3'].value_counts()"
   ]
  },
  {
   "cell_type": "markdown",
   "id": "dd1ab40e",
   "metadata": {},
   "source": [
    "###### 3순위  \n",
    "1순위: 식도락 관광   \n",
    "2순위: 자연풍경 감상   \n",
    "3순위: 쇼핑 \n",
    "4순위: 고궁/역사 유적지 방문    \n",
    "5순위: 전통문화체험  "
   ]
  },
  {
   "cell_type": "markdown",
   "id": "fad8ed3b",
   "metadata": {},
   "source": [
    "### 방문지역"
   ]
  },
  {
   "cell_type": "code",
   "execution_count": 56,
   "id": "eabb80e5",
   "metadata": {},
   "outputs": [
    {
     "name": "stdout",
     "output_type": "stream",
     "text": [
      "94\n",
      "110\n"
     ]
    }
   ],
   "source": [
    "print(vietnam.columns.get_loc('Q10_1B1'))\n",
    "print(vietnam.columns.get_loc('Q10_1B17'))"
   ]
  },
  {
   "cell_type": "code",
   "execution_count": 58,
   "id": "047589a7",
   "metadata": {},
   "outputs": [
    {
     "data": {
      "text/plain": [
       "Q10_1B1     607\n",
       "Q10_1B2      99\n",
       "Q10_1B3      22\n",
       "Q10_1B4      42\n",
       "Q10_1B5       5\n",
       "Q10_1B6      11\n",
       "Q10_1B7       8\n",
       "Q10_1B8     175\n",
       "Q10_1B9     191\n",
       "Q10_1B10      3\n",
       "Q10_1B11     14\n",
       "Q10_1B12      9\n",
       "Q10_1B13     18\n",
       "Q10_1B14     26\n",
       "Q10_1B15     30\n",
       "Q10_1B16     38\n",
       "dtype: int64"
      ]
     },
     "execution_count": 58,
     "metadata": {},
     "output_type": "execute_result"
    }
   ],
   "source": [
    "vietnam.iloc[:,94:110].count()"
   ]
  },
  {
   "cell_type": "markdown",
   "id": "ed81a986",
   "metadata": {},
   "source": [
    "### 주요이용숙박시설"
   ]
  },
  {
   "cell_type": "code",
   "execution_count": 68,
   "id": "e38474c6",
   "metadata": {},
   "outputs": [
    {
     "name": "stdout",
     "output_type": "stream",
     "text": [
      "196\n",
      "203\n"
     ]
    }
   ],
   "source": [
    "print(vietnam.columns.get_loc('Q10_5A1'))\n",
    "print(vietnam.columns.get_loc('Q10_5A8'))"
   ]
  },
  {
   "cell_type": "code",
   "execution_count": 72,
   "id": "d096a3a4",
   "metadata": {},
   "outputs": [
    {
     "data": {
      "text/plain": [
       "Q10_5A1    543\n",
       "Q10_5A2     54\n",
       "Q10_5A3     32\n",
       "Q10_5A4      9\n",
       "Q10_5A5    137\n",
       "Q10_5A6     14\n",
       "Q10_5A7     27\n",
       "dtype: int64"
      ]
     },
     "execution_count": 72,
     "metadata": {},
     "output_type": "execute_result"
    }
   ],
   "source": [
    "vietnam.iloc[:,196:203].count()"
   ]
  },
  {
   "cell_type": "markdown",
   "id": "aa64a05c",
   "metadata": {},
   "source": [
    " 1위: 호텔   \n",
    " 2위: 친척 또는 친구집   \n",
    " 3위: 모텔/여관   \n",
    " 4위: 게스트하우스/ 호스텔   \n",
    " 5위: 민박/공유숙박   "
   ]
  },
  {
   "cell_type": "code",
   "execution_count": null,
   "id": "2ff929a1",
   "metadata": {},
   "outputs": [],
   "source": []
  }
 ],
 "metadata": {
  "kernelspec": {
   "display_name": "Python 3 (ipykernel)",
   "language": "python",
   "name": "python3"
  },
  "language_info": {
   "codemirror_mode": {
    "name": "ipython",
    "version": 3
   },
   "file_extension": ".py",
   "mimetype": "text/x-python",
   "name": "python",
   "nbconvert_exporter": "python",
   "pygments_lexer": "ipython3",
   "version": "3.10.8"
  }
 },
 "nbformat": 4,
 "nbformat_minor": 5
}
